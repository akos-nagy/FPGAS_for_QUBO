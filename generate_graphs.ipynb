{
  "cells": [
    {
      "cell_type": "markdown",
      "metadata": {
        "id": "SnrnSUwKbdgd"
      },
      "source": [
        "# Preparations"
      ],
      "id": "SnrnSUwKbdgd"
    },
    {
      "cell_type": "markdown",
      "metadata": {
        "id": "rvP-9UAL2_mW"
      },
      "source": [
        "## Loading packages"
      ],
      "id": "rvP-9UAL2_mW"
    },
    {
      "cell_type": "code",
      "execution_count": null,
      "metadata": {
        "colab": {
          "base_uri": "https://localhost:8080/"
        },
        "id": "FvVRw1VUam2l",
        "outputId": "61e07b93-9fcf-407e-d424-0549efdaea8f"
      },
      "outputs": [
        {
          "name": "stdout",
          "output_type": "stream",
          "text": [
            "Collecting qiskit\n",
            "  Downloading qiskit-0.44.0.tar.gz (8.9 kB)\n",
            "  Installing build dependencies ... \u001b[?25l\u001b[?25hdone\n",
            "  Getting requirements to build wheel ... \u001b[?25l\u001b[?25hdone\n",
            "  Installing backend dependencies ... \u001b[?25l\u001b[?25hdone\n",
            "  Preparing metadata (pyproject.toml) ... \u001b[?25l\u001b[?25hdone\n",
            "Collecting qiskit_aer\n",
            "  Downloading qiskit_aer-0.12.2-cp310-cp310-manylinux_2_17_x86_64.manylinux2014_x86_64.whl (12.8 MB)\n",
            "\u001b[2K     \u001b[90m━━━━━━━━━━━━━━━━━━━━━━━━━━━━━━━━━━━━━━━━\u001b[0m \u001b[32m12.8/12.8 MB\u001b[0m \u001b[31m17.5 MB/s\u001b[0m eta \u001b[36m0:00:00\u001b[0m\n",
            "\u001b[?25hCollecting qiskit-terra==0.25.0 (from qiskit)\n",
            "  Downloading qiskit_terra-0.25.0-cp38-abi3-manylinux_2_17_x86_64.manylinux2014_x86_64.whl (6.1 MB)\n",
            "\u001b[2K     \u001b[90m━━━━━━━━━━━━━━━━━━━━━━━━━━━━━━━━━━━━━━━━\u001b[0m \u001b[32m6.1/6.1 MB\u001b[0m \u001b[31m54.8 MB/s\u001b[0m eta \u001b[36m0:00:00\u001b[0m\n",
            "\u001b[?25hCollecting rustworkx>=0.13.0 (from qiskit-terra==0.25.0->qiskit)\n",
            "  Downloading rustworkx-0.13.1-cp310-cp310-manylinux_2_17_x86_64.manylinux2014_x86_64.whl (2.0 MB)\n",
            "\u001b[2K     \u001b[90m━━━━━━━━━━━━━━━━━━━━━━━━━━━━━━━━━━━━━━━━\u001b[0m \u001b[32m2.0/2.0 MB\u001b[0m \u001b[31m57.4 MB/s\u001b[0m eta \u001b[36m0:00:00\u001b[0m\n",
            "\u001b[?25hRequirement already satisfied: numpy>=1.17 in /usr/local/lib/python3.10/dist-packages (from qiskit-terra==0.25.0->qiskit) (1.22.4)\n",
            "Collecting ply>=3.10 (from qiskit-terra==0.25.0->qiskit)\n",
            "  Downloading ply-3.11-py2.py3-none-any.whl (49 kB)\n",
            "\u001b[2K     \u001b[90m━━━━━━━━━━━━━━━━━━━━━━━━━━━━━━━━━━━━━━━━\u001b[0m \u001b[32m49.6/49.6 kB\u001b[0m \u001b[31m5.3 MB/s\u001b[0m eta \u001b[36m0:00:00\u001b[0m\n",
            "\u001b[?25hRequirement already satisfied: psutil>=5 in /usr/local/lib/python3.10/dist-packages (from qiskit-terra==0.25.0->qiskit) (5.9.5)\n",
            "Requirement already satisfied: scipy>=1.5 in /usr/local/lib/python3.10/dist-packages (from qiskit-terra==0.25.0->qiskit) (1.10.1)\n",
            "Requirement already satisfied: sympy>=1.3 in /usr/local/lib/python3.10/dist-packages (from qiskit-terra==0.25.0->qiskit) (1.11.1)\n",
            "Collecting dill>=0.3 (from qiskit-terra==0.25.0->qiskit)\n",
            "  Downloading dill-0.3.7-py3-none-any.whl (115 kB)\n",
            "\u001b[2K     \u001b[90m━━━━━━━━━━━━━━━━━━━━━━━━━━━━━━━━━━━━━━\u001b[0m \u001b[32m115.3/115.3 kB\u001b[0m \u001b[31m12.6 MB/s\u001b[0m eta \u001b[36m0:00:00\u001b[0m\n",
            "\u001b[?25hRequirement already satisfied: python-dateutil>=2.8.0 in /usr/local/lib/python3.10/dist-packages (from qiskit-terra==0.25.0->qiskit) (2.8.2)\n",
            "Collecting stevedore>=3.0.0 (from qiskit-terra==0.25.0->qiskit)\n",
            "  Downloading stevedore-5.1.0-py3-none-any.whl (49 kB)\n",
            "\u001b[2K     \u001b[90m━━━━━━━━━━━━━━━━━━━━━━━━━━━━━━━━━━━━━━━━\u001b[0m \u001b[32m49.6/49.6 kB\u001b[0m \u001b[31m5.3 MB/s\u001b[0m eta \u001b[36m0:00:00\u001b[0m\n",
            "\u001b[?25hCollecting symengine<0.10,>=0.9 (from qiskit-terra==0.25.0->qiskit)\n",
            "  Downloading symengine-0.9.2-cp310-cp310-manylinux2010_x86_64.whl (37.5 MB)\n",
            "\u001b[2K     \u001b[90m━━━━━━━━━━━━━━━━━━━━━━━━━━━━━━━━━━━━━━━━\u001b[0m \u001b[32m37.5/37.5 MB\u001b[0m \u001b[31m21.2 MB/s\u001b[0m eta \u001b[36m0:00:00\u001b[0m\n",
            "\u001b[?25hRequirement already satisfied: typing-extensions in /usr/local/lib/python3.10/dist-packages (from qiskit-terra==0.25.0->qiskit) (4.7.1)\n",
            "Requirement already satisfied: six>=1.5 in /usr/local/lib/python3.10/dist-packages (from python-dateutil>=2.8.0->qiskit-terra==0.25.0->qiskit) (1.16.0)\n",
            "Collecting pbr!=2.1.0,>=2.0.0 (from stevedore>=3.0.0->qiskit-terra==0.25.0->qiskit)\n",
            "  Downloading pbr-5.11.1-py2.py3-none-any.whl (112 kB)\n",
            "\u001b[2K     \u001b[90m━━━━━━━━━━━━━━━━━━━━━━━━━━━━━━━━━━━━━━\u001b[0m \u001b[32m112.7/112.7 kB\u001b[0m \u001b[31m12.9 MB/s\u001b[0m eta \u001b[36m0:00:00\u001b[0m\n",
            "\u001b[?25hRequirement already satisfied: mpmath>=0.19 in /usr/local/lib/python3.10/dist-packages (from sympy>=1.3->qiskit-terra==0.25.0->qiskit) (1.3.0)\n",
            "Building wheels for collected packages: qiskit\n",
            "  Building wheel for qiskit (pyproject.toml) ... \u001b[?25l\u001b[?25hdone\n",
            "  Created wheel for qiskit: filename=qiskit-0.44.0-py3-none-any.whl size=7620 sha256=1c3f791f917f2ae34f7f8a0451d20d70bd20a183e70cf791355a872063234a02\n",
            "  Stored in directory: /root/.cache/pip/wheels/45/90/00/70879ea1304b7b44cde9f737d2a819a87346d62666b3a89de1\n",
            "Successfully built qiskit\n",
            "Installing collected packages: ply, symengine, rustworkx, pbr, dill, stevedore, qiskit-terra, qiskit_aer, qiskit\n",
            "Successfully installed dill-0.3.7 pbr-5.11.1 ply-3.11 qiskit-0.44.0 qiskit-terra-0.25.0 qiskit_aer-0.12.2 rustworkx-0.13.1 stevedore-5.1.0 symengine-0.9.2\n"
          ]
        }
      ],
      "source": [
        "%pip install qiskit qiskit_aer"
      ],
      "id": "FvVRw1VUam2l"
    },
    {
      "cell_type": "code",
      "execution_count": null,
      "metadata": {
        "id": "b2de599b-522e-449a-bedd-7bbcf7173259"
      },
      "outputs": [],
      "source": [
        "from itertools import combinations, permutations, groupby\n",
        "import networkx as nx\n",
        "from networkx.algorithms.approximation import one_exchange\n",
        "import numpy as np\n",
        "import pandas as pd\n",
        "import matplotlib.pyplot as plt\n",
        "import random\n",
        "\n",
        "import tqdm\n",
        "from multiprocessing import Pool\n",
        "\n",
        "from qiskit import QuantumCircuit, QuantumRegister, ClassicalRegister, execute, transpile\n",
        "from qiskit_aer import AerSimulator\n",
        "from qiskit_aer.noise import NoiseModel, pauli_error, ReadoutError, thermal_relaxation_error, depolarizing_error\n",
        "from qiskit.quantum_info import Statevector, DensityMatrix"
      ],
      "id": "b2de599b-522e-449a-bedd-7bbcf7173259"
    },
    {
      "cell_type": "markdown",
      "metadata": {
        "id": "uhdJopCtbgVe"
      },
      "source": [
        "## Graph generator"
      ],
      "id": "uhdJopCtbgVe"
    },
    {
      "cell_type": "code",
      "execution_count": null,
      "metadata": {
        "id": "50b52509-aace-47fb-a03f-039ee39f6e17"
      },
      "outputs": [],
      "source": [
        "\"\"\"\n",
        "generate all subsets\n",
        "\"\"\"\n",
        "def subsets(ls):\n",
        "    res = []\n",
        "    def dfs(i, subset):\n",
        "        # base case\n",
        "        if i == len(ls):\n",
        "            res.append(subset.copy())\n",
        "            return\n",
        "\n",
        "        dfs(i + 1, subset)\n",
        "\n",
        "        subset.append(ls[i])\n",
        "        dfs(i + 1, subset)\n",
        "        subset.pop()\n",
        "\n",
        "    dfs(0, [])\n",
        "    return res\n",
        "\n",
        "\"\"\"\n",
        "check if graph g1 is isomorphic to any graph in the list\n",
        "\"\"\"\n",
        "def is_unique(ls, g1):\n",
        "    if not ls:\n",
        "        return True\n",
        "    for g2 in ls:\n",
        "        if nx.is_isomorphic(g1, g2):\n",
        "            return False\n",
        "    return True\n",
        "\n",
        "\"\"\"\n",
        "returns {graph: multiplicity}\n",
        "\"\"\"\n",
        "def generate_connected_graphs(n):  # n vertices\n",
        "    all_edges = list(combinations(range(n), 2))\n",
        "    edge_subsets = [i for i in subsets(all_edges) if len(i) >= n - 1] # rule out the obvious cases\n",
        "    res = {}\n",
        "\n",
        "    for subset in edge_subsets:\n",
        "        G = nx.Graph()\n",
        "        G.add_nodes_from(range(n))\n",
        "        G.add_edges_from(subset)\n",
        "\n",
        "        if nx.is_connected(G):\n",
        "            if is_unique(list(res.keys()), G):\n",
        "                res[G] = 1\n",
        "            else:\n",
        "                for k in res.keys():\n",
        "                    if nx.is_isomorphic(k, G):\n",
        "                        res[k] += 1\n",
        "                        break\n",
        "\n",
        "    return res"
      ],
      "id": "50b52509-aace-47fb-a03f-039ee39f6e17"
    },
    {
      "cell_type": "code",
      "execution_count": null,
      "metadata": {
        "id": "76d6c6e5-1e0d-4fe5-92e4-aecdcb2c9c8f"
      },
      "outputs": [],
      "source": [
        "def ErdosEdwards(n, m):  # num of vertices and num of edges\n",
        "    return int(np.ceil((2 * m + n - 1)/4))\n",
        "\n",
        "def get_graph_data(G, m):\n",
        "    GraphLaplacian = np.array(nx.laplacian_matrix(G).toarray())\n",
        "    NumberOfVerticies, NumberOfEdges = G.number_of_nodes(), G.number_of_edges()\n",
        "    threshold = ErdosEdwards(NumberOfEdges, NumberOfVerticies)\n",
        "\n",
        "    maxdegvertex = np.where(np.diag(GraphLaplacian) == max(np.diag(GraphLaplacian)))[0][0]\n",
        "    if maxdegvertex + 1 != NumberOfVerticies:\n",
        "        GraphLaplacian[[maxdegvertex, -1], :] = GraphLaplacian[[-1, maxdegvertex], :]\n",
        "        GraphLaplacian[:, [maxdegvertex, -1]] = GraphLaplacian[:, [-1, maxdegvertex]]\n",
        "    QuadraticForm = GraphLaplacian[np.ix_(np.arange(NumberOfVerticies - 1), np.arange(NumberOfVerticies - 1))]\n",
        "\n",
        "    # cut-function and MaxCut\n",
        "    cuts = np.zeros(2 ** len(QuadraticForm), dtype=int)\n",
        "    for x in range(1, 2 ** len(QuadraticForm)):\n",
        "        conf = (x >> np.arange(len(QuadraticForm)))%2\n",
        "        cuts[x] = np.matmul(conf, np.matmul(QuadraticForm, np.transpose(conf)))\n",
        "    MaxCut = max(cuts)\n",
        "\n",
        "    # cut disctibution and ratios\n",
        "    random_chance, Lambda, dp = {i: 0 for i in range(MaxCut + 1)}, 0, pow(2, 1 - NumberOfVerticies)\n",
        "    for _, cut in enumerate(cuts):\n",
        "        random_chance[cut] += dp\n",
        "        if cut >= threshold:\n",
        "            Lambda += dp\n",
        "\n",
        "    return [G, m, QuadraticForm, threshold, Lambda, random_chance]"
      ],
      "id": "76d6c6e5-1e0d-4fe5-92e4-aecdcb2c9c8f"
    },
    {
      "cell_type": "markdown",
      "metadata": {
        "id": "Zh33LYiKbZtl"
      },
      "source": [
        "## Simulator"
      ],
      "id": "Zh33LYiKbZtl"
    },
    {
      "cell_type": "code",
      "execution_count": null,
      "metadata": {
        "id": "6fd6a0b3"
      },
      "outputs": [],
      "source": [
        "# L, x must be positive\n",
        "def Chebyshev(L:  float, x: float):\n",
        "    return np.cos(L * np.arccos(x)) if x <= 1 else np.cosh(L * np.arccosh(x))\n",
        "\n",
        "# delta, Lambda must be in (0, 1)\n",
        "def GroverProbability(delta: float, Lambda: float, L: float):\n",
        "    return 1 - pow(delta * Chebyshev(L, Chebyshev(1 / L, 1 / delta) * np.sqrt(1 - Lambda)), 2)\n",
        "\n",
        "# P, Lambda must be in (0, 1), N must be a positive integer\n",
        "def GroverParameterOptimizer(Lambda: float, N: int):\n",
        "    d = delta = pow(2, - N)\n",
        "    P = 0\n",
        "    while d < 1:\n",
        "        if GroverProbability(d, Lambda, 3) >= P:\n",
        "            delta, P = d, GroverProbability(d, Lambda, 3)\n",
        "        d += pow(2, - N)\n",
        "\n",
        "    return delta, P"
      ],
      "id": "6fd6a0b3"
    },
    {
      "cell_type": "code",
      "execution_count": null,
      "metadata": {
        "id": "7b937100"
      },
      "outputs": [],
      "source": [
        "def Grover(data):\n",
        "    G, m, QuadraticForm, threshold, Lambda, random_chance = data[0], data[1], data[2], data[3], data[4], data[5]\n",
        "    delta, P = GroverParameterOptimizer(Lambda, 10)\n",
        "    alpha = beta = - 2 * np.arctan(pow(1 - pow(np.cosh(np.arccosh(1 / delta) / 3), - 2), - 1/2) / np.sqrt(3))\n",
        "\n",
        "    # quantum registers for the bit configurations\n",
        "    QRegX = QuantumRegister(len(QuadraticForm), \"x\")\n",
        "\n",
        "    NumberOfEdges = int((np.sum(QuadraticForm) + np.trace(QuadraticForm))/2)\n",
        "\n",
        "    digits = 1 + int(np.ceil(np.log2(max(threshold, NumberOfEdges + 1 - threshold))))\n",
        "\n",
        "    # quantum registers to digitize values\n",
        "    QRegY = QuantumRegister(digits, \"y\")\n",
        "\n",
        "    QC = QuantumCircuit(QRegX, QRegY)\n",
        "\n",
        "    QC.h(QRegX[:] + QRegY[:])\n",
        "\n",
        "    # adding threshold - offset; the offset could have gone to later parts of the code, but this it's cheaper this way\n",
        "    theta = (threshold - 1/2 - (np.sum(QuadraticForm) + np.trace(QuadraticForm))/4) * np.pi\n",
        "    for i, q in enumerate(reversed(QRegY)):\n",
        "        QC.rz(theta - np.pi/2, q)\n",
        "        theta /= 2\n",
        "\n",
        "    # S_t (beta)\n",
        "    for i, p in enumerate(QRegX):\n",
        "\n",
        "        if np.sum(QuadraticForm[i]) != 0:\n",
        "            theta = np.sum(QuadraticForm[i]) * np.pi\n",
        "            for q in reversed(QRegY):\n",
        "                QC.cx(p, q)\n",
        "                theta /= 2\n",
        "                QC.rz(theta, q)\n",
        "                QC.cx(p, q)\n",
        "\n",
        "        for j, r in enumerate(QRegX[i + 1:]):\n",
        "            if QuadraticForm[i][i + 1 + j] != 0:\n",
        "                QC.cx(p, r)\n",
        "                theta = QuadraticForm[i][i + 1 + j] * np.pi\n",
        "                for q in reversed(QRegY):\n",
        "                    QC.cx(r, q)\n",
        "                    theta /= 2\n",
        "                    QC.rz(- theta, q)\n",
        "                    QC.cx(r, q)\n",
        "                QC.cx(p, r)\n",
        "\n",
        "    for i, q in enumerate(reversed(QRegY[1:])):\n",
        "        QC.h(q)\n",
        "        for j, r in enumerate(QRegY[:len(QRegY) - 1 - i]):\n",
        "            QC.cx(q, r)\n",
        "            QC.rz(pow(2, i + j - digits) * np.pi, r)\n",
        "        for r in QRegY[:len(QRegY) - 2 - i]:\n",
        "            QC.cx(q, r)\n",
        "\n",
        "    QC.rx(beta, QRegY[0])\n",
        "\n",
        "    for i, q in enumerate(QRegY[1:]):\n",
        "        for r in reversed(QRegY[:i]):\n",
        "            QC.cx(q, r)\n",
        "        theta = np.pi / 2\n",
        "        for r in reversed(QRegY[:i+1]):\n",
        "            theta /= 2\n",
        "            QC.rz(- theta, r)\n",
        "            QC.cx(q, r)\n",
        "        QC.h(q)\n",
        "\n",
        "    for i, p in enumerate(reversed(QRegX)):\n",
        "\n",
        "        for j, r in enumerate(reversed(QRegX[len(QRegX) - i:])):\n",
        "            if QuadraticForm[- i - 1][- j - 1] != 0:\n",
        "                QC.cx(p, r)\n",
        "                theta = QuadraticForm[- i - 1][- j - 1] * np.pi\n",
        "                for q in reversed(QRegY):\n",
        "                    theta /= 2\n",
        "                    QC.cx(r, q)\n",
        "                    QC.rz(theta, q)\n",
        "                    QC.cx(r, q)\n",
        "                QC.cx(p, r)\n",
        "\n",
        "        if np.sum(QuadraticForm[- i - 1]) != 0:\n",
        "            theta = np.sum(QuadraticForm[- i - 1]) * np.pi\n",
        "            for q in reversed(QRegY):\n",
        "                theta /= 2\n",
        "                QC.cx(p, q)\n",
        "                QC.rz(- theta, q)\n",
        "                QC.cx(p, q)\n",
        "\n",
        "        # S_s (alpha)\n",
        "        QC.ry(np.pi/2, QRegX)\n",
        "        QC.mcp(alpha, QRegX[1:], QRegX[0])\n",
        "        QC.ry(- np.pi/2, QRegX)\n",
        "\n",
        "        QC.save_statevector()\n",
        "        simulator = AerSimulator(method=\"statevector\")\n",
        "        psi = Statevector(execute(QC, simulator).result().get_statevector())\n",
        "\n",
        "        return [G, m, QuadraticForm, threshold, Lambda, random_chance, P, psi, QC.depth(), QC.count_ops()]"
      ],
      "id": "7b937100"
    },
    {
      "cell_type": "markdown",
      "metadata": {
        "id": "aKWNJbqJywQZ"
      },
      "source": [
        "# Run computations"
      ],
      "id": "aKWNJbqJywQZ"
    },
    {
      "cell_type": "code",
      "execution_count": null,
      "metadata": {
        "colab": {
          "background_save": true
        },
        "id": "e2ba5554-5444-4267-aa76-51f31c196d6a",
        "outputId": "1c45e4bc-147e-48ef-cb4e-aaac573b6ee0"
      },
      "outputs": [
        {
          "ename": "TypeError",
          "evalue": "ignored",
          "output_type": "error",
          "traceback": [
            "\u001b[0;31m---------------------------------------------------------------------------\u001b[0m",
            "\u001b[0;31mRemoteTraceback\u001b[0m                           Traceback (most recent call last)",
            "\u001b[0;31mRemoteTraceback\u001b[0m: \n\"\"\"\nTraceback (most recent call last):\n  File \"/usr/lib/python3.10/multiprocessing/pool.py\", line 125, in worker\n    result = (True, func(*args, **kwds))\nTypeError: Grover() missing 5 required positional arguments: 'm', 'QuadraticForm', 'threshold', 'Lambda', and 'random_chance'\n\"\"\"",
            "\nThe above exception was the direct cause of the following exception:\n",
            "\u001b[0;31mTypeError\u001b[0m                                 Traceback (most recent call last)",
            "\u001b[0;32m<ipython-input-8-453e450ecc0a>\u001b[0m in \u001b[0;36m<cell line: 5>\u001b[0;34m()\u001b[0m\n\u001b[1;32m      4\u001b[0m \u001b[0;34m\u001b[0m\u001b[0m\n\u001b[1;32m      5\u001b[0m \u001b[0;32mwith\u001b[0m \u001b[0mPool\u001b[0m\u001b[0;34m(\u001b[0m\u001b[0;34m)\u001b[0m \u001b[0;32mas\u001b[0m \u001b[0mpool\u001b[0m\u001b[0;34m:\u001b[0m\u001b[0;34m\u001b[0m\u001b[0;34m\u001b[0m\u001b[0m\n\u001b[0;32m----> 6\u001b[0;31m     \u001b[0mresults\u001b[0m \u001b[0;34m=\u001b[0m \u001b[0mtqdm\u001b[0m\u001b[0;34m(\u001b[0m\u001b[0mlist\u001b[0m\u001b[0;34m(\u001b[0m\u001b[0mpool\u001b[0m\u001b[0;34m.\u001b[0m\u001b[0mimap\u001b[0m\u001b[0;34m(\u001b[0m\u001b[0mGrover\u001b[0m\u001b[0;34m,\u001b[0m \u001b[0mgraphs_data\u001b[0m\u001b[0;34m)\u001b[0m\u001b[0;34m)\u001b[0m\u001b[0;34m,\u001b[0m \u001b[0mtotal\u001b[0m\u001b[0;34m=\u001b[0m\u001b[0mlen\u001b[0m\u001b[0;34m(\u001b[0m\u001b[0mgraphs_data\u001b[0m\u001b[0;34m)\u001b[0m\u001b[0;34m)\u001b[0m\u001b[0;34m\u001b[0m\u001b[0;34m\u001b[0m\u001b[0m\n\u001b[0m",
            "\u001b[0;32m/usr/lib/python3.10/multiprocessing/pool.py\u001b[0m in \u001b[0;36mnext\u001b[0;34m(self, timeout)\u001b[0m\n\u001b[1;32m    871\u001b[0m         \u001b[0;32mif\u001b[0m \u001b[0msuccess\u001b[0m\u001b[0;34m:\u001b[0m\u001b[0;34m\u001b[0m\u001b[0;34m\u001b[0m\u001b[0m\n\u001b[1;32m    872\u001b[0m             \u001b[0;32mreturn\u001b[0m \u001b[0mvalue\u001b[0m\u001b[0;34m\u001b[0m\u001b[0;34m\u001b[0m\u001b[0m\n\u001b[0;32m--> 873\u001b[0;31m         \u001b[0;32mraise\u001b[0m \u001b[0mvalue\u001b[0m\u001b[0;34m\u001b[0m\u001b[0;34m\u001b[0m\u001b[0m\n\u001b[0m\u001b[1;32m    874\u001b[0m \u001b[0;34m\u001b[0m\u001b[0m\n\u001b[1;32m    875\u001b[0m     \u001b[0m__next__\u001b[0m \u001b[0;34m=\u001b[0m \u001b[0mnext\u001b[0m                    \u001b[0;31m# XXX\u001b[0m\u001b[0;34m\u001b[0m\u001b[0;34m\u001b[0m\u001b[0m\n",
            "\u001b[0;31mTypeError\u001b[0m: Grover() missing 5 required positional arguments: 'm', 'QuadraticForm', 'threshold', 'Lambda', and 'random_chance'"
          ]
        }
      ],
      "source": [
        "graphs = generate_connected_graphs(5)\n",
        "# Graph, multiplicity, QuadraticForm, threshold, Lambda, random_chance\n",
        "graphs_data = [get_graph_data(G, m) for (G, m) in graphs.items()]"
      ],
      "id": "e2ba5554-5444-4267-aa76-51f31c196d6a"
    },
    {
      "cell_type": "code",
      "execution_count": null,
      "metadata": {
        "id": "xOsKyoP7yp52"
      },
      "outputs": [],
      "source": [
        "with Pool() as pool:\n",
        "    results = list(tqdm.tqdm(pool.imap(Grover, graphs_data), total=len(graphs_data)))"
      ],
      "id": "xOsKyoP7yp52"
    },
    {
      "cell_type": "code",
      "execution_count": null,
      "metadata": {
        "id": "KUfbQrYLMqvO"
      },
      "outputs": [],
      "source": [],
      "id": "KUfbQrYLMqvO"
    }
  ],
  "metadata": {
    "colab": {
      "provenance": []
    },
    "kernelspec": {
      "display_name": "Python 3 (ipykernel)",
      "language": "python",
      "name": "python3"
    },
    "language_info": {
      "codemirror_mode": {
        "name": "ipython",
        "version": 3
      },
      "file_extension": ".py",
      "mimetype": "text/x-python",
      "name": "python",
      "nbconvert_exporter": "python",
      "pygments_lexer": "ipython3",
      "version": "3.11.3"
    }
  },
  "nbformat": 4,
  "nbformat_minor": 5
}
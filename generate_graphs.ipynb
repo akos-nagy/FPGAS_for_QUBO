{
  "cells": [
    {
      "cell_type": "markdown",
      "source": [
        "# Preparations"
      ],
      "metadata": {
        "id": "SnrnSUwKbdgd"
      },
      "id": "SnrnSUwKbdgd"
    },
    {
      "cell_type": "markdown",
      "source": [
        "## Loading packages"
      ],
      "metadata": {
        "id": "rvP-9UAL2_mW"
      },
      "id": "rvP-9UAL2_mW"
    },
    {
      "cell_type": "code",
      "source": [
        "!pip install qiskit qiskit_aer"
      ],
      "metadata": {
        "colab": {
          "base_uri": "https://localhost:8080/"
        },
        "id": "FvVRw1VUam2l",
        "outputId": "65bc6dc6-ec5b-4c98-a6ba-e38764ebcc1e"
      },
      "id": "FvVRw1VUam2l",
      "execution_count": 4,
      "outputs": [
        {
          "output_type": "stream",
          "name": "stdout",
          "text": [
            "Requirement already satisfied: qiskit in /usr/local/lib/python3.10/dist-packages (0.44.0)\n",
            "Collecting qiskit_aer\n",
            "  Downloading qiskit_aer-0.12.2-cp310-cp310-manylinux_2_17_x86_64.manylinux2014_x86_64.whl (12.8 MB)\n",
            "\u001b[2K     \u001b[90m━━━━━━━━━━━━━━━━━━━━━━━━━━━━━━━━━━━━━━━━\u001b[0m \u001b[32m12.8/12.8 MB\u001b[0m \u001b[31m23.5 MB/s\u001b[0m eta \u001b[36m0:00:00\u001b[0m\n",
            "\u001b[?25hRequirement already satisfied: qiskit-terra==0.25.0 in /usr/local/lib/python3.10/dist-packages (from qiskit) (0.25.0)\n",
            "Requirement already satisfied: rustworkx>=0.13.0 in /usr/local/lib/python3.10/dist-packages (from qiskit-terra==0.25.0->qiskit) (0.13.0)\n",
            "Requirement already satisfied: numpy>=1.17 in /usr/local/lib/python3.10/dist-packages (from qiskit-terra==0.25.0->qiskit) (1.22.4)\n",
            "Requirement already satisfied: ply>=3.10 in /usr/local/lib/python3.10/dist-packages (from qiskit-terra==0.25.0->qiskit) (3.11)\n",
            "Requirement already satisfied: psutil>=5 in /usr/local/lib/python3.10/dist-packages (from qiskit-terra==0.25.0->qiskit) (5.9.5)\n",
            "Requirement already satisfied: scipy>=1.5 in /usr/local/lib/python3.10/dist-packages (from qiskit-terra==0.25.0->qiskit) (1.10.1)\n",
            "Requirement already satisfied: sympy>=1.3 in /usr/local/lib/python3.10/dist-packages (from qiskit-terra==0.25.0->qiskit) (1.11.1)\n",
            "Requirement already satisfied: dill>=0.3 in /usr/local/lib/python3.10/dist-packages (from qiskit-terra==0.25.0->qiskit) (0.3.7)\n",
            "Requirement already satisfied: python-dateutil>=2.8.0 in /usr/local/lib/python3.10/dist-packages (from qiskit-terra==0.25.0->qiskit) (2.8.2)\n",
            "Requirement already satisfied: stevedore>=3.0.0 in /usr/local/lib/python3.10/dist-packages (from qiskit-terra==0.25.0->qiskit) (5.1.0)\n",
            "Requirement already satisfied: symengine<0.10,>=0.9 in /usr/local/lib/python3.10/dist-packages (from qiskit-terra==0.25.0->qiskit) (0.9.2)\n",
            "Requirement already satisfied: typing-extensions in /usr/local/lib/python3.10/dist-packages (from qiskit-terra==0.25.0->qiskit) (4.7.1)\n",
            "Requirement already satisfied: six>=1.5 in /usr/local/lib/python3.10/dist-packages (from python-dateutil>=2.8.0->qiskit-terra==0.25.0->qiskit) (1.16.0)\n",
            "Requirement already satisfied: pbr!=2.1.0,>=2.0.0 in /usr/local/lib/python3.10/dist-packages (from stevedore>=3.0.0->qiskit-terra==0.25.0->qiskit) (5.11.1)\n",
            "Requirement already satisfied: mpmath>=0.19 in /usr/local/lib/python3.10/dist-packages (from sympy>=1.3->qiskit-terra==0.25.0->qiskit) (1.3.0)\n",
            "Installing collected packages: qiskit_aer\n",
            "Successfully installed qiskit_aer-0.12.2\n"
          ]
        }
      ]
    },
    {
      "cell_type": "code",
      "execution_count": 5,
      "id": "b2de599b-522e-449a-bedd-7bbcf7173259",
      "metadata": {
        "id": "b2de599b-522e-449a-bedd-7bbcf7173259"
      },
      "outputs": [],
      "source": [
        "from itertools import combinations, permutations, groupby\n",
        "import networkx as nx\n",
        "from networkx.algorithms.approximation import one_exchange\n",
        "import numpy as np\n",
        "import pandas as pd\n",
        "import matplotlib.pyplot as plt\n",
        "import random\n",
        "\n",
        "from qiskit import QuantumCircuit, QuantumRegister, ClassicalRegister, execute, transpile\n",
        "from qiskit_aer import AerSimulator\n",
        "from qiskit_aer.noise import NoiseModel, pauli_error, ReadoutError, thermal_relaxation_error, depolarizing_error\n",
        "from qiskit.quantum_info import Statevector, DensityMatrix"
      ]
    },
    {
      "cell_type": "markdown",
      "source": [
        "## Graph generator"
      ],
      "metadata": {
        "id": "uhdJopCtbgVe"
      },
      "id": "uhdJopCtbgVe"
    },
    {
      "cell_type": "code",
      "execution_count": null,
      "id": "50b52509-aace-47fb-a03f-039ee39f6e17",
      "metadata": {
        "tags": [],
        "id": "50b52509-aace-47fb-a03f-039ee39f6e17"
      },
      "outputs": [],
      "source": [
        "\"\"\"\n",
        "generate all subsets\n",
        "\"\"\"\n",
        "def subsets(ls):\n",
        "        res = []\n",
        "        def dfs(i, subset):\n",
        "            # base case\n",
        "            if i == len(ls):\n",
        "                res.append(subset.copy())\n",
        "                return\n",
        "\n",
        "            dfs(i + 1, subset)\n",
        "\n",
        "            subset.append(ls[i])\n",
        "            dfs(i + 1, subset)\n",
        "            subset.pop()\n",
        "\n",
        "        dfs(0, [])\n",
        "        return res\n",
        "\n",
        "\n",
        "\"\"\"\n",
        "check if graph g1 is isomorphic to any graph in the list\n",
        "\"\"\"\n",
        "def is_unique(ls, g1):\n",
        "    if not ls:\n",
        "        return True\n",
        "    for g2 in ls:\n",
        "        if nx.is_isomorphic(g1, g2):\n",
        "            return False\n",
        "    return True\n",
        "\n",
        "def ErdosEdwards(n, m):  # num of vertices and num of edges\n",
        "    return int(np.ceil((2 * m + n - 1)/4))\n",
        "\n",
        "def get_graph_data(G):\n",
        "    GraphLaplacian = np.array(nx.laplacian_matrix(G).toarray())\n",
        "    NumberOfVerticies, NumberOfEdges = G.number_of_nodes(), G.number_of_edges()\n",
        "    threshold = ErdosEdwards(NumberOfEdges, NumberOfVerticies)\n",
        "\n",
        "    maxdegvertex = np.where(np.diag(GraphLaplacian) == max(np.diag(GraphLaplacian)))[0][0]\n",
        "    if maxdegvertex + 1 != NumberOfVerticies:\n",
        "        GraphLaplacian[[maxdegvertex, -1], :] = GraphLaplacian[[-1, maxdegvertex], :]\n",
        "        GraphLaplacian[:, [maxdegvertex, -1]] = GraphLaplacian[:, [-1, maxdegvertex]]\n",
        "    QuadraticForm = GraphLaplacian[np.ix_(np.arange(NumberOfVerticies - 1), np.arange(NumberOfVerticies - 1))]\n",
        "\n",
        "    # cut-function and MaxCut\n",
        "    cuts, MaxCut = {0: 0}, 0\n",
        "    for x in range(1, pow(2, len(QuadraticForm))):\n",
        "        conf = np.array([(x >> i)&1 for i in range(len(QuadraticForm))])\n",
        "        cuts[x] = np.matmul(conf, np.matmul(QuadraticForm, np.transpose(conf)))\n",
        "        MaxCut = max(MaxCut, cuts[x])\n",
        "\n",
        "    # cut disctibution and ratios\n",
        "    random_chance, Lambda, dp = {i: 0 for i in range(MaxCut + 1)}, 0, pow(2, 1 - NumberOfVerticies)\n",
        "    for _, cut in cuts.items():\n",
        "        random_chance[cut] += dp\n",
        "        if cut >= threshold:\n",
        "            Lambda += dp\n",
        "\n",
        "    return QuadraticForm, threshold, Lambda, random_chance"
      ]
    },
    {
      "cell_type": "code",
      "execution_count": null,
      "id": "76d6c6e5-1e0d-4fe5-92e4-aecdcb2c9c8f",
      "metadata": {
        "id": "76d6c6e5-1e0d-4fe5-92e4-aecdcb2c9c8f"
      },
      "outputs": [],
      "source": [
        "\"\"\"\n",
        "returns {graph: multiplicity}\n",
        "\"\"\"\n",
        "def generate_connected_graphs(n):  # n vertices\n",
        "    all_edges = list(combinations(range(n), 2))\n",
        "    edge_subsets = [i for i in subsets(all_edges) if len(i) >= n - 1] # rule out the obvious cases\n",
        "    res = {}\n",
        "\n",
        "    for subset in edge_subsets:\n",
        "        G = nx.Graph()\n",
        "        G.add_nodes_from(range(n))\n",
        "        G.add_edges_from(subset)\n",
        "\n",
        "        if nx.is_connected(G):\n",
        "            if is_unique(list(res.keys()), G):\n",
        "                    res[G] = 1\n",
        "            else:\n",
        "                for k in res.keys():\n",
        "                    if nx.is_isomorphic(k, G):\n",
        "                        res[k] += 1\n",
        "                        break\n",
        "\n",
        "    return res"
      ]
    },
    {
      "cell_type": "markdown",
      "source": [
        "## Simulator"
      ],
      "metadata": {
        "id": "Zh33LYiKbZtl"
      },
      "id": "Zh33LYiKbZtl"
    },
    {
      "cell_type": "code",
      "execution_count": null,
      "id": "6fd6a0b3",
      "metadata": {
        "id": "6fd6a0b3"
      },
      "outputs": [],
      "source": [
        "# L, x must be positive\n",
        "def Chebyshev(L:  float, x: float):\n",
        "    return np.cos(L * np.arccos(x)) if x <= 1 else np.cosh(L * np.arccosh(x))\n",
        "\n",
        "# delta, Lambda must be in (0, 1)\n",
        "def GroverQueryComplexity(delta: float, Lambda: float):\n",
        "    return int(np.ceil(np.arccosh(1 / delta) / np.arccosh(1 / np.sqrt(1 - Lambda)))) // 2\n",
        "\n",
        "# delta, Lambda must be in (0, 1)\n",
        "def GroverProbability(delta: float, Lambda: float):\n",
        "    L = 2 * GroverQueryComplexity(delta, Lambda) + 1\n",
        "    return 1 - pow(delta * Chebyshev(L, Chebyshev(1 / L, 1 / delta) * np.sqrt(1 - Lambda)), 2)\n",
        "\n",
        "# P, Lambda must be in (0, 1), N must be a positive integer\n",
        "def GroverParameterOptimizer(P: float, Lambda: float, N: int):\n",
        "    step, L, p = pow(2, - N), 0, 0\n",
        "    done = False\n",
        "    while p < P:\n",
        "        L += 1\n",
        "        d = step\n",
        "        l = GroverQueryComplexity(d, Lambda)\n",
        "        while l > L:\n",
        "            d += step\n",
        "            l = GroverQueryComplexity(d, Lambda)\n",
        "        delta = d\n",
        "        while d < 1:\n",
        "            p_new = GroverProbability(d, Lambda)\n",
        "            if p_new >= p:\n",
        "                p, delta = p_new, d\n",
        "            d += step\n",
        "            l = GroverQueryComplexity(d, Lambda)\n",
        "\n",
        "    return delta, GroverQueryComplexity(delta, Lambda), GroverProbability(delta, Lambda)"
      ]
    },
    {
      "cell_type": "code",
      "execution_count": null,
      "id": "7b937100",
      "metadata": {
        "id": "7b937100"
      },
      "outputs": [],
      "source": [
        "def Grover(G, m, QuadraticForm, threshold, Lambda, random_chance, P):\n",
        "    delta, l, P = GroverParameterOptimizer(P, Lambda, 10)\n",
        "    gamma = pow(1 - pow(np.cosh(np.arccosh(1 / delta) / (2 * l + 1)), - 2), - 1/2)\n",
        "    GroverAngles = [2 * np.arctan(gamma / np.tan(2 * np.pi * j / (2 * l + 1))) for j in range(1, l + 1)]\n",
        "\n",
        "    # quantum registers for the bit configurations\n",
        "    QRegX = QuantumRegister(len(QuadraticForm), \"x\")\n",
        "\n",
        "    NumberOfEdges = int((np.sum(QuadraticForm) + np.trace(QuadraticForm))/2)\n",
        "\n",
        "    digits = 1 + int(np.ceil(np.log2(max(threshold, NumberOfEdges + 1 - threshold))))\n",
        "\n",
        "    # quantum registers to digitize values\n",
        "    QRegY = QuantumRegister(digits, \"y\")\n",
        "\n",
        "    QC = QuantumCircuit(QRegX, QRegY)\n",
        "\n",
        "    QC.h(QRegX[:] + QRegY[:])\n",
        "\n",
        "    # adding threshold - offset; the offset could have gone to later parts of the code, but this it's cheaper this way\n",
        "    theta = (threshold - 1/2 - (np.sum(QuadraticForm) + np.trace(QuadraticForm))/4) * np.pi\n",
        "    for i, q in enumerate(reversed(QRegY)):\n",
        "        QC.rz(theta - np.pi/2, q)\n",
        "        theta /= 2\n",
        "\n",
        "    for alpha, beta in zip(GroverAngles, reversed(GroverAngles)):\n",
        "\n",
        "        # S_t (beta)\n",
        "        for i, p in enumerate(QRegX):\n",
        "\n",
        "            if np.sum(QuadraticForm[i]) != 0:\n",
        "                theta = np.sum(QuadraticForm[i]) * np.pi\n",
        "                for q in reversed(QRegY):\n",
        "                    QC.cx(p, q)\n",
        "                    theta /= 2\n",
        "                    QC.rz(theta, q)\n",
        "                    QC.cx(p, q)\n",
        "\n",
        "            for j, r in enumerate(QRegX[i + 1:]):\n",
        "                if QuadraticForm[i][i + 1 + j] != 0:\n",
        "                    QC.cx(p, r)\n",
        "                    theta = QuadraticForm[i][i + 1 + j] * np.pi\n",
        "                    for q in reversed(QRegY):\n",
        "                        QC.cx(r, q)\n",
        "                        theta /= 2\n",
        "                        QC.rz(- theta, q)\n",
        "                        QC.cx(r, q)\n",
        "                    QC.cx(p, r)\n",
        "\n",
        "        for i, q in enumerate(reversed(QRegY[1:])):\n",
        "            QC.h(q)\n",
        "            for j, r in enumerate(QRegY[:len(QRegY) - 1 - i]):\n",
        "                QC.cx(q, r)\n",
        "                QC.rz(pow(2, i + j - digits) * np.pi, r)\n",
        "            for r in QRegY[:len(QRegY) - 2 - i]:\n",
        "                QC.cx(q, r)\n",
        "\n",
        "        QC.rx(beta, QRegY[0])\n",
        "\n",
        "        for i, q in enumerate(QRegY[1:]):\n",
        "            for r in reversed(QRegY[:i]):\n",
        "                QC.cx(q, r)\n",
        "            theta = np.pi / 2\n",
        "            for r in reversed(QRegY[:i+1]):\n",
        "                theta /= 2\n",
        "                QC.rz(- theta, r)\n",
        "                QC.cx(q, r)\n",
        "            QC.h(q)\n",
        "\n",
        "        for i, p in enumerate(reversed(QRegX)):\n",
        "\n",
        "            for j, r in enumerate(reversed(QRegX[len(QRegX) - i:])):\n",
        "                if QuadraticForm[- i - 1][- j - 1] != 0:\n",
        "                    QC.cx(p, r)\n",
        "                    theta = QuadraticForm[- i - 1][- j - 1] * np.pi\n",
        "                    for q in reversed(QRegY):\n",
        "                        theta /= 2\n",
        "                        QC.cx(r, q)\n",
        "                        QC.rz(theta, q)\n",
        "                        QC.cx(r, q)\n",
        "                    QC.cx(p, r)\n",
        "\n",
        "            if np.sum(QuadraticForm[- i - 1]) != 0:\n",
        "                theta = np.sum(QuadraticForm[- i - 1]) * np.pi\n",
        "                for q in reversed(QRegY):\n",
        "                    theta /= 2\n",
        "                    QC.cx(p, q)\n",
        "                    QC.rz(- theta, q)\n",
        "                    QC.cx(p, q)\n",
        "\n",
        "        # S_s (alpha)\n",
        "        QC.ry(np.pi/2, QRegX)\n",
        "        QC.mcp(alpha, QRegX[1:], QRegX[0])\n",
        "        QC.ry(- np.pi/2, QRegX)\n",
        "\n",
        "        QC.save_statevector()\n",
        "        simulator = AerSimulator(method=\"statevector\")\n",
        "        psi = Statevector(execute(QC, simulator).result().get_statevector())\n",
        "\n",
        "        return [G, m, QuadraticForm, threshold, Lambda, random_chance, P, psi, QC.depth(), QC.count_ops()]"
      ]
    },
    {
      "cell_type": "markdown",
      "source": [
        "# Run computations"
      ],
      "metadata": {
        "id": "aKWNJbqJywQZ"
      },
      "id": "aKWNJbqJywQZ"
    },
    {
      "cell_type": "code",
      "execution_count": null,
      "id": "e2ba5554-5444-4267-aa76-51f31c196d6a",
      "metadata": {
        "id": "e2ba5554-5444-4267-aa76-51f31c196d6a",
        "outputId": "ff9a37b4-507a-40e4-e927-e6ad490ddffe",
        "colab": {
          "base_uri": "https://localhost:8080/"
        }
      },
      "outputs": [
        {
          "output_type": "stream",
          "name": "stdout",
          "text": [
            "done with 1 out or 112\n",
            "done with 2 out or 112\n",
            "done with 3 out or 112\n",
            "done with 4 out or 112\n",
            "done with 5 out or 112\n",
            "done with 6 out or 112\n",
            "done with 7 out or 112\n",
            "done with 8 out or 112\n",
            "done with 9 out or 112\n",
            "done with 10 out or 112\n",
            "done with 11 out or 112\n",
            "done with 12 out or 112\n",
            "done with 13 out or 112\n",
            "done with 14 out or 112\n",
            "done with 15 out or 112\n",
            "done with 16 out or 112\n",
            "done with 17 out or 112\n",
            "done with 18 out or 112\n",
            "done with 19 out or 112\n",
            "done with 20 out or 112\n",
            "done with 21 out or 112\n",
            "done with 22 out or 112\n",
            "done with 23 out or 112\n",
            "done with 24 out or 112\n",
            "done with 25 out or 112\n",
            "done with 26 out or 112\n",
            "done with 27 out or 112\n",
            "done with 28 out or 112\n",
            "done with 29 out or 112\n",
            "done with 30 out or 112\n",
            "done with 31 out or 112\n",
            "done with 32 out or 112\n",
            "done with 33 out or 112\n",
            "done with 34 out or 112\n",
            "done with 35 out or 112\n",
            "done with 36 out or 112\n",
            "done with 37 out or 112\n",
            "done with 38 out or 112\n",
            "done with 39 out or 112\n",
            "done with 40 out or 112\n",
            "done with 41 out or 112\n",
            "done with 42 out or 112\n",
            "done with 43 out or 112\n",
            "done with 44 out or 112\n",
            "done with 45 out or 112\n",
            "done with 46 out or 112\n",
            "done with 47 out or 112\n",
            "done with 48 out or 112\n",
            "done with 49 out or 112\n",
            "done with 50 out or 112\n",
            "done with 51 out or 112\n",
            "done with 52 out or 112\n",
            "done with 53 out or 112\n",
            "done with 54 out or 112\n",
            "done with 55 out or 112\n",
            "done with 56 out or 112\n",
            "done with 57 out or 112\n",
            "done with 58 out or 112\n",
            "done with 59 out or 112\n",
            "done with 60 out or 112\n",
            "done with 61 out or 112\n",
            "done with 62 out or 112\n",
            "done with 63 out or 112\n",
            "done with 64 out or 112\n",
            "done with 65 out or 112\n",
            "done with 66 out or 112\n",
            "done with 67 out or 112\n",
            "done with 68 out or 112\n",
            "done with 69 out or 112\n",
            "done with 70 out or 112\n",
            "done with 71 out or 112\n",
            "done with 72 out or 112\n",
            "done with 73 out or 112\n",
            "done with 74 out or 112\n",
            "done with 75 out or 112\n",
            "done with 76 out or 112\n",
            "done with 77 out or 112\n",
            "done with 78 out or 112\n",
            "done with 79 out or 112\n",
            "done with 80 out or 112\n",
            "done with 81 out or 112\n",
            "done with 82 out or 112\n",
            "done with 83 out or 112\n",
            "done with 84 out or 112\n",
            "done with 85 out or 112\n",
            "done with 86 out or 112\n",
            "done with 87 out or 112\n",
            "done with 88 out or 112\n",
            "done with 89 out or 112\n",
            "done with 90 out or 112\n",
            "done with 91 out or 112\n",
            "done with 92 out or 112\n",
            "done with 93 out or 112\n",
            "done with 94 out or 112\n",
            "done with 95 out or 112\n",
            "done with 96 out or 112\n",
            "done with 97 out or 112\n",
            "done with 98 out or 112\n",
            "done with 99 out or 112\n",
            "done with 100 out or 112\n",
            "done with 101 out or 112\n",
            "done with 102 out or 112\n",
            "done with 103 out or 112\n",
            "done with 104 out or 112\n",
            "done with 105 out or 112\n",
            "done with 106 out or 112\n",
            "done with 107 out or 112\n",
            "done with 108 out or 112\n",
            "done with 109 out or 112\n",
            "done with 110 out or 112\n",
            "done with 111 out or 112\n",
            "done with 112 out or 112\n"
          ]
        }
      ],
      "source": [
        "graphs = generate_connected_graphs(6)\n",
        "# Graph, multiplicity, QuadraticForm, threshold, Lambda, random_chance\n",
        "graphs_data = [(G, m) + get_graph_data(G) for (G, m) in graphs.items()]\n",
        "\n",
        "results, P, total = [], 0.9, len(graphs_data)\n",
        "\n",
        "for i, (G, m, QuadraticForm, threshold, Lambda, random_chance) in enumerate(graphs_data):\n",
        "        results.append(Grover(G, m, QuadraticForm, threshold, Lambda, random_chance, P))\n",
        "        print(f\"done with {i + 1} out or {total}\")"
      ]
    },
    {
      "cell_type": "code",
      "source": [
        "# [G, m, QuadraticForm, threshold, Lambda, random_chance, P, psi, QC.depth(), QC.count_ops()]\n",
        "multiplicities = [result[1] for result in results]\n",
        "M = np.sum(multiplicities)"
      ],
      "metadata": {
        "id": "xOsKyoP7yp52"
      },
      "id": "xOsKyoP7yp52",
      "execution_count": null,
      "outputs": []
    },
    {
      "cell_type": "code",
      "source": [
        "lambdas = [result[4] for result in results]"
      ],
      "metadata": {
        "id": "Pggnvb7azrdS"
      },
      "id": "Pggnvb7azrdS",
      "execution_count": null,
      "outputs": []
    },
    {
      "cell_type": "code",
      "source": [
        "dist_L = {}\n",
        "for l, m in zip(lambdas, multiplicities):\n",
        "    if l in dist_L:\n",
        "        dist_L[l] += m / M\n",
        "    else:\n",
        "        dist_L[l] = m / M"
      ],
      "metadata": {
        "id": "uXb-fRPA07CA"
      },
      "id": "uXb-fRPA07CA",
      "execution_count": null,
      "outputs": []
    },
    {
      "cell_type": "code",
      "source": [
        "L = np.sum([l * dist_L[l] for l in dist_L])\n",
        "sigma_L = np.sqrt(np.sum([pow(l - L, 2) * dist_L[l] for l in dist_L]))\n",
        "L, sigma_L"
      ],
      "metadata": {
        "colab": {
          "base_uri": "https://localhost:8080/"
        },
        "id": "5Rki6t0Lz-Br",
        "outputId": "ab54df16-a8a9-40ad-9925-baf27e3bde2b"
      },
      "id": "5Rki6t0Lz-Br",
      "execution_count": null,
      "outputs": [
        {
          "output_type": "execute_result",
          "data": {
            "text/plain": [
              "(0.356004718394248, 0.1733037077233942)"
            ]
          },
          "metadata": {},
          "execution_count": 58
        }
      ]
    },
    {
      "cell_type": "code",
      "source": [
        "plt.bar(dist_L.keys(),\n",
        "        dist_L.values(),\n",
        "        width=0.5,\n",
        "        color=\"green\")\n",
        "plt.title(f\"cut distribution change\")\n",
        "plt.ylabel(f\"probabilities\")\n",
        "plt.show()"
      ],
      "metadata": {
        "colab": {
          "base_uri": "https://localhost:8080/",
          "height": 452
        },
        "id": "GZGyP6q40EkZ",
        "outputId": "58e9c07a-dd09-4914-9a64-21eb59a5409f"
      },
      "id": "GZGyP6q40EkZ",
      "execution_count": null,
      "outputs": [
        {
          "output_type": "display_data",
          "data": {
            "text/plain": [
              "<Figure size 640x480 with 1 Axes>"
            ],
            "image/png": "[encoded data removed]"
          },
          "metadata": {}
        }
      ]
    },
    {
      "cell_type": "code",
      "source": [
        "lambdas"
      ],
      "metadata": {
        "colab": {
          "base_uri": "https://localhost:8080/"
        },
        "id": "MFdriP312VIr",
        "outputId": "a59bf791-c9b7-4c0a-f195-c1342a530e72"
      },
      "id": "MFdriP312VIr",
      "execution_count": null,
      "outputs": [
        {
          "output_type": "execute_result",
          "data": {
            "text/plain": [
              "[0.1875,\n",
              " 0.1875,\n",
              " 0.09375,\n",
              " 0.1875,\n",
              " 0.1875,\n",
              " 0.09375,\n",
              " 0.09375,\n",
              " 0.21875,\n",
              " 0.09375,\n",
              " 0.21875,\n",
              " 0.40625,\n",
              " 0.09375,\n",
              " 0.21875,\n",
              " 0.1875,\n",
              " 0.09375,\n",
              " 0.09375,\n",
              " 0.1875,\n",
              " 0.09375,\n",
              " 0.09375,\n",
              " 0.21875,\n",
              " 0.21875,\n",
              " 0.40625,\n",
              " 0.15625,\n",
              " 0.40625,\n",
              " 0.28125,\n",
              " 0.15625,\n",
              " 0.21875,\n",
              " 0.40625,\n",
              " 0.09375,\n",
              " 0.28125,\n",
              " 0.21875,\n",
              " 0.40625,\n",
              " 0.34375,\n",
              " 0.59375,\n",
              " 0.09375,\n",
              " 0.15625,\n",
              " 0.21875,\n",
              " 0.40625,\n",
              " 0.21875,\n",
              " 0.34375,\n",
              " 0.21875,\n",
              " 0.40625,\n",
              " 0.59375,\n",
              " 0.53125,\n",
              " 0.34375,\n",
              " 0.53125,\n",
              " 0.4375,\n",
              " 0.40625,\n",
              " 0.59375,\n",
              " 0.4375,\n",
              " 0.625,\n",
              " 0.15625,\n",
              " 0.65625,\n",
              " 0.09375,\n",
              " 0.46875,\n",
              " 0.21875,\n",
              " 0.21875,\n",
              " 0.34375,\n",
              " 0.59375,\n",
              " 0.53125,\n",
              " 0.40625,\n",
              " 0.03125,\n",
              " 0.28125,\n",
              " 0.40625,\n",
              " 0.40625,\n",
              " 0.21875,\n",
              " 0.40625,\n",
              " 0.59375,\n",
              " 0.34375,\n",
              " 0.53125,\n",
              " 0.40625,\n",
              " 0.34375,\n",
              " 0.59375,\n",
              " 0.53125,\n",
              " 0.40625,\n",
              " 0.34375,\n",
              " 0.59375,\n",
              " 0.28125,\n",
              " 0.46875,\n",
              " 0.40625,\n",
              " 0.59375,\n",
              " 0.59375,\n",
              " 0.65625,\n",
              " 0.40625,\n",
              " 0.53125,\n",
              " 0.59375,\n",
              " 0.46875,\n",
              " 0.53125,\n",
              " 0.40625,\n",
              " 0.40625,\n",
              " 0.59375,\n",
              " 0.71875,\n",
              " 0.71875,\n",
              " 0.5,\n",
              " 0.40625,\n",
              " 0.59375,\n",
              " 0.78125,\n",
              " 0.40625,\n",
              " 0.65625,\n",
              " 0.46875,\n",
              " 0.46875,\n",
              " 0.40625,\n",
              " 0.59375,\n",
              " 0.53125,\n",
              " 0.71875,\n",
              " 0.59375,\n",
              " 0.71875,\n",
              " 0.78125,\n",
              " 0.78125,\n",
              " 0.78125,\n",
              " 0.78125,\n",
              " 0.78125]"
            ]
          },
          "metadata": {},
          "execution_count": 60
        }
      ]
    },
    {
      "cell_type": "code",
      "source": [],
      "metadata": {
        "id": "Zm7iN2T94Jx0"
      },
      "id": "Zm7iN2T94Jx0",
      "execution_count": null,
      "outputs": []
    }
  ],
  "metadata": {
    "kernelspec": {
      "display_name": "Python 3 (ipykernel)",
      "language": "python",
      "name": "python3"
    },
    "language_info": {
      "codemirror_mode": {
        "name": "ipython",
        "version": 3
      },
      "file_extension": ".py",
      "mimetype": "text/x-python",
      "name": "python",
      "nbconvert_exporter": "python",
      "pygments_lexer": "ipython3",
      "version": "3.11.3"
    },
    "colab": {
      "provenance": [],
      "collapsed_sections": [
        "SnrnSUwKbdgd",
        "rvP-9UAL2_mW",
        "uhdJopCtbgVe",
        "Zh33LYiKbZtl"
      ]
    }
  },
  "nbformat": 4,
  "nbformat_minor": 5
}
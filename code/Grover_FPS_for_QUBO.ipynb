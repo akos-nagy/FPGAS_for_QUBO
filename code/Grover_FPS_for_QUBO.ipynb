{
  "cells": [
    {
      "cell_type": "markdown",
      "metadata": {
        "id": "THzaoqHo13RE"
      },
      "source": [
        "# preparations"
      ],
      "id": "THzaoqHo13RE"
    },
    {
      "cell_type": "markdown",
      "metadata": {
        "id": "FTiJALVtnQIW"
      },
      "source": [
        "## install Qiskit"
      ],
      "id": "FTiJALVtnQIW"
    },
    {
      "cell_type": "code",
      "execution_count": null,
      "metadata": {
        "colab": {
          "base_uri": "https://localhost:8080/"
        },
        "id": "asSgzYHnnT8E",
        "outputId": "d040aa5f-93e7-4395-a774-03a2168ba1cf"
      },
      "outputs": [
        {
          "output_type": "stream",
          "name": "stdout",
          "text": [
            "Collecting qiskit\n",
            "  Downloading qiskit-0.44.1-py3-none-any.whl (8.2 kB)\n",
            "Collecting qiskit_aer\n",
            "  Downloading qiskit_aer-0.12.2-cp310-cp310-manylinux_2_17_x86_64.manylinux2014_x86_64.whl (12.8 MB)\n",
            "\u001b[2K     \u001b[90m━━━━━━━━━━━━━━━━━━━━━━━━━━━━━━━━━━━━━━━━\u001b[0m \u001b[32m12.8/12.8 MB\u001b[0m \u001b[31m26.1 MB/s\u001b[0m eta \u001b[36m0:00:00\u001b[0m\n",
            "\u001b[?25hCollecting qiskit-terra==0.25.1 (from qiskit)\n",
            "  Downloading qiskit_terra-0.25.1-cp38-abi3-manylinux_2_17_x86_64.manylinux2014_x86_64.whl (6.1 MB)\n",
            "\u001b[2K     \u001b[90m━━━━━━━━━━━━━━━━━━━━━━━━━━━━━━━━━━━━━━━━\u001b[0m \u001b[32m6.1/6.1 MB\u001b[0m \u001b[31m47.4 MB/s\u001b[0m eta \u001b[36m0:00:00\u001b[0m\n",
            "\u001b[?25hCollecting rustworkx>=0.13.0 (from qiskit-terra==0.25.1->qiskit)\n",
            "  Downloading rustworkx-0.13.1-cp310-cp310-manylinux_2_17_x86_64.manylinux2014_x86_64.whl (2.0 MB)\n",
            "\u001b[2K     \u001b[90m━━━━━━━━━━━━━━━━━━━━━━━━━━━━━━━━━━━━━━━━\u001b[0m \u001b[32m2.0/2.0 MB\u001b[0m \u001b[31m48.9 MB/s\u001b[0m eta \u001b[36m0:00:00\u001b[0m\n",
            "\u001b[?25hRequirement already satisfied: numpy>=1.17 in /usr/local/lib/python3.10/dist-packages (from qiskit-terra==0.25.1->qiskit) (1.23.5)\n",
            "Collecting ply>=3.10 (from qiskit-terra==0.25.1->qiskit)\n",
            "  Downloading ply-3.11-py2.py3-none-any.whl (49 kB)\n",
            "\u001b[2K     \u001b[90m━━━━━━━━━━━━━━━━━━━━━━━━━━━━━━━━━━━━━━━━\u001b[0m \u001b[32m49.6/49.6 kB\u001b[0m \u001b[31m4.6 MB/s\u001b[0m eta \u001b[36m0:00:00\u001b[0m\n",
            "\u001b[?25hRequirement already satisfied: psutil>=5 in /usr/local/lib/python3.10/dist-packages (from qiskit-terra==0.25.1->qiskit) (5.9.5)\n",
            "Requirement already satisfied: scipy>=1.5 in /usr/local/lib/python3.10/dist-packages (from qiskit-terra==0.25.1->qiskit) (1.11.2)\n",
            "Requirement already satisfied: sympy>=1.3 in /usr/local/lib/python3.10/dist-packages (from qiskit-terra==0.25.1->qiskit) (1.12)\n",
            "Collecting dill>=0.3 (from qiskit-terra==0.25.1->qiskit)\n",
            "  Downloading dill-0.3.7-py3-none-any.whl (115 kB)\n",
            "\u001b[2K     \u001b[90m━━━━━━━━━━━━━━━━━━━━━━━━━━━━━━━━━━━━━━━\u001b[0m \u001b[32m115.3/115.3 kB\u001b[0m \u001b[31m9.8 MB/s\u001b[0m eta \u001b[36m0:00:00\u001b[0m\n",
            "\u001b[?25hRequirement already satisfied: python-dateutil>=2.8.0 in /usr/local/lib/python3.10/dist-packages (from qiskit-terra==0.25.1->qiskit) (2.8.2)\n",
            "Collecting stevedore>=3.0.0 (from qiskit-terra==0.25.1->qiskit)\n",
            "  Downloading stevedore-5.1.0-py3-none-any.whl (49 kB)\n",
            "\u001b[2K     \u001b[90m━━━━━━━━━━━━━━━━━━━━━━━━━━━━━━━━━━━━━━━━\u001b[0m \u001b[32m49.6/49.6 kB\u001b[0m \u001b[31m5.1 MB/s\u001b[0m eta \u001b[36m0:00:00\u001b[0m\n",
            "\u001b[?25hCollecting symengine<0.10,>=0.9 (from qiskit-terra==0.25.1->qiskit)\n",
            "  Downloading symengine-0.9.2-cp310-cp310-manylinux2010_x86_64.whl (37.5 MB)\n",
            "\u001b[2K     \u001b[90m━━━━━━━━━━━━━━━━━━━━━━━━━━━━━━━━━━━━━━━━\u001b[0m \u001b[32m37.5/37.5 MB\u001b[0m \u001b[31m16.2 MB/s\u001b[0m eta \u001b[36m0:00:00\u001b[0m\n",
            "\u001b[?25hRequirement already satisfied: typing-extensions in /usr/local/lib/python3.10/dist-packages (from qiskit-terra==0.25.1->qiskit) (4.5.0)\n",
            "Requirement already satisfied: six>=1.5 in /usr/local/lib/python3.10/dist-packages (from python-dateutil>=2.8.0->qiskit-terra==0.25.1->qiskit) (1.16.0)\n",
            "Collecting pbr!=2.1.0,>=2.0.0 (from stevedore>=3.0.0->qiskit-terra==0.25.1->qiskit)\n",
            "  Downloading pbr-5.11.1-py2.py3-none-any.whl (112 kB)\n",
            "\u001b[2K     \u001b[90m━━━━━━━━━━━━━━━━━━━━━━━━━━━━━━━━━━━━━━\u001b[0m \u001b[32m112.7/112.7 kB\u001b[0m \u001b[31m11.9 MB/s\u001b[0m eta \u001b[36m0:00:00\u001b[0m\n",
            "\u001b[?25hRequirement already satisfied: mpmath>=0.19 in /usr/local/lib/python3.10/dist-packages (from sympy>=1.3->qiskit-terra==0.25.1->qiskit) (1.3.0)\n",
            "Installing collected packages: ply, symengine, rustworkx, pbr, dill, stevedore, qiskit-terra, qiskit_aer, qiskit\n",
            "Successfully installed dill-0.3.7 pbr-5.11.1 ply-3.11 qiskit-0.44.1 qiskit-terra-0.25.1 qiskit_aer-0.12.2 rustworkx-0.13.1 stevedore-5.1.0 symengine-0.9.2\n"
          ]
        }
      ],
      "source": [
        "%pip install qiskit qiskit_aer"
      ],
      "id": "asSgzYHnnT8E"
    },
    {
      "cell_type": "markdown",
      "metadata": {
        "id": "IPRVQYBNTx8w"
      },
      "source": [
        "## loading necessary libraries"
      ],
      "id": "IPRVQYBNTx8w"
    },
    {
      "cell_type": "code",
      "execution_count": null,
      "metadata": {
        "id": "dlRKQIAC6D00"
      },
      "outputs": [],
      "source": [
        "from qiskit.circuit import QuantumCircuit, QuantumRegister, AncillaRegister, ClassicalRegister, ParameterVector\n",
        "from qiskit.compiler import transpile\n",
        "from qiskit import execute\n",
        "from qiskit_aer import AerSimulator\n",
        "from qiskit_aer.noise import NoiseModel, pauli_error, ReadoutError, thermal_relaxation_error, depolarizing_error\n",
        "from qiskit.quantum_info import Statevector, DensityMatrix, Operator\n",
        "\n",
        "from qiskit.visualization import array_to_latex\n",
        "\n",
        "import numpy as np\n",
        "import networkx as nx\n",
        "import matplotlib.pyplot as plt\n",
        "from timeit import default_timer as timer"
      ],
      "id": "dlRKQIAC6D00"
    },
    {
      "cell_type": "markdown",
      "metadata": {
        "id": "kZZELK6X0Djw"
      },
      "source": [
        "## noise models:"
      ],
      "id": "kZZELK6X0Djw"
    },
    {
      "cell_type": "markdown",
      "metadata": {
        "id": "uPdo4AqbiLkw"
      },
      "source": [
        "### IonQ's Aria specifications:\n",
        "depolarizing error probability is probabilities adjusted from thermal noise infidelity: $p = e^{-t/T_2}$ with gate time for $t$"
      ],
      "id": "uPdo4AqbiLkw"
    },
    {
      "cell_type": "code",
      "execution_count": null,
      "metadata": {
        "id": "zTeDgrXH0Dq1"
      },
      "outputs": [],
      "source": [
        "# error probabilities\n",
        "p_meas = 3.9e-3\n",
        "p_reset = 3.9e-3\n",
        "p_gate1 = 6e-4\n",
        "p_gate2 = 6e-3\n",
        "\n",
        "# thermal relaxation error (nanosecond time)\n",
        "T1s = np.random.choice(range(10, 100), 10, replace=False) # consider adjusting range to be more reasonable\n",
        "T2 = 1e9\n",
        "\n",
        "time_meas = np.random.choice(range(600, 700), 10, replace=False)\n",
        "time_u1 = 0 # virtual gate\n",
        "time_gate1 = 1.35e5 # u1 and u2\n",
        "time_gate2 = 6e5 # 2 qubit gate\n",
        "\n",
        "# thermal relaxation error\n",
        "ther_u1  = [thermal_relaxation_error(t1 * 1e9, T2, time_u1)\n",
        "              for t1 in T1s]\n",
        "ther_gate1  = [thermal_relaxation_error(t1 * 1e9, T2, time_gate1)\n",
        "              for t1 in T1s]\n",
        "ther_gate2 = [[thermal_relaxation_error(t1a * 1e9, T2, time_gate2).expand(\n",
        "             thermal_relaxation_error(t1b * 1e9, T2, time_gate2))\n",
        "              for t1a in T1s]\n",
        "               for t1b in T1s]\n",
        "\n",
        "# depolarizing error\n",
        "dep_reset = depolarizing_error(p_reset, 1)\n",
        "dep_gate1 = depolarizing_error(p_gate1 - 1.34990888e-4, 1)\n",
        "dep_gate2 = depolarizing_error(p_gate2 - 5.99820036e-4, 2)\n",
        "\n",
        "# readout error\n",
        "er_meas = ReadoutError([[1 - p_meas, p_meas], [p_meas, 1 - p_meas]])\n",
        "\n",
        "# creating the noise model\n",
        "fake_aria = NoiseModel()\n",
        "\n",
        "for j in range(10):\n",
        "    fake_aria.add_quantum_error(ther_u1[j].compose(dep_gate1), \"u1\", [j])\n",
        "    fake_aria.add_quantum_error(ther_gate1[j].compose(dep_gate1), \"u2\", [j])\n",
        "    fake_aria.add_quantum_error(ther_gate1[j].compose(dep_gate1), \"u3\", [j])\n",
        "    for k in range(10):\n",
        "        fake_aria.add_quantum_error(ther_gate2[j][k].compose(dep_gate2), \"cx\", [j, k])\n",
        "fake_aria.add_all_qubit_quantum_error(dep_reset, \"reset\")\n",
        "fake_aria.add_all_qubit_readout_error(er_meas)"
      ],
      "id": "zTeDgrXH0Dq1"
    },
    {
      "cell_type": "markdown",
      "metadata": {
        "id": "V-voj0syK7t6"
      },
      "source": [
        "### IonQ's Harmony specifications:\n",
        "\n",
        "(it's basically all noise compared to Aria)"
      ],
      "id": "V-voj0syK7t6"
    },
    {
      "cell_type": "code",
      "execution_count": null,
      "metadata": {
        "id": "hW-zPO3mK5-d"
      },
      "outputs": [],
      "source": [
        "h_p_meas = 1.8e-3\n",
        "h_p_reset = 1.8e-3\n",
        "h_p_gate1 = 4e-3\n",
        "h_p_gate2 = 2.7e-2\n",
        "\n",
        "# thermal relaxation error (nanosecond time)\n",
        "h_T1s = np.random.choice(range(10, 100), 10, replace=False) # consider adjusting range to be more reasonable\n",
        "h_T2 = 1e9\n",
        "\n",
        "h_time_meas = np.random.choice(range(600, 700), 10, replace=False) # assumed same as aria\n",
        "h_time_u1 = 0 # virtual gate?\n",
        "h_time_gate1 = 1e4 # u1 and u2\n",
        "h_time_gate2 = 2.1e5 # 2 qubit gate\n",
        "\n",
        "# thermal relaxation error\n",
        "h_ther_u1  = [thermal_relaxation_error(t1 * 1e9, h_T2, h_time_u1)\n",
        "              for t1 in h_T1s]\n",
        "h_ther_gate1  = [thermal_relaxation_error(t1 * 1e9, h_T2, h_time_gate1)\n",
        "              for t1 in h_T1s]\n",
        "h_ther_gate2 = [[thermal_relaxation_error(t1a * 1e9, h_T2, h_time_gate2).expand(\n",
        "             thermal_relaxation_error(t1b * 1e9, h_T2, h_time_gate2))\n",
        "              for t1a in h_T1s]\n",
        "               for t1b in h_T1s]\n",
        "\n",
        "# depolarizing error\n",
        "h_dep_reset = depolarizing_error(h_p_reset, 1)\n",
        "h_dep_gate1 = depolarizing_error(h_p_gate1 - 9.99995e-6, 1)\n",
        "h_dep_gate2 = depolarizing_error(h_p_gate2 - 2.09977952e-4, 2)\n",
        "\n",
        "# readout error\n",
        "h_er_meas = ReadoutError([[1 - p_meas, p_meas], [p_meas, 1 - p_meas]])\n",
        "\n",
        "fake_harmony = NoiseModel()\n",
        "\n",
        "for j in range(10):\n",
        "    fake_harmony.add_quantum_error(h_ther_u1[j].compose(h_dep_gate1), \"u1\", [j])\n",
        "    fake_harmony.add_quantum_error(h_ther_gate1[j].compose(h_dep_gate1), \"u2\", [j])\n",
        "    fake_harmony.add_quantum_error(h_ther_gate1[j].compose(h_dep_gate1), \"u3\", [j])\n",
        "    for k in range(10):\n",
        "        fake_harmony.add_quantum_error(h_ther_gate2[j][k].compose(h_dep_gate2), \"cx\", [j, k])\n",
        "fake_harmony.add_all_qubit_quantum_error(h_dep_reset, \"reset\")\n",
        "fake_harmony.add_all_qubit_readout_error(h_er_meas)"
      ],
      "id": "hW-zPO3mK5-d"
    },
    {
      "cell_type": "markdown",
      "metadata": {
        "id": "4JOxrrxxqNcT"
      },
      "source": [
        "## Grover parameter finder: this optimizes `delta` $\\in (0, 1)$ so that the query complexity is minimal for a given pair of target probability and ratio, `P` and `Lambda`\n",
        "\n",
        "note #1: for target probability $\\sim$ 90%, it helps as long as `Lambda` $\\gg$ `1e-4`\n",
        "\n",
        "note #2: there ought to be a simpler, analytic version of this"
      ],
      "id": "4JOxrrxxqNcT"
    },
    {
      "cell_type": "code",
      "execution_count": null,
      "metadata": {
        "id": "mLZxhHb_0Oyl"
      },
      "outputs": [],
      "source": [
        "# L, x must be positive\n",
        "def Chebyshev(L:  float, x: float):\n",
        "    return np.cos(L * np.arccos(x)) if x <= 1 else np.cosh(L * np.arccosh(x))\n",
        "\n",
        "# delta, Lambda must be in (0, 1)\n",
        "def GroverQueryComplexity(delta: float, Lambda: float):\n",
        "    return int(np.ceil(np.arccosh(1 / delta) / np.arccosh(1 / np.sqrt(1 - Lambda)))) // 2\n",
        "\n",
        "# Lambda must be in (0, 1)\n",
        "def GroverProbability(delta: float, Lambda: float):\n",
        "    L = 2 * GroverQueryComplexity(delta, Lambda) + 1\n",
        "    return 1 - np.power(delta * Chebyshev(L, Chebyshev(1 / L, 1 / delta) * np.sqrt(1 - Lambda)), 2)\n",
        "\n",
        "# P, Lambda must be in (0, 1), N must be a positive integer\n",
        "def GroverParameterOptimizerForProbability(P: float, Lambda: float, N: int):\n",
        "    step, L, p = np.exp2(- N), 0, 0\n",
        "    done = False\n",
        "    while p < P:\n",
        "        L += 1\n",
        "        d = step\n",
        "        l = GroverQueryComplexity(d, Lambda)\n",
        "        while l > L:\n",
        "            d += step\n",
        "            l = GroverQueryComplexity(d, Lambda)\n",
        "        delta = d\n",
        "        while d < 1:\n",
        "            p_new = GroverProbability(d, Lambda)\n",
        "            if p_new >= p:\n",
        "                p, delta = p_new, d\n",
        "            d += step\n",
        "            l = GroverQueryComplexity(d, Lambda)\n",
        "\n",
        "    return delta\n",
        "\n",
        "# Lambda must be in (0, 1), l, N must be positive integers\n",
        "def GroverParameterOptimizerForComplexity(l: int, Lambda: float, N: int):\n",
        "    deltas = np.where(np.int8(np.ceil(np.arccosh(1 / np.linspace(1 - np.exp2(- N), np.exp2(- N), 1 << N)) / np.arccosh(1 / np.sqrt(1 - Lambda)))) // 2 <= l, np.linspace(1 - np.exp2(- N), np.exp2(- N), 1 << N), 0)\n",
        "    delta, prob = deltas[0], GroverProbability(deltas[0], Lambda)\n",
        "    for d in deltas[1: np.where(deltas == 0)[0][0]]:\n",
        "        if GroverProbability(d, Lambda) > prob:\n",
        "            delta, prob = d, GroverProbability(d, Lambda)\n",
        "\n",
        "    return delta"
      ],
      "id": "mLZxhHb_0Oyl"
    },
    {
      "cell_type": "markdown",
      "metadata": {
        "id": "993346e4"
      },
      "source": [
        "# Grover Fixed Point Search for gerenal Quadratic Binary Optimization problems"
      ],
      "id": "993346e4"
    },
    {
      "cell_type": "code",
      "execution_count": null,
      "metadata": {
        "id": "7785745f"
      },
      "outputs": [],
      "source": [
        "def GroverFPSForQUBO(QuadraticForm: list[list[int]], digits: int, threshold: int, delta: float, Lambda: float):\n",
        "\n",
        "    # parameters\n",
        "    l = int(np.ceil(np.arccosh(1 / delta) / np.arccosh(1 / np.sqrt(1 - Lambda)))) // 2\n",
        "    gamma = 1 / np.tanh(np.arccosh(1 / delta) / (2 * l + 1))\n",
        "    GroverPhases = 2 * np.arctan2(gamma, np.tan(np.arange(1, l + 1) * 2 * np.pi / (2 * l + 1)))\n",
        "\n",
        "    # circuit preparation\n",
        "    QRegX = QuantumRegister(len(QuadraticForm), \"x\") # quantum registers for the bit configurations\n",
        "    QControl, QTarget = QRegX[:-1], QRegX[-1] # this is just to make the multi-controlled phase gate's code a bit less confusing\n",
        "    QRegY = AncillaRegister(digits, \"y\") # quantum registers to digitize values\n",
        "\n",
        "    QC = QuantumCircuit(QRegX, QRegY, name=f\"Grover FPS Circuit\")\n",
        "\n",
        "    # state-preparation\n",
        "    QC.h(QRegX[:] + QRegY[:])\n",
        "\n",
        "    # adding threshold - 1\n",
        "    for i, q in enumerate(reversed(QRegY)):\n",
        "        QC.rz((threshold - 1) * np.exp2(- i) * np.pi, q)\n",
        "\n",
        "    # Grover FPS bang-bangs\n",
        "    for alpha, beta in zip(GroverPhases, reversed(GroverPhases)):\n",
        "\n",
        "        # S_t (beta)\n",
        "\n",
        "        # subtracting the quadratic form's value\n",
        "        for i, q in enumerate(QRegX):\n",
        "\n",
        "            # subtracting the row contributions\n",
        "            if np.sum(QuadraticForm[i]) != 0:\n",
        "                for j, p in enumerate(reversed(QRegY)):\n",
        "                    QC.cp(- np.sum(QuadraticForm[i]) * np.exp2(- j) * np.pi, q, p)\n",
        "\n",
        "            # subtracting the x_i XOR x_j contributions\n",
        "            for j, p in enumerate(QRegX[i + 1:]):\n",
        "                if QuadraticForm[i][i + 1 + j] != 0:\n",
        "                    QC.cx(q, p)\n",
        "                    for k, r in enumerate(reversed(QRegY)):\n",
        "                        QC.cp(QuadraticForm[i][i + 1 + j] * np.exp2(- k) * np.pi, p, r)\n",
        "                    QC.cx(q, p)\n",
        "\n",
        "        # inverse QFT without the SWAPs\n",
        "        for i, q in enumerate(reversed(QRegY)):\n",
        "            QC.h(q)\n",
        "            for j, r in enumerate(reversed(QRegY[:- i - 1])):\n",
        "                QC.cp(- np.pi * np.exp2(- (j + 1)), q, r)\n",
        "\n",
        "        QC.p(beta, QRegY[0])\n",
        "\n",
        "        # QFT without the SWAPs\n",
        "        for i, q in enumerate(QRegY):\n",
        "            QC.h(q)\n",
        "            for j, r in enumerate(QRegY[i + 1:]):\n",
        "                QC.cp(np.pi * np.exp2(- (j + 1)), q, r)\n",
        "\n",
        "        # adding back the quadratic form's value\n",
        "        for i, q in enumerate(QRegX):\n",
        "\n",
        "            # adding back the row contributions\n",
        "            if np.sum(QuadraticForm[i]) != 0:\n",
        "                for j, p in enumerate(reversed(QRegY)):\n",
        "                    QC.cp(np.sum(QuadraticForm[i]) * np.exp2(- j) * np.pi, q, p)\n",
        "\n",
        "            # adding back the x_i XOR x_j contributions\n",
        "            for j, p in enumerate(QRegX[i + 1:]):\n",
        "                if QuadraticForm[i][i + 1 + j] != 0:\n",
        "                    QC.cx(q, p)\n",
        "                    for k, r in enumerate(reversed(QRegY)):\n",
        "                        QC.cp(- QuadraticForm[i][i + 1 + j] * np.exp2(- k) * np.pi, p, r)\n",
        "                    QC.cx(q, p)\n",
        "\n",
        "        # S_s (alpha) / this implementation is only better when len(QuadraticForm) > 4\n",
        "        QC.h(QRegX)\n",
        "        QC.x(QRegX)\n",
        "\n",
        "        for i, q in enumerate(reversed(QControl[1:])):\n",
        "            for j, p in enumerate(QControl[len(QControl) - i:]):\n",
        "                QC.crx(np.pi * np.exp2(- (j + 1)), q, p)\n",
        "            QC.cp(alpha * np.exp2(- (i + 1)), q, QTarget)\n",
        "\n",
        "        for i, q in enumerate(QControl[1:]):\n",
        "            QC.crx(np.pi * np.exp2(- i), QControl[0], q)\n",
        "            QC.cp(- alpha * np.exp2(i + 1 - len(QControl)), q, QTarget)\n",
        "            for j, p in enumerate(QControl[i + 2:]):\n",
        "                QC.crx(- np.pi * np.exp2(- (j + 1)), q, p)\n",
        "\n",
        "        QC.cp(alpha * np.exp2(1 - len(QControl)), QControl[0], QTarget)\n",
        "\n",
        "        for i, q in enumerate(reversed(QControl[1:])):\n",
        "            for j, p in enumerate(QControl[len(QControl) - i:]):\n",
        "                QC.crx(np.pi * np.exp2(- (j + 1)), q, p)\n",
        "\n",
        "        for i, q in enumerate(QControl[1:]):\n",
        "            QC.crx(- np.pi * np.exp2(- i), QControl[0], q)\n",
        "            for j, p in enumerate(QControl[i + 2:]):\n",
        "                QC.crx(- np.pi * np.exp2(- (j + 1)), q, p)\n",
        "\n",
        "        QC.x(QRegX)\n",
        "        QC.h(QRegX)\n",
        "\n",
        "    return QC"
      ],
      "id": "7785745f"
    },
    {
      "cell_type": "markdown",
      "metadata": {
        "id": "7ca40d78"
      },
      "source": [
        "# parameters & testing for MaxCut:"
      ],
      "id": "7ca40d78"
    },
    {
      "cell_type": "code",
      "execution_count": null,
      "metadata": {
        "colab": {
          "base_uri": "https://localhost:8080/",
          "height": 516
        },
        "id": "149f166a",
        "outputId": "495cc742-3ef3-4d8c-e5ef-d4cbbd0935d0",
        "scrolled": true
      },
      "outputs": [
        {
          "output_type": "display_data",
          "data": {
            "text/plain": [
              "<Figure size 640x480 with 1 Axes>"
            ],
            "image/png": "[encoded data removed]"
          },
          "metadata": {}
        }
      ],
      "source": [
        "# random, connected graph\n",
        "NumberOfVertices, EdgeProbability = 7, 5e-1\n",
        "Graph = nx.erdos_renyi_graph(NumberOfVertices, EdgeProbability)\n",
        "while not nx.is_connected(Graph):\n",
        "    Graph = nx.erdos_renyi_graph(NumberOfVertices, EdgeProbability)\n",
        "nx.draw(Graph, with_labels=False)\n",
        "\n",
        "GraphLaplacian = nx.laplacian_matrix(Graph).toarray()\n",
        "NumberOfEdges = np.trace(GraphLaplacian) // 2\n",
        "threshold = int(np.ceil((2 * NumberOfEdges + NumberOfVertices - 1)/4))\n",
        "digits = 1 + int(np.ceil(np.log2(threshold))) if NumberOfVertices > 2 else 1 # number of ancilla qubits needed to digitize cuts\n",
        "\n",
        "# let's get rid of the vertex with the highest degree; this step, is not necessary, but saves one qubit\n",
        "maxdegvertex = np.where(np.diag(GraphLaplacian) == max(np.diag(GraphLaplacian)))[0][0]\n",
        "if maxdegvertex + 1 != NumberOfVertices:\n",
        "    GraphLaplacian[[maxdegvertex, -1], :] = GraphLaplacian[[-1, maxdegvertex], :]\n",
        "    GraphLaplacian[:, [maxdegvertex, -1]] = GraphLaplacian[:, [-1, maxdegvertex]]\n",
        "QuadraticForm = GraphLaplacian[np.ix_(np.arange(NumberOfVertices - 1), np.arange(NumberOfVertices - 1))]\n",
        "\n",
        "# classical, brute-force cut-function and MaxCut computation\n",
        "cuts = np.empty(1 << len(QuadraticForm), dtype=int)\n",
        "for x, _ in enumerate(cuts):\n",
        "    conf = (x >> np.arange(len(QuadraticForm)))&1\n",
        "    cuts[x] = np.dot(np.matmul(conf, QuadraticForm), conf)\n",
        "MaxCut = max(cuts)\n",
        "\n",
        "# cut statistics\n",
        "RandomChance, Lambda, m, sigma = np.array([np.sum(np.where(cuts == cut, 1, 0)) for cut in range(MaxCut + 1)]) * np.exp2(1 - NumberOfVertices), np.sum(np.where(cuts >= threshold, 1, 0)) * np.exp2(1 - NumberOfVertices), NumberOfEdges / 2, np.std(cuts)"
      ],
      "id": "149f166a"
    },
    {
      "cell_type": "code",
      "execution_count": null,
      "metadata": {
        "colab": {
          "base_uri": "https://localhost:8080/"
        },
        "id": "LEwbShaA-Kfp",
        "outputId": "a1be4949-5faf-45e7-9b2f-a1cdb972749a"
      },
      "outputs": [
        {
          "output_type": "stream",
          "name": "stdout",
          "text": [
            "MaxCut\tthreshold\tLambda\ttarget probability\tdelta\tl\tdigits\n",
            "6\t5\t\t0.11\t70.15%\t\t\t0.94\t1\t4\n",
            "\n"
          ]
        }
      ],
      "source": [
        "l = 1\n",
        "delta = GroverParameterOptimizerForComplexity(l, Lambda, 12)\n",
        "TargetProbability = GroverProbability(delta, Lambda)\n",
        "\n",
        "print(f\"MaxCut\\tthreshold\\tLambda\\ttarget probability\\tdelta\\tl\\tdigits\\n{MaxCut}\\t{threshold}\\t\\t{np.round(Lambda, 2)}\\t{TargetProbability:.2%}\\t\\t\\t{np.round(delta, 2)}\\t{l}\\t{digits}\\n\")"
      ],
      "id": "LEwbShaA-Kfp"
    },
    {
      "cell_type": "markdown",
      "metadata": {
        "id": "02eec6db"
      },
      "source": [
        "### simulation and evaluation of data:"
      ],
      "id": "02eec6db"
    },
    {
      "cell_type": "code",
      "execution_count": null,
      "metadata": {
        "colab": {
          "base_uri": "https://localhost:8080/"
        },
        "id": "016ec09c",
        "outputId": "662102c4-fe9a-4a75-b79e-4bde862c4b42"
      },
      "outputs": [
        {
          "output_type": "stream",
          "name": "stdout",
          "text": [
            "\n",
            "computation with Grover Fixed Point Search...\n",
            "\n",
            "done in 7.93 seconds\n",
            "\n"
          ]
        }
      ],
      "source": [
        "noise = True\n",
        "#noise = False\n",
        "\n",
        "print(f\"\\ncomputation with Grover Fixed Point Search...\\n\")\n",
        "StartTime = timer()\n",
        "\n",
        "QC = GroverFPSForQUBO(QuadraticForm, digits, threshold, delta, Lambda)\n",
        "\n",
        "if noise:\n",
        "    QC.save_density_matrix(qubits=QC.qubits[:-QC.num_ancillas],\n",
        "                           label=\"ϱ\")\n",
        "    simulator = AerSimulator(method=\"density_matrix\",\n",
        "                             noise_model=fake_aria)\n",
        "    QC = transpile(circuits=QC,\n",
        "                   backend=simulator,\n",
        "                   optimization_level=3)\n",
        "    psi = simulator.run(QC, shots=1).result().data()[\"ϱ\"]\n",
        "else:\n",
        "    QC.save_statevector()\n",
        "    simulator = AerSimulator(method=\"statevector\")\n",
        "    QC = transpile(circuits=QC,\n",
        "                   backend=simulator,\n",
        "                   basis_gates=[\"h\", \"rx\", \"ry\", \"rz\", \"cx\", \"save_statevector\"],\n",
        "                   optimization_level=3)\n",
        "    psi = Statevector(execute(QC, simulator).result().get_statevector())\n",
        "\n",
        "EndTime = timer()\n",
        "print(f\"done in {np.round(EndTime - StartTime, 2)} seconds\\n\")"
      ],
      "id": "016ec09c"
    },
    {
      "cell_type": "code",
      "source": [
        "probabilities = psi.probabilities(np.arange(QC.num_qubits - QC.num_ancillas))\n",
        "distribution, success = np.array([np.sum(np.where(cuts == cut, probabilities, 0)) for cut in range(MaxCut + 1)]), np.sum(np.where(cuts >= threshold, probabilities, 0))\n",
        "M = np.sum(np.arange(len(distribution)) * distribution)\n",
        "var = np.sqrt(np.sum(np.arange(len(distribution)) * np.arange(len(distribution)) * distribution) - M**2)\n",
        "sign_m, sign_sigma = \"+\" if M >= m else \"-\", \"+\" if var >= sigma else \"-\"\n",
        "CNOTCount = QC.count_ops()[\"cx\"]"
      ],
      "metadata": {
        "id": "CCAUsax1XqDL"
      },
      "id": "CCAUsax1XqDL",
      "execution_count": null,
      "outputs": []
    },
    {
      "cell_type": "code",
      "source": [
        "s = f\"simulation with\"\n",
        "s += f\"\" if noise else f\"out\"\n",
        "s += f\" noise\\n\\nthe graph:\\n----------\\nMaxCut\\t\\t\\t\\t= {MaxCut}\\nnumber of edges\\t\\t\\t= {NumberOfEdges}\\n\"\n",
        "s += f\"threshold (Erdős-Edwards bound)\\t= {threshold} ({threshold/MaxCut:.1%} of MaxCut)\"\n",
        "s += f\"\\n\\nthe graph Laplacian:\\n--------------------\\n\\n\" + f\"\".join([f\"{row.view()}\\n\" for row in GraphLaplacian])\n",
        "s += f\"\\nGrover parameters:\\n------------------\\nLambda\\t\\t\\t= {np.round(Lambda, 2)}\\ndelta\\t\\t\\t= {np.round(delta, 2)}\"\n",
        "s += f\"\\nquery complexity\\t= {l} (vanilla Grover = {int(np.rint(np.pi / (4 * np.sqrt(Lambda))))})\\n\\nresults with Grover:\\n--------------------\\n\\n\"\n",
        "s += f\"success probability\\t= {success:.1%} (theoretical value = {TargetProbability:.1%}, random chance = {Lambda:.1%})\\n\"\n",
        "s += f\"speedup\\t\\t\\t= {np.round(np.log1p(- success)/np.log1p(- Lambda), 2)}\\n\\n\"\n",
        "s += f\"expectation\\t\\t= {np.round(M, 1)}\\t({m} {sign_m} {np.round(abs(M - m), 1)})\\n\"\n",
        "s += f\"variance\\t\\t= {np.round(var, 1)}\\t({np.round(sigma, 1)} {sign_sigma} {np.round(abs(var - sigma), 1)})\\n\\n\"\n",
        "s += f\"CNOT count\\t\\t= {CNOTCount}\\ncircuit depth\\t\\t= {QC.depth()}\"\n",
        "print(s)"
      ],
      "metadata": {
        "id": "-tdL3ftb-IUz",
        "colab": {
          "base_uri": "https://localhost:8080/"
        },
        "outputId": "80c232ea-a8ca-44e6-e94a-daa7e78495bd"
      },
      "id": "-tdL3ftb-IUz",
      "execution_count": null,
      "outputs": [
        {
          "output_type": "stream",
          "name": "stdout",
          "text": [
            "simulation with noise\n",
            "\n",
            "the graph:\n",
            "----------\n",
            "MaxCut\t\t\t\t= 6\n",
            "number of edges\t\t\t= 6\n",
            "threshold (Erdős-Edwards bound)\t= 5 (83.3% of MaxCut)\n",
            "\n",
            "the graph Laplacian:\n",
            "--------------------\n",
            "\n",
            "[ 1  0  0  0  0  0 -1]\n",
            "[ 0  2 -1  0  0  0 -1]\n",
            "[ 0 -1  1  0  0  0  0]\n",
            "[ 0  0  0  1  0  0 -1]\n",
            "[ 0  0  0  0  2 -1 -1]\n",
            "[ 0  0  0  0 -1  1  0]\n",
            "[-1 -1  0 -1 -1  0  4]\n",
            "\n",
            "Grover parameters:\n",
            "------------------\n",
            "Lambda\t\t\t= 0.11\n",
            "delta\t\t\t= 0.94\n",
            "query complexity\t= 1 (vanilla Grover = 2)\n",
            "\n",
            "results with Grover:\n",
            "--------------------\n",
            "\n",
            "success probability\t= 31.9% (theoretical value = 70.1%, random chance = 10.9%)\n",
            "speedup\t\t\t= 3.32\n",
            "\n",
            "expectation\t\t= 3.5\t(3.0 + 0.5)\n",
            "variance\t\t= 1.4\t(1.2 + 0.2)\n",
            "\n",
            "CNOT count\t\t= 192\n",
            "circuit depth\t\t= 262\n"
          ]
        }
      ]
    },
    {
      "cell_type": "code",
      "execution_count": null,
      "metadata": {
        "colab": {
          "base_uri": "https://localhost:8080/",
          "height": 465
        },
        "id": "ZIXBoQB_3z82",
        "outputId": "a7b19760-c514-491e-a6bd-e25a6f840298"
      },
      "outputs": [
        {
          "output_type": "display_data",
          "data": {
            "text/plain": [
              "<Figure size 1500x500 with 3 Axes>"
            ],
            "image/png": "[encoded data removed]"
          },
          "metadata": {}
        }
      ],
      "source": [
        "fig, axs = plt.subplots(nrows=1, ncols=3, sharey=True, figsize=(15, 5))\n",
        "\n",
        "axs[0].bar(np.arange(len(RandomChance)),\n",
        "           RandomChance,\n",
        "           width=0.5,\n",
        "           color=\"red\")\n",
        "axs[0].set(xlabel=f\"cuts before Grover\",\n",
        "           ylabel=f\"probabilities\")\n",
        "axs[0].axvline(x = threshold - 1/2,\n",
        "               linewidth=0.75,\n",
        "               color=\"black\")\n",
        "\n",
        "axs[1].bar(np.arange(len(distribution)),\n",
        "           distribution,\n",
        "           width=0.5,\n",
        "           color=\"green\")\n",
        "axs[1].set(xlabel=f\"cuts after Grover\")\n",
        "axs[1].axvline(x = threshold - 1/2,\n",
        "               linewidth=0.75,\n",
        "               color=\"black\")\n",
        "\n",
        "axs[2].bar(np.arange(len(distribution)),\n",
        "           distribution - RandomChance,\n",
        "           width=0.5,\n",
        "           color=\"midnightblue\")\n",
        "axs[2].set(xlabel=f\"difference\")\n",
        "axs[2].axvline(x = threshold - 1/2,\n",
        "               linewidth=0.75,\n",
        "               color=\"black\",\n",
        "               label=f\"Erdős-Edwards bound\")\n",
        "\n",
        "plt.legend(bbox_to_anchor = (1.0, 1), loc = \"upper left\")\n",
        "\n",
        "plt.show()"
      ],
      "id": "ZIXBoQB_3z82"
    },
    {
      "cell_type": "markdown",
      "source": [
        "# Adaptive search"
      ],
      "metadata": {
        "id": "HsWtTkfq6Uji"
      },
      "id": "HsWtTkfq6Uji"
    },
    {
      "cell_type": "code",
      "source": [],
      "metadata": {
        "id": "18H9-18QDj3y"
      },
      "id": "18H9-18QDj3y",
      "execution_count": null,
      "outputs": []
    }
  ],
  "metadata": {
    "colab": {
      "collapsed_sections": [
        "THzaoqHo13RE",
        "FTiJALVtnQIW",
        "IPRVQYBNTx8w",
        "kZZELK6X0Djw",
        "uPdo4AqbiLkw",
        "V-voj0syK7t6",
        "4JOxrrxxqNcT"
      ],
      "provenance": []
    },
    "kernelspec": {
      "display_name": "Python 3 (ipykernel)",
      "language": "python",
      "name": "python3"
    },
    "language_info": {
      "codemirror_mode": {
        "name": "ipython",
        "version": 3
      },
      "file_extension": ".py",
      "mimetype": "text/x-python",
      "name": "python",
      "nbconvert_exporter": "python",
      "pygments_lexer": "ipython3",
      "version": "3.11.3"
    }
  },
  "nbformat": 4,
  "nbformat_minor": 5
}
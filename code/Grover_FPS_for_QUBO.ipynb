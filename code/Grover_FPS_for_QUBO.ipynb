{
  "cells": [
    {
      "cell_type": "markdown",
      "id": "THzaoqHo13RE",
      "metadata": {
        "id": "THzaoqHo13RE"
      },
      "source": [
        "# preparations"
      ]
    },
    {
      "cell_type": "markdown",
      "id": "FTiJALVtnQIW",
      "metadata": {
        "id": "FTiJALVtnQIW"
      },
      "source": [
        "## install Qiskit"
      ]
    },
    {
      "cell_type": "code",
      "execution_count": 36,
      "id": "asSgzYHnnT8E",
      "metadata": {
        "colab": {
          "base_uri": "https://localhost:8080/"
        },
        "id": "asSgzYHnnT8E",
        "outputId": "e681943c-5022-4601-e6a2-11b4080f7674"
      },
      "outputs": [
        {
          "name": "stdout",
          "output_type": "stream",
          "text": [
            "Requirement already satisfied: qiskit in /usr/local/lib/python3.10/dist-packages (0.44.2)\n",
            "Requirement already satisfied: qiskit_aer in /usr/local/lib/python3.10/dist-packages (0.12.2)\n",
            "Requirement already satisfied: qiskit-terra==0.25.2.1 in /usr/local/lib/python3.10/dist-packages (from qiskit) (0.25.2.1)\n",
            "Requirement already satisfied: rustworkx>=0.13.0 in /usr/local/lib/python3.10/dist-packages (from qiskit-terra==0.25.2.1->qiskit) (0.13.2)\n",
            "Requirement already satisfied: numpy>=1.17 in /usr/local/lib/python3.10/dist-packages (from qiskit-terra==0.25.2.1->qiskit) (1.23.5)\n",
            "Requirement already satisfied: ply>=3.10 in /usr/local/lib/python3.10/dist-packages (from qiskit-terra==0.25.2.1->qiskit) (3.11)\n",
            "Requirement already satisfied: psutil>=5 in /usr/local/lib/python3.10/dist-packages (from qiskit-terra==0.25.2.1->qiskit) (5.9.5)\n",
            "Requirement already satisfied: scipy>=1.5 in /usr/local/lib/python3.10/dist-packages (from qiskit-terra==0.25.2.1->qiskit) (1.11.3)\n",
            "Requirement already satisfied: sympy>=1.3 in /usr/local/lib/python3.10/dist-packages (from qiskit-terra==0.25.2.1->qiskit) (1.12)\n",
            "Requirement already satisfied: dill>=0.3 in /usr/local/lib/python3.10/dist-packages (from qiskit-terra==0.25.2.1->qiskit) (0.3.7)\n",
            "Requirement already satisfied: python-dateutil>=2.8.0 in /usr/local/lib/python3.10/dist-packages (from qiskit-terra==0.25.2.1->qiskit) (2.8.2)\n",
            "Requirement already satisfied: stevedore>=3.0.0 in /usr/local/lib/python3.10/dist-packages (from qiskit-terra==0.25.2.1->qiskit) (5.1.0)\n",
            "Requirement already satisfied: symengine<0.10,>=0.9 in /usr/local/lib/python3.10/dist-packages (from qiskit-terra==0.25.2.1->qiskit) (0.9.2)\n",
            "Requirement already satisfied: typing-extensions in /usr/local/lib/python3.10/dist-packages (from qiskit-terra==0.25.2.1->qiskit) (4.5.0)\n",
            "Requirement already satisfied: six>=1.5 in /usr/local/lib/python3.10/dist-packages (from python-dateutil>=2.8.0->qiskit-terra==0.25.2.1->qiskit) (1.16.0)\n",
            "Requirement already satisfied: pbr!=2.1.0,>=2.0.0 in /usr/local/lib/python3.10/dist-packages (from stevedore>=3.0.0->qiskit-terra==0.25.2.1->qiskit) (5.11.1)\n",
            "Requirement already satisfied: mpmath>=0.19 in /usr/local/lib/python3.10/dist-packages (from sympy>=1.3->qiskit-terra==0.25.2.1->qiskit) (1.3.0)\n"
          ]
        }
      ],
      "source": [
        "%pip install qiskit qiskit_aer"
      ]
    },
    {
      "cell_type": "markdown",
      "id": "IPRVQYBNTx8w",
      "metadata": {
        "id": "IPRVQYBNTx8w"
      },
      "source": [
        "## loading necessary libraries"
      ]
    },
    {
      "cell_type": "code",
      "execution_count": 1,
      "id": "dlRKQIAC6D00",
      "metadata": {
        "id": "dlRKQIAC6D00"
      },
      "outputs": [],
      "source": [
        "from qiskit.circuit import QuantumCircuit, QuantumRegister, AncillaRegister, ClassicalRegister, ParameterVector\n",
        "from qiskit.compiler import transpile\n",
        "from qiskit import execute\n",
        "from qiskit_aer import AerSimulator\n",
        "from qiskit_aer.noise import NoiseModel, pauli_error, ReadoutError, thermal_relaxation_error, depolarizing_error\n",
        "from qiskit.quantum_info import Statevector, DensityMatrix, Operator\n",
        "\n",
        "import numpy as np\n",
        "import networkx as nx\n",
        "import matplotlib.pyplot as plt\n",
        "from timeit import default_timer as timer"
      ]
    },
    {
      "cell_type": "markdown",
      "id": "kZZELK6X0Djw",
      "metadata": {
        "id": "kZZELK6X0Djw"
      },
      "source": [
        "## noise models:"
      ]
    },
    {
      "cell_type": "markdown",
      "id": "uPdo4AqbiLkw",
      "metadata": {
        "id": "uPdo4AqbiLkw"
      },
      "source": [
        "### IonQ's Aria specifications:\n",
        "depolarizing error probability is probabilities adjusted from thermal noise infidelity: $p = e^{-t/T_2}$ with gate time for $t$"
      ]
    },
    {
      "cell_type": "code",
      "execution_count": 2,
      "id": "zTeDgrXH0Dq1",
      "metadata": {
        "id": "zTeDgrXH0Dq1"
      },
      "outputs": [],
      "source": [
        "# error probabilities\n",
        "p_meas = 3.9e-3\n",
        "p_reset = 3.9e-3\n",
        "p_gate1 = 6e-4\n",
        "p_gate2 = 6e-3\n",
        "\n",
        "# thermal relaxation error (nanosecond time)\n",
        "T1s = np.random.choice(range(10, 100), 10, replace=False) # consider adjusting range to be more reasonable\n",
        "T2 = 1e9\n",
        "\n",
        "time_meas = np.random.choice(range(600, 700), 10, replace=False)\n",
        "time_u1 = 0 # virtual gate\n",
        "time_gate1 = 1.35e5 # u1 and u2\n",
        "time_gate2 = 6e5 # 2 qubit gate\n",
        "\n",
        "# thermal relaxation error\n",
        "ther_u1  = [thermal_relaxation_error(t1 * 1e9, T2, time_u1)\n",
        "              for t1 in T1s]\n",
        "ther_gate1  = [thermal_relaxation_error(t1 * 1e9, T2, time_gate1)\n",
        "              for t1 in T1s]\n",
        "ther_gate2 = [[thermal_relaxation_error(t1a * 1e9, T2, time_gate2).expand(\n",
        "             thermal_relaxation_error(t1b * 1e9, T2, time_gate2))\n",
        "              for t1a in T1s]\n",
        "               for t1b in T1s]\n",
        "\n",
        "# depolarizing error\n",
        "dep_reset = depolarizing_error(p_reset, 1)\n",
        "dep_gate1 = depolarizing_error(p_gate1 - 1.34990888e-4, 1)\n",
        "dep_gate2 = depolarizing_error(p_gate2 - 5.99820036e-4, 2)\n",
        "\n",
        "# readout error\n",
        "er_meas = ReadoutError([[1 - p_meas, p_meas], [p_meas, 1 - p_meas]])\n",
        "\n",
        "# creating the noise model\n",
        "fake_aria = NoiseModel()\n",
        "\n",
        "for j in range(10):\n",
        "    fake_aria.add_quantum_error(ther_u1[j].compose(dep_gate1), \"u1\", [j])\n",
        "    fake_aria.add_quantum_error(ther_gate1[j].compose(dep_gate1), \"u2\", [j])\n",
        "    fake_aria.add_quantum_error(ther_gate1[j].compose(dep_gate1), \"u3\", [j])\n",
        "    for k in range(10):\n",
        "        fake_aria.add_quantum_error(ther_gate2[j][k].compose(dep_gate2), \"cx\", [j, k])\n",
        "fake_aria.add_all_qubit_quantum_error(dep_reset, \"reset\")\n",
        "fake_aria.add_all_qubit_readout_error(er_meas)"
      ]
    },
    {
      "cell_type": "markdown",
      "id": "V-voj0syK7t6",
      "metadata": {
        "id": "V-voj0syK7t6"
      },
      "source": [
        "### IonQ's Harmony specifications:\n",
        "\n",
        "(it's basically all noise compared to Aria)"
      ]
    },
    {
      "cell_type": "code",
      "execution_count": 3,
      "id": "hW-zPO3mK5-d",
      "metadata": {
        "id": "hW-zPO3mK5-d"
      },
      "outputs": [],
      "source": [
        "h_p_meas = 1.8e-3\n",
        "h_p_reset = 1.8e-3\n",
        "h_p_gate1 = 4e-3\n",
        "h_p_gate2 = 2.7e-2\n",
        "\n",
        "# thermal relaxation error (nanosecond time)\n",
        "h_T1s = np.random.choice(range(10, 100), 10, replace=False) # consider adjusting range to be more reasonable\n",
        "h_T2 = 1e9\n",
        "\n",
        "h_time_meas = np.random.choice(range(600, 700), 10, replace=False) # assumed same as aria\n",
        "h_time_u1 = 0 # virtual gate?\n",
        "h_time_gate1 = 1e4 # u1 and u2\n",
        "h_time_gate2 = 2.1e5 # 2 qubit gate\n",
        "\n",
        "# thermal relaxation error\n",
        "h_ther_u1  = [thermal_relaxation_error(t1 * 1e9, h_T2, h_time_u1)\n",
        "              for t1 in h_T1s]\n",
        "h_ther_gate1  = [thermal_relaxation_error(t1 * 1e9, h_T2, h_time_gate1)\n",
        "              for t1 in h_T1s]\n",
        "h_ther_gate2 = [[thermal_relaxation_error(t1a * 1e9, h_T2, h_time_gate2).expand(\n",
        "             thermal_relaxation_error(t1b * 1e9, h_T2, h_time_gate2))\n",
        "              for t1a in h_T1s]\n",
        "               for t1b in h_T1s]\n",
        "\n",
        "# depolarizing error\n",
        "h_dep_reset = depolarizing_error(h_p_reset, 1)\n",
        "h_dep_gate1 = depolarizing_error(h_p_gate1 - 9.99995e-6, 1)\n",
        "h_dep_gate2 = depolarizing_error(h_p_gate2 - 2.09977952e-4, 2)\n",
        "\n",
        "# readout error\n",
        "h_er_meas = ReadoutError([[1 - p_meas, p_meas], [p_meas, 1 - p_meas]])\n",
        "\n",
        "fake_harmony = NoiseModel()\n",
        "\n",
        "for j in range(10):\n",
        "    fake_harmony.add_quantum_error(h_ther_u1[j].compose(h_dep_gate1), \"u1\", [j])\n",
        "    fake_harmony.add_quantum_error(h_ther_gate1[j].compose(h_dep_gate1), \"u2\", [j])\n",
        "    fake_harmony.add_quantum_error(h_ther_gate1[j].compose(h_dep_gate1), \"u3\", [j])\n",
        "    for k in range(10):\n",
        "        fake_harmony.add_quantum_error(h_ther_gate2[j][k].compose(h_dep_gate2), \"cx\", [j, k])\n",
        "fake_harmony.add_all_qubit_quantum_error(h_dep_reset, \"reset\")\n",
        "fake_harmony.add_all_qubit_readout_error(h_er_meas)"
      ]
    },
    {
      "cell_type": "markdown",
      "id": "4JOxrrxxqNcT",
      "metadata": {
        "id": "4JOxrrxxqNcT"
      },
      "source": [
        "## Grover parameter finder: this optimizes `delta` $\\in (0, 1)$ so that the query complexity is minimal for a given pair of target probability and ratio, `P` and `Lambda`\n",
        "\n",
        "note #1: for target probability $\\sim$ 90%, it helps as long as `Lambda` $\\gg$ `1e-4`\n",
        "\n",
        "note #2: there ought to be a simpler, analytic version of this"
      ]
    },
    {
      "cell_type": "code",
      "execution_count": 4,
      "id": "mLZxhHb_0Oyl",
      "metadata": {
        "id": "mLZxhHb_0Oyl"
      },
      "outputs": [],
      "source": [
        "# L, x must be positive\n",
        "def Chebyshev(L:  float, x: float):\n",
        "    return np.cos(L * np.arccos(x)) if x <= 1 else np.cosh(L * np.arccosh(x))\n",
        "\n",
        "# delta, Lambda must be in (0, 1)\n",
        "def GroverQueryComplexity(delta: float, Lambda: float):\n",
        "    return int(np.ceil(np.arccosh(1 / delta) / np.arccosh(1 / np.sqrt(1 - Lambda)))) // 2\n",
        "\n",
        "# Lambda must be in (0, 1)\n",
        "def GroverProbability(delta: float, Lambda: float):\n",
        "    L = 2 * GroverQueryComplexity(delta, Lambda) + 1\n",
        "    return 1 - np.power(delta * Chebyshev(L, Chebyshev(1 / L, 1 / delta) * np.sqrt(1 - Lambda)), 2)\n",
        "\n",
        "# P, Lambda must be in (0, 1), N must be a positive integer\n",
        "def GroverParameterOptimizerForProbability(P: float, Lambda: float, N: int):\n",
        "    step, L, p = np.exp2(- N), 0, 0\n",
        "    done = False\n",
        "    while p < P:\n",
        "        L += 1\n",
        "        d = step\n",
        "        l = GroverQueryComplexity(d, Lambda)\n",
        "        while l > L:\n",
        "            d += step\n",
        "            l = GroverQueryComplexity(d, Lambda)\n",
        "        delta = d\n",
        "        while d < 1:\n",
        "            p_new = GroverProbability(d, Lambda)\n",
        "            if p_new >= p:\n",
        "                p, delta = p_new, d\n",
        "            d += step\n",
        "            l = GroverQueryComplexity(d, Lambda)\n",
        "\n",
        "    return delta\n",
        "\n",
        "# Lambda must be in (0, 1), l, N must be positive integers\n",
        "def GroverParameterOptimizerForComplexity(l: int, Lambda: float, N: int):\n",
        "    deltas = np.where(np.int8(np.ceil(np.arccosh(1 / np.linspace(1 - np.exp2(- N), np.exp2(- N), 1 << N)) / np.arccosh(1 / np.sqrt(1 - Lambda)))) // 2 <= l, np.linspace(1 - np.exp2(- N), np.exp2(- N), 1 << N), 0)\n",
        "    delta, prob = deltas[0], GroverProbability(deltas[0], Lambda)\n",
        "    for d in deltas[1: np.where(deltas == 0)[0][0]]:\n",
        "        if GroverProbability(d, Lambda) > prob:\n",
        "            delta, prob = d, GroverProbability(d, Lambda)\n",
        "\n",
        "    return delta"
      ]
    },
    {
      "cell_type": "markdown",
      "id": "993346e4",
      "metadata": {
        "id": "993346e4"
      },
      "source": [
        "# Grover Fixed Point Search for gerenal Quadratic Binary Optimization problems"
      ]
    },
    {
      "cell_type": "code",
      "execution_count": 5,
      "id": "7785745f",
      "metadata": {
        "id": "7785745f"
      },
      "outputs": [],
      "source": [
        "def GroverFPSForQUBO(QuadraticForm: list[list[int]], digits: int, threshold: int, delta: float, Lambda: float):\n",
        "\n",
        "    # parameters\n",
        "    l = int(np.ceil(np.arccosh(1 / delta) / np.arccosh(1 / np.sqrt(1 - Lambda)))) // 2\n",
        "    gamma = 1 / np.tanh(np.arccosh(1 / delta) / (2 * l + 1))\n",
        "    GroverPhases = 2 * np.arctan2(gamma, np.tan(np.arange(1, l + 1) * 2 * np.pi / (2 * l + 1)))\n",
        "\n",
        "    # circuit preparation\n",
        "    QRegX = QuantumRegister(len(QuadraticForm), \"x\") # quantum registers for the bit configurations\n",
        "    QControl, QTarget = QRegX[:-1], QRegX[-1] # this is just to make the multi-controlled phase gate's code a bit less confusing\n",
        "    QRegY = AncillaRegister(digits, \"y\") # quantum registers to digitize values\n",
        "\n",
        "    QC = QuantumCircuit(QRegX, QRegY, name=f\"Grover FPS Circuit\")\n",
        "\n",
        "    # state-preparation\n",
        "    QC.h(QRegX[:] + QRegY[:])\n",
        "\n",
        "    # adding threshold - 1\n",
        "    for i, q in enumerate(reversed(QRegY)):\n",
        "        QC.rz((threshold - 1) * np.exp2(- i) * np.pi, q)\n",
        "\n",
        "    # Grover FPS bang-bangs\n",
        "    for alpha, beta in zip(GroverPhases, reversed(GroverPhases)):\n",
        "\n",
        "        # S_t (beta)\n",
        "\n",
        "        # subtracting the quadratic form's value\n",
        "        for i, [q, row] in enumerate(zip(QRegX, QuadraticForm)):\n",
        "\n",
        "            # subtracting the row contributions\n",
        "            if np.sum(row) != 0:\n",
        "                for j, p in enumerate(reversed(QRegY)):\n",
        "                    QC.cp(- np.sum(row) * np.exp2(- j) * np.pi, q, p)\n",
        "\n",
        "            # subtracting the x_i XOR x_j contributions\n",
        "            for p, Q_ij in zip(QRegX[i + 1:], row[i + 1:]):\n",
        "                if Q_ij != 0:\n",
        "                    QC.cx(q, p)\n",
        "                    for k, r in enumerate(reversed(QRegY)):\n",
        "                        QC.cp(Q_ij * np.exp2(- k) * np.pi, p, r)\n",
        "                    QC.cx(q, p)\n",
        "\n",
        "        # inverse QFT without the SWAPs\n",
        "        for i, q in enumerate(reversed(QRegY)):\n",
        "            QC.h(q)\n",
        "            for j, r in enumerate(reversed(QRegY[:- i - 1])):\n",
        "                QC.cp(- np.pi * np.exp2(- (j + 1)), q, r)\n",
        "\n",
        "        QC.p(beta, QRegY[0])\n",
        "\n",
        "        # QFT without the SWAPs\n",
        "        for i, q in enumerate(QRegY):\n",
        "            QC.h(q)\n",
        "            for j, r in enumerate(QRegY[i + 1:]):\n",
        "                QC.cp(np.pi * np.exp2(- (j + 1)), q, r)\n",
        "\n",
        "        # adding back the quadratic form's value\n",
        "        for i, [q, row] in enumerate(zip(QRegX, QuadraticForm)):\n",
        "\n",
        "            # adding back the row contributions\n",
        "            if np.sum(row) != 0:\n",
        "                for j, p in enumerate(reversed(QRegY)):\n",
        "                    QC.cp(np.sum(row) * np.exp2(- j) * np.pi, q, p)\n",
        "\n",
        "            # adding back the x_i XOR x_j contributions\n",
        "            for p, Q_ij in zip(QRegX[i + 1:], row[i + 1:]):\n",
        "                if Q_ij != 0:\n",
        "                    QC.cx(q, p)\n",
        "                    for k, r in enumerate(reversed(QRegY)):\n",
        "                        QC.cp(- Q_ij * np.exp2(- k) * np.pi, p, r)\n",
        "                    QC.cx(q, p)\n",
        "\n",
        "        # S_s (alpha) / this implementation is only better when len(QuadraticForm) > 4\n",
        "        QC.h(QRegX)\n",
        "        QC.x(QRegX)\n",
        "\n",
        "        for i, q in enumerate(reversed(QControl[1:])):\n",
        "            for j, p in enumerate(QControl[len(QControl) - i:]):\n",
        "                QC.crx(np.pi * np.exp2(- (j + 1)), q, p)\n",
        "            QC.cp(alpha * np.exp2(- (i + 1)), q, QTarget)\n",
        "\n",
        "        for i, q in enumerate(QControl[1:]):\n",
        "            QC.crx(np.pi * np.exp2(- i), QControl[0], q)\n",
        "            QC.cp(- alpha * np.exp2(i + 1 - len(QControl)), q, QTarget)\n",
        "            for j, p in enumerate(QControl[i + 2:]):\n",
        "                QC.crx(- np.pi * np.exp2(- (j + 1)), q, p)\n",
        "\n",
        "        QC.cp(alpha * np.exp2(1 - len(QControl)), QControl[0], QTarget)\n",
        "\n",
        "        for i, q in enumerate(reversed(QControl[1:])):\n",
        "            for j, p in enumerate(QControl[len(QControl) - i:]):\n",
        "                QC.crx(np.pi * np.exp2(- (j + 1)), q, p)\n",
        "\n",
        "        for i, q in enumerate(QControl[1:]):\n",
        "            QC.crx(- np.pi * np.exp2(- i), QControl[0], q)\n",
        "            for j, p in enumerate(QControl[i + 2:]):\n",
        "                QC.crx(- np.pi * np.exp2(- (j + 1)), q, p)\n",
        "\n",
        "        QC.x(QRegX)\n",
        "        QC.h(QRegX)\n",
        "\n",
        "    return QC"
      ]
    },
    {
      "cell_type": "code",
      "execution_count": 6,
      "id": "XK-9F2bGEg0R",
      "metadata": {
        "id": "XK-9F2bGEg0R"
      },
      "outputs": [],
      "source": [
        "def ReducedGroverFPSForQUBO(QuadraticForm: list[list[int]], digits: int, threshold: int, delta: float, Lambda: float):\n",
        "\n",
        "    # parameters\n",
        "    l = int(np.ceil(np.arccosh(1 / delta) / np.arccosh(1 / np.sqrt(1 - Lambda)))) // 2\n",
        "    gamma = 1 / np.tanh(np.arccosh(1 / delta) / (2 * l + 1))\n",
        "    GroverPhases = 2 * np.arctan2(gamma, np.tan(np.arange(1, l + 1) * 2 * np.pi / (2 * l + 1)))\n",
        "\n",
        "    R = np.array([[- np.sum(QuadraticForm[i]) if i == j else row[j] if j < i else 0 for i, row in enumerate(QuadraticForm)] for j in range(len(QuadraticForm))])\n",
        "    entries = []\n",
        "    for i, row in enumerate(R):\n",
        "        for j, x in enumerate(row[i + 1:]):\n",
        "            if x != 0:\n",
        "                entries.append([i, i + 1 + j])\n",
        "    for i, row in enumerate(R):\n",
        "        if row[i] != 0:\n",
        "            entries.append([i, i])\n",
        "\n",
        "    blocks = []\n",
        "    while entries != []:\n",
        "        block = [entries.pop(0)]\n",
        "        qubits = {block[0][0], block[0][1]}\n",
        "        next = 0\n",
        "        while next < len(entries) and len(block) <= digits:\n",
        "            if entries[next][0] not in qubits and entries[next][1] not in qubits:\n",
        "                qubits.add(entries[next][0])\n",
        "                qubits.add(entries[next][1])\n",
        "                block.append(entries.pop(next))\n",
        "            else:\n",
        "                next += 1\n",
        "        blocks.append(block)\n",
        "\n",
        "    # circuit preparation\n",
        "    QRegX = QuantumRegister(len(QuadraticForm), \"x\") # quantum registers for the bit configurations\n",
        "    QControl, QTarget = QRegX[:-1], QRegX[-1] # this is just to make the multi-controlled phase gate's code a bit less confusing\n",
        "    QRegY = AncillaRegister(digits, \"y\") # quantum registers to digitize values\n",
        "\n",
        "    QC = QuantumCircuit(QRegX, QRegY, name=f\"Grover FPS Circuit\")\n",
        "\n",
        "    # state-preparation\n",
        "    QC.h(QRegX[:] + QRegY[:])\n",
        "\n",
        "    # adding threshold - 1\n",
        "    for i, q in enumerate(reversed(QRegY)):\n",
        "        QC.rz((threshold - 1) * np.exp2(- i) * np.pi, q)\n",
        "\n",
        "    # Grover FPS bang-bangs\n",
        "    for alpha, beta in zip(GroverPhases, reversed(GroverPhases)):\n",
        "\n",
        "        # S_t (beta)\n",
        "\n",
        "        for block in blocks:\n",
        "            for [i, j] in block:\n",
        "                if i != j:\n",
        "                    QC.cx(QRegX[i], QRegX[j])\n",
        "\n",
        "            for d in range(digits):\n",
        "                for idx, [i, j] in enumerate(block):\n",
        "                    pos = (d + idx)%digits\n",
        "                    QC.cp(R[i, j] * np.exp2(- pos) * np.pi, QRegX[j], QRegY[digits - 1 - pos])\n",
        "\n",
        "            for [i, j] in block:\n",
        "                if i != j:\n",
        "                    QC.cx(i, j)\n",
        "\n",
        "        # inverse QFT without the SWAPs\n",
        "        for i, q in enumerate(reversed(QRegY)):\n",
        "            QC.h(q)\n",
        "            for j, r in enumerate(reversed(QRegY[:- i - 1])):\n",
        "                QC.cp(- np.pi * np.exp2(- (j + 1)), q, r)\n",
        "\n",
        "        QC.p(beta, QRegY[0])\n",
        "\n",
        "        # QFT without the SWAPs\n",
        "        for i, q in enumerate(QRegY):\n",
        "            QC.h(q)\n",
        "            for j, r in enumerate(QRegY[i + 1:]):\n",
        "                QC.cp(np.pi * np.exp2(- (j + 1)), q, r)\n",
        "\n",
        "        for block in blocks:\n",
        "            for [i, j] in block:\n",
        "                if i != j:\n",
        "                    QC.cx(QRegX[i], QRegX[j])\n",
        "\n",
        "            for d in range(digits):\n",
        "                for idx, [i, j] in enumerate(block):\n",
        "                    pos = (d + idx)%digits\n",
        "                    QC.cp(- R[i, j] * np.exp2(- pos) * np.pi, QRegX[j], QRegY[digits - 1 - pos])\n",
        "\n",
        "            for [i, j] in block:\n",
        "                if i != j:\n",
        "                    QC.cx(i, j)\n",
        "\n",
        "        # S_s (alpha) / this implementation is only better when len(QuadraticForm) > 4\n",
        "        QC.h(QRegX)\n",
        "        QC.x(QRegX)\n",
        "\n",
        "        for i, q in enumerate(reversed(QControl[1:])):\n",
        "            for j, p in enumerate(QControl[len(QControl) - i:]):\n",
        "                QC.crx(np.pi * np.exp2(- (j + 1)), q, p)\n",
        "            QC.cp(alpha * np.exp2(- (i + 1)), q, QTarget)\n",
        "\n",
        "        for i, q in enumerate(QControl[1:]):\n",
        "            QC.crx(np.pi * np.exp2(- i), QControl[0], q)\n",
        "            QC.cp(- alpha * np.exp2(i + 1 - len(QControl)), q, QTarget)\n",
        "            for j, p in enumerate(QControl[i + 2:]):\n",
        "                QC.crx(- np.pi * np.exp2(- (j + 1)), q, p)\n",
        "\n",
        "        QC.cp(alpha * np.exp2(1 - len(QControl)), QControl[0], QTarget)\n",
        "\n",
        "        for i, q in enumerate(reversed(QControl[1:])):\n",
        "            for j, p in enumerate(QControl[len(QControl) - i:]):\n",
        "                QC.crx(np.pi * np.exp2(- (j + 1)), q, p)\n",
        "\n",
        "        for i, q in enumerate(QControl[1:]):\n",
        "            QC.crx(- np.pi * np.exp2(- i), QControl[0], q)\n",
        "            for j, p in enumerate(QControl[i + 2:]):\n",
        "                QC.crx(- np.pi * np.exp2(- (j + 1)), q, p)\n",
        "\n",
        "        QC.x(QRegX)\n",
        "        QC.h(QRegX)\n",
        "\n",
        "    return QC"
      ]
    },
    {
      "cell_type": "markdown",
      "id": "7ca40d78",
      "metadata": {
        "id": "7ca40d78"
      },
      "source": [
        "# parameters & testing for MaxCut:"
      ]
    },
    {
      "cell_type": "code",
      "execution_count": 16,
      "id": "xRZEtnNDmGjE",
      "metadata": {
        "colab": {
          "base_uri": "https://localhost:8080/",
          "height": 516
        },
        "id": "xRZEtnNDmGjE",
        "outputId": "f0ff1080-63f0-437c-cf58-6e4162515efb"
      },
      "outputs": [
        {
          "data": {
            "image/png": "[encoded data removed]",
            "text/plain": [
              "<Figure size 640x480 with 1 Axes>"
            ]
          },
          "metadata": {},
          "output_type": "display_data"
        }
      ],
      "source": [
        "# random, connected graph\n",
        "NumberOfVertices, EdgeProbability = 15, 5e-1\n",
        "Graph = nx.erdos_renyi_graph(NumberOfVertices, EdgeProbability)\n",
        "while not nx.is_connected(Graph):\n",
        "    Graph = nx.erdos_renyi_graph(NumberOfVertices, EdgeProbability)\n",
        "nx.draw(Graph, with_labels=False)"
      ]
    },
    {
      "cell_type": "code",
      "execution_count": 17,
      "id": "149f166a",
      "metadata": {
        "id": "149f166a",
        "scrolled": true
      },
      "outputs": [],
      "source": [
        "GraphLaplacian = nx.laplacian_matrix(Graph).toarray()\n",
        "NumberOfEdges = np.trace(GraphLaplacian) // 2\n",
        "threshold = int(np.ceil((2 * NumberOfEdges + NumberOfVertices - 1)/4))\n",
        "digits = 1 + int(np.ceil(np.log2(threshold))) if NumberOfVertices > 2 else 1 # number of ancilla qubits needed to digitize cuts\n",
        "\n",
        "# let's get rid of the vertex with the highest degree; this step, is not necessary, but saves one qubit\n",
        "maxdegvertex = np.where(np.diag(GraphLaplacian) == max(np.diag(GraphLaplacian)))[0][0]\n",
        "if maxdegvertex + 1 != NumberOfVertices:\n",
        "    GraphLaplacian[[maxdegvertex, -1], :] = GraphLaplacian[[-1, maxdegvertex], :]\n",
        "    GraphLaplacian[:, [maxdegvertex, -1]] = GraphLaplacian[:, [-1, maxdegvertex]]\n",
        "QuadraticForm = GraphLaplacian[np.ix_(np.arange(NumberOfVertices - 1), np.arange(NumberOfVertices - 1))]\n",
        "\n",
        "# classical, brute-force cut-function and MaxCut computation\n",
        "cuts = np.empty(1 << len(QuadraticForm), dtype=int)\n",
        "for x, _ in enumerate(cuts):\n",
        "    conf = (x >> np.arange(len(QuadraticForm)))&1\n",
        "    cuts[x] = np.dot(np.matmul(conf, QuadraticForm), conf)\n",
        "MaxCut = max(cuts)\n",
        "\n",
        "# cut statistics\n",
        "RandomChance, Lambda, m, sigma = np.array([np.sum(np.where(cuts == cut, 1, 0)) for cut in range(MaxCut + 1)]) * np.exp2(1 - NumberOfVertices), np.sum(np.where(cuts >= threshold, 1, 0)) * np.exp2(1 - NumberOfVertices), NumberOfEdges / 2, np.std(cuts)"
      ]
    },
    {
      "cell_type": "code",
      "execution_count": 18,
      "id": "LEwbShaA-Kfp",
      "metadata": {
        "colab": {
          "base_uri": "https://localhost:8080/"
        },
        "id": "LEwbShaA-Kfp",
        "outputId": "638f4437-0c01-4292-d2db-1cb68b58b051"
      },
      "outputs": [
        {
          "name": "stdout",
          "output_type": "stream",
          "text": [
            "MaxCut\tthreshold\tLambda\ttarget probability\tdelta\tl\tdigits\n",
            "34\t27\t\t0.18\t90.41%\t\t\t0.91\t1\t6\n",
            "\n"
          ]
        }
      ],
      "source": [
        "l = 1\n",
        "delta = GroverParameterOptimizerForComplexity(l, Lambda, 10)\n",
        "TargetProbability = GroverProbability(delta, Lambda)\n",
        "\n",
        "print(f\"MaxCut\\tthreshold\\tLambda\\ttarget probability\\tdelta\\tl\\tdigits\\n{MaxCut}\\t{threshold}\\t\\t{np.round(Lambda, 2)}\\t{TargetProbability:.2%}\\t\\t\\t{np.round(delta, 2)}\\t{l}\\t{digits}\\n\")"
      ]
    },
    {
      "cell_type": "markdown",
      "id": "02eec6db",
      "metadata": {
        "id": "02eec6db"
      },
      "source": [
        "### simulation and evaluation of data:"
      ]
    },
    {
      "cell_type": "code",
      "execution_count": 22,
      "id": "016ec09c",
      "metadata": {
        "colab": {
          "base_uri": "https://localhost:8080/"
        },
        "id": "016ec09c",
        "outputId": "8e94c83a-99fb-426f-9feb-abebf8b921dc"
      },
      "outputs": [
        {
          "name": "stdout",
          "output_type": "stream",
          "text": [
            "\n",
            "computation with Grover Fixed Point Search...\n",
            "\n",
            "done in 3.64 seconds\n",
            "\n"
          ]
        }
      ],
      "source": [
        "noise = True\n",
        "noise = False\n",
        "\n",
        "print(f\"\\ncomputation with Grover Fixed Point Search...\\n\")\n",
        "StartTime = timer()\n",
        "\n",
        "#QC = GroverFPSForQUBO(QuadraticForm, digits, threshold, delta, Lambda)\n",
        "QC = ReducedGroverFPSForQUBO(QuadraticForm, digits, threshold, delta, Lambda)\n",
        "\n",
        "if noise:\n",
        "    QC.save_density_matrix(qubits=QC.qubits[:-QC.num_ancillas],\n",
        "                           label=\"ϱ\")\n",
        "    simulator = AerSimulator(method=\"density_matrix\",\n",
        "                             noise_model=fake_aria)\n",
        "    QC = transpile(circuits=QC,\n",
        "                   backend=simulator,\n",
        "                   optimization_level=3)\n",
        "    psi = simulator.run(QC, shots=1).result().data()[\"ϱ\"]\n",
        "else:\n",
        "    QC.save_statevector()\n",
        "    simulator = AerSimulator(method=\"statevector\")\n",
        "    QC = transpile(circuits=QC,\n",
        "                   backend=simulator,\n",
        "                   basis_gates=[\"u\", \"cx\", \"save_statevector\"],\n",
        "                   optimization_level=3)\n",
        "    psi = Statevector(execute(QC, simulator).result().get_statevector())\n",
        "\n",
        "EndTime = timer()\n",
        "print(f\"done in {np.round(EndTime - StartTime, 2)} seconds\\n\")"
      ]
    },
    {
      "cell_type": "code",
      "execution_count": 23,
      "id": "CCAUsax1XqDL",
      "metadata": {
        "id": "CCAUsax1XqDL"
      },
      "outputs": [],
      "source": [
        "probabilities = psi.probabilities(np.arange(QC.num_qubits - QC.num_ancillas))\n",
        "distribution, success = np.array([np.sum(np.where(cuts == cut, probabilities, 0)) for cut in range(MaxCut + 1)]), np.sum(np.where(cuts >= threshold, probabilities, 0))\n",
        "M = np.sum(np.arange(len(distribution)) * distribution)\n",
        "var = np.sqrt(np.sum(np.arange(len(distribution)) * np.arange(len(distribution)) * distribution) - M**2)\n",
        "sign_m, sign_sigma = \"+\" if M >= m else \"-\", \"+\" if var >= sigma else \"-\"\n",
        "CNOTCount = QC.count_ops()[\"cx\"]"
      ]
    },
    {
      "cell_type": "code",
      "execution_count": 24,
      "id": "-tdL3ftb-IUz",
      "metadata": {
        "id": "-tdL3ftb-IUz"
      },
      "outputs": [
        {
          "name": "stdout",
          "output_type": "stream",
          "text": [
            "simulation without noise\n",
            "\n",
            "the graph:\n",
            "----------\n",
            "MaxCut\t\t\t\t= 34\n",
            "number of edges\t\t\t= 47\n",
            "threshold (Erdős-Edwards bound)\t= 27 (79.4% of MaxCut)\n",
            "\n",
            "the graph Laplacian:\n",
            "--------------------\n",
            "\n",
            "[ 6 -1 -1 -1  0  0  0  0 -1  0  0 -1  0  0 -1]\n",
            "[-1  3  0  0  0  0  0  0  0  0 -1 -1  0  0  0]\n",
            "[-1  0  6 -1 -1  0  0  0  0  0  0 -1  0 -1 -1]\n",
            "[-1  0 -1  8  0 -1  0 -1 -1 -1  0  0 -1  0 -1]\n",
            "[ 0  0 -1  0  6  0  0 -1 -1  0 -1 -1 -1  0  0]\n",
            "[ 0  0  0 -1  0  9 -1 -1 -1 -1  0 -1 -1 -1 -1]\n",
            "[ 0  0  0  0  0 -1  4  0 -1 -1  0  0  0  0 -1]\n",
            "[ 0  0  0 -1 -1 -1  0  7  0  0 -1 -1  0 -1 -1]\n",
            "[-1  0  0 -1 -1 -1 -1  0  7  0  0  0  0 -1 -1]\n",
            "[ 0  0  0 -1  0 -1 -1  0  0  6  0 -1 -1  0 -1]\n",
            "[ 0 -1  0  0 -1  0  0 -1  0  0  5 -1  0 -1  0]\n",
            "[-1 -1 -1  0 -1 -1  0 -1  0 -1 -1  9  0  0 -1]\n",
            "[ 0  0  0 -1 -1 -1  0  0  0 -1  0  0  4  0  0]\n",
            "[ 0  0 -1  0  0 -1  0 -1 -1  0 -1  0  0  5  0]\n",
            "[-1  0 -1 -1  0 -1 -1 -1 -1 -1  0 -1  0  0  9]\n",
            "\n",
            "Grover parameters:\n",
            "------------------\n",
            "Lambda\t\t\t= 0.18\n",
            "delta\t\t\t= 0.91\n",
            "query complexity\t= 1\n",
            "\n",
            "results with Grover:\n",
            "--------------------\n",
            "\n",
            "success probability\t= 90.4% (theoretical value = 90.4%, random chance = 17.6%)\n",
            "speedup\t\t\t= 12.14\n",
            "\n",
            "expectation\t\t= 27.5\t(23.5 + 4.0)\n",
            "variance\t\t= 2.2\t(3.4 - 1.3)\n",
            "\n",
            "CNOT count\t\t= 1868\n",
            "circuit depth\t\t= 2529\n"
          ]
        }
      ],
      "source": [
        "s = f\"simulation with\"\n",
        "s += f\"\" if noise else f\"out\"\n",
        "s += f\" noise\\n\\nthe graph:\\n----------\\nMaxCut\\t\\t\\t\\t= {MaxCut}\\nnumber of edges\\t\\t\\t= {NumberOfEdges}\\n\"\n",
        "s += f\"threshold (Erdős-Edwards bound)\\t= {threshold} ({threshold/MaxCut:.1%} of MaxCut)\"\n",
        "s += f\"\\n\\nthe graph Laplacian:\\n--------------------\\n\\n\" + f\"\".join([f\"{row.view()}\\n\" for row in GraphLaplacian])\n",
        "s += f\"\\nGrover parameters:\\n------------------\\nLambda\\t\\t\\t= {np.round(Lambda, 2)}\\ndelta\\t\\t\\t= {np.round(delta, 2)}\"\n",
        "s += f\"\\nquery complexity\\t= {l}\\n\\nresults with Grover:\\n--------------------\\n\\n\"\n",
        "s += f\"success probability\\t= {success:.1%} (theoretical value = {TargetProbability:.1%}, random chance = {Lambda:.1%})\\n\"\n",
        "s += f\"speedup\\t\\t\\t= {np.round(np.log1p(- success)/np.log1p(- Lambda), 2)}\\n\\n\"\n",
        "s += f\"expectation\\t\\t= {np.round(M, 1)}\\t({m} {sign_m} {np.round(abs(M - m), 1)})\\n\"\n",
        "s += f\"variance\\t\\t= {np.round(var, 1)}\\t({np.round(sigma, 1)} {sign_sigma} {np.round(abs(var - sigma), 1)})\\n\\n\"\n",
        "s += f\"CNOT count\\t\\t= {CNOTCount}\\ncircuit depth\\t\\t= {QC.depth()}\"\n",
        "print(s)"
      ]
    },
    {
      "cell_type": "code",
      "execution_count": null,
      "id": "ZIXBoQB_3z82",
      "metadata": {
        "colab": {
          "base_uri": "https://localhost:8080/",
          "height": 465
        },
        "id": "ZIXBoQB_3z82",
        "outputId": "afb427b9-d123-47cb-ffd8-ebbaabef4145"
      },
      "outputs": [
        {
          "data": {
            "image/png": "[encoded data removed]",
            "text/plain": [
              "<Figure size 1500x500 with 3 Axes>"
            ]
          },
          "metadata": {},
          "output_type": "display_data"
        }
      ],
      "source": [
        "fig, axs = plt.subplots(nrows=1, ncols=3, sharey=True, figsize=(15, 5))\n",
        "\n",
        "axs[0].bar(np.arange(len(RandomChance)),\n",
        "           RandomChance,\n",
        "           width=0.5,\n",
        "           color=\"red\")\n",
        "axs[0].set(xlabel=f\"cuts before Grover\",\n",
        "           ylabel=f\"probabilities\")\n",
        "axs[0].axvline(x = threshold - 1/2,\n",
        "               linewidth=0.75,\n",
        "               color=\"black\")\n",
        "\n",
        "axs[1].bar(np.arange(len(distribution)),\n",
        "           distribution,\n",
        "           width=0.5,\n",
        "           color=\"green\")\n",
        "axs[1].set(xlabel=f\"cuts after Grover\")\n",
        "axs[1].axvline(x = threshold - 1/2,\n",
        "               linewidth=0.75,\n",
        "               color=\"black\")\n",
        "\n",
        "axs[2].bar(np.arange(len(distribution)),\n",
        "           distribution - RandomChance,\n",
        "           width=0.5,\n",
        "           color=\"midnightblue\")\n",
        "axs[2].set(xlabel=f\"difference\")\n",
        "axs[2].axvline(x = threshold - 1/2,\n",
        "               linewidth=0.75,\n",
        "               color=\"black\",\n",
        "               label=f\"Erdős-Edwards bound\")\n",
        "\n",
        "plt.legend(bbox_to_anchor = (1.0, 1), loc = \"upper left\")\n",
        "\n",
        "plt.show()"
      ]
    },
    {
      "cell_type": "markdown",
      "id": "9tulSF7bLLvx",
      "metadata": {
        "id": "9tulSF7bLLvx"
      },
      "source": [
        "# test with general QUBO"
      ]
    },
    {
      "cell_type": "code",
      "execution_count": 41,
      "id": "6cF_ZRDpLLa-",
      "metadata": {
        "colab": {
          "base_uri": "https://localhost:8080/"
        },
        "id": "6cF_ZRDpLLa-",
        "outputId": "0528ba7d-789c-4f48-980e-fcacb5253087"
      },
      "outputs": [
        {
          "data": {
            "text/plain": [
              "array([[-260,   63,   34,   30,  -22,  -10,   -3,   50,  -28,   80,   10],\n",
              "       [  63, -102,   25,  -42,  -45,  -89,   -9,   80,   74,   68,   20],\n",
              "       [  34,   25, -168,   -3,   30,  -50,   22,  -70,   30,  -60,  -30],\n",
              "       [  30,  -42,   -3, -150,  -51,   20,  -25,  -30,    3,   -3,  -40],\n",
              "       [ -22,  -45,   30,  -51,  -54,   65,   40,  -20,   46,  -54,   20],\n",
              "       [ -10,  -89,  -50,   20,   65,  -30,   95,  -51,  -67,   22,   40],\n",
              "       [  -3,   -9,   22,  -25,   40,   95,  -70,   60,  -63,  -20,  -25],\n",
              "       [  50,   80,  -70,  -30,  -20,  -51,   60,  -50,   81,   59,   40],\n",
              "       [ -28,   74,   30,    3,   46,  -67,  -63,   81, -100,   -1,  -30],\n",
              "       [  80,   68,  -60,   -3,  -54,   22,  -20,   59,   -1, -120,   10],\n",
              "       [  10,   20,  -30,  -40,   20,   40,  -25,   40,  -30,   10,  -20]])"
            ]
          },
          "execution_count": 41,
          "metadata": {},
          "output_type": "execute_result"
        }
      ],
      "source": [
        "F = np.array([[1.300000000000000044e+00,-6.300000000000000044e-01,-3.400000000000000244e-01,-2.999999999999999889e-01,2.200000000000000011e-01,1.000000000000000056e-01,2.999999999999999889e-02,-5.000000000000000000e-01,2.800000000000000266e-01,-8.000000000000000444e-01,-1.000000000000000056e-01],\n",
        "                [0.000000000000000000e+00,5.100000000000000089e-01,-2.500000000000000000e-01,4.199999999999999845e-01,4.500000000000000111e-01,8.900000000000000133e-01,8.999999999999999667e-02,-8.000000000000000444e-01,-7.399999999999999911e-01,-6.800000000000000488e-01,-2.000000000000000111e-01],\n",
        "                [0.000000000000000000e+00,0.000000000000000000e+00,8.399999999999999689e-01,2.999999999999999889e-02,-2.999999999999999889e-01,5.000000000000000000e-01,-2.200000000000000011e-01,6.999999999999999556e-01,-2.999999999999999889e-01,5.999999999999999778e-01,2.999999999999999889e-01],\n",
        "                [0.000000000000000000e+00,0.000000000000000000e+00,0.000000000000000000e+00,7.500000000000000000e-01,5.100000000000000089e-01,-2.000000000000000111e-01,2.500000000000000000e-01,2.999999999999999889e-01,-2.999999999999999889e-02,2.999999999999999889e-02,4.000000000000000222e-01],\n",
        "                [0.000000000000000000e+00,0.000000000000000000e+00,0.000000000000000000e+00,0.000000000000000000e+00,2.700000000000000178e-01,-6.500000000000000222e-01,-4.000000000000000222e-01,2.000000000000000111e-01,-4.600000000000000200e-01,5.400000000000000355e-01,-2.000000000000000111e-01],\n",
        "                [0.000000000000000000e+00,0.000000000000000000e+00,0.000000000000000000e+00,0.000000000000000000e+00,0.000000000000000000e+00,1.499999999999999944e-01,-9.499999999999999556e-01,5.100000000000000089e-01,6.700000000000000400e-01,-2.200000000000000011e-01,-4.000000000000000222e-01],\n",
        "                [0.000000000000000000e+00,0.000000000000000000e+00,0.000000000000000000e+00,0.000000000000000000e+00,0.000000000000000000e+00,0.000000000000000000e+00,3.499999999999999778e-01,-5.999999999999999778e-01,6.300000000000000044e-01,2.000000000000000111e-01,2.500000000000000000e-01],\n",
        "                [0.000000000000000000e+00,0.000000000000000000e+00,0.000000000000000000e+00,0.000000000000000000e+00,0.000000000000000000e+00,0.000000000000000000e+00,0.000000000000000000e+00,2.500000000000000000e-01,-8.100000000000000533e-01,-5.899999999999999689e-01,-4.000000000000000222e-01],\n",
        "                [0.000000000000000000e+00,0.000000000000000000e+00,0.000000000000000000e+00,0.000000000000000000e+00,0.000000000000000000e+00,0.000000000000000000e+00,0.000000000000000000e+00,0.000000000000000000e+00,5.000000000000000000e-01,1.000000000000000021e-02,2.999999999999999889e-01],\n",
        "                [0.000000000000000000e+00,0.000000000000000000e+00,0.000000000000000000e+00,0.000000000000000000e+00,0.000000000000000000e+00,0.000000000000000000e+00,0.000000000000000000e+00,0.000000000000000000e+00,0.000000000000000000e+00,5.999999999999999778e-01,-1.000000000000000056e-01],\n",
        "                [0.000000000000000000e+00,0.000000000000000000e+00,0.000000000000000000e+00,0.000000000000000000e+00,0.000000000000000000e+00,0.000000000000000000e+00,0.000000000000000000e+00,0.000000000000000000e+00,0.000000000000000000e+00,0.000000000000000000e+00,1.000000000000000056e-01]])\n",
        "QuadraticForm = - np.array(100 * (F + F.T), dtype=int)\n",
        "QuadraticForm"
      ]
    },
    {
      "cell_type": "code",
      "execution_count": 76,
      "id": "6offIM2leRbo",
      "metadata": {
        "id": "6offIM2leRbo"
      },
      "outputs": [],
      "source": [
        "R = np.array([[np.sum(QuadraticForm[i]) if i == j else - row[j] if j < i else 0 for i, row in enumerate(QuadraticForm)] for j in range(len(QuadraticForm))])\n",
        "entries = []\n",
        "for i, row in enumerate(R):\n",
        "    for j, x in enumerate(row[i + 1:]):\n",
        "        if x != 0:\n",
        "            entries.append([i, i + 1 + j])\n",
        "for i, row in enumerate(R):\n",
        "    if row[i] != 0:\n",
        "        entries.append([i, i])\n",
        "blocks = []\n",
        "while entries != []:\n",
        "    block = [entries.pop(0)]\n",
        "    qubits = {block[0][0], block[0][1]}\n",
        "    next = 0\n",
        "    while next < len(entries) and len(block) <= digits:\n",
        "        if entries[next][0] not in qubits and entries[next][1] not in qubits:\n",
        "            qubits.add(entries[next][0])\n",
        "            qubits.add(entries[next][1])\n",
        "            block.append(entries.pop(next))\n",
        "        else:\n",
        "            next += 1\n",
        "    blocks.append(block)"
      ]
    },
    {
      "cell_type": "code",
      "execution_count": 74,
      "id": "vJXTc4WoD0uK",
      "metadata": {
        "colab": {
          "base_uri": "https://localhost:8080/"
        },
        "id": "vJXTc4WoD0uK",
        "outputId": "d2560b25-7fe5-4dd3-d123-7dc8b1834b23"
      },
      "outputs": [
        {
          "data": {
            "text/plain": [
              "(6, 4.4)"
            ]
          },
          "execution_count": 74,
          "metadata": {},
          "output_type": "execute_result"
        }
      ],
      "source": [
        "digits, (len(QuadraticForm) * (len(QuadraticForm) + 1) // 2) / len(blocks)"
      ]
    },
    {
      "cell_type": "code",
      "execution_count": null,
      "id": "BCzk9b2iNu45",
      "metadata": {
        "id": "BCzk9b2iNu45"
      },
      "outputs": [],
      "source": [
        "values = np.empty(1 << len(QuadraticForm), dtype=int)\n",
        "for x, _ in enumerate(values):\n",
        "    conf = (x >> np.arange(len(QuadraticForm)))&1\n",
        "    values[x] = np.dot(np.matmul(conf, QuadraticForm), conf)"
      ]
    },
    {
      "cell_type": "code",
      "execution_count": null,
      "id": "vMgKZ_p-_o0N",
      "metadata": {
        "id": "vMgKZ_p-_o0N"
      },
      "outputs": [],
      "source": []
    },
    {
      "cell_type": "code",
      "execution_count": null,
      "id": "FbkwUfsWMnrD",
      "metadata": {
        "id": "FbkwUfsWMnrD"
      },
      "outputs": [],
      "source": [
        "MaxValue = max(values)\n",
        "\n",
        "RandomChance = {val: np.sum(np.where(values == val, 1, 0)) * np.exp2(- len(QuadraticForm)) for val in np.unique(values)}\n",
        "m = np.sum([val * p for val, p in zip(RandomChance.keys(), RandomChance.values())])\n",
        "threshold = m\n",
        "Lambda = np.sum([p if val >= threshold else 0 for val, p in zip(RandomChance.keys(), RandomChance.values())])"
      ]
    },
    {
      "cell_type": "code",
      "execution_count": null,
      "id": "62CuOJouL-KP",
      "metadata": {
        "colab": {
          "base_uri": "https://localhost:8080/",
          "height": 447
        },
        "id": "62CuOJouL-KP",
        "outputId": "1c179213-09eb-4129-d7bd-35854d52d0bd"
      },
      "outputs": [
        {
          "data": {
            "text/plain": [
              "<BarContainer object of 564 artists>"
            ]
          },
          "execution_count": 17,
          "metadata": {},
          "output_type": "execute_result"
        },
        {
          "data": {
            "image/png": "[encoded data removed]",
            "text/plain": [
              "<Figure size 640x480 with 1 Axes>"
            ]
          },
          "metadata": {},
          "output_type": "display_data"
        }
      ],
      "source": [
        "plt.bar(RandomChance.keys(),\n",
        "        RandomChance.values(),\n",
        "        width=0.5,\n",
        "        color=\"green\")"
      ]
    },
    {
      "cell_type": "code",
      "execution_count": null,
      "id": "ZDp1ICXLOl7T",
      "metadata": {
        "id": "ZDp1ICXLOl7T"
      },
      "outputs": [],
      "source": [
        "MaxConfig = np.array([(1923 >> np.arange(len(QuadraticForm)))&1])"
      ]
    },
    {
      "cell_type": "code",
      "execution_count": null,
      "id": "FXJgZTIqSuOD",
      "metadata": {
        "colab": {
          "base_uri": "https://localhost:8080/"
        },
        "id": "FXJgZTIqSuOD",
        "outputId": "356e9468-4a52-489a-db82-fc7be00abebd"
      },
      "outputs": [
        {
          "data": {
            "text/plain": [
              "array([-350.6138373 , -270.77868765, -253.58581238, -200.85869606,\n",
              "       -158.6142877 , -117.69228558,  -86.69928661,  -11.82809809,\n",
              "         30.3067833 ,   90.57199287,  205.79221519])"
            ]
          },
          "execution_count": 22,
          "metadata": {},
          "output_type": "execute_result"
        }
      ],
      "source": [
        "np.linalg.eigvalsh(QuadraticForm)"
      ]
    },
    {
      "cell_type": "code",
      "execution_count": null,
      "id": "lZcf-DLpO7Ix",
      "metadata": {
        "id": "lZcf-DLpO7Ix"
      },
      "outputs": [],
      "source": [
        "N, Lambda, x, y = 1e5, 0.5, [], []\n",
        "spectrum = np.linalg.eigvalsh(QuadraticForm)\n",
        "digits = np.log2((abs(spectrum[-1] - spectrum[0])) * len(QuadraticForm)) + 1\n",
        "x.append(np.random.randint(2, size=len(QuadraticForm)))\n",
        "y.append(np.dot(np.matmul(x[-1], QuadraticForm), x[-1]))\n",
        "threshold = y[-1]\n",
        "while N > 0:\n",
        "    delta = GroverParameterOptimizerForComplexity(1, Lambda, 10)\n",
        "    QC = GroverFPSForQUBO(QuadraticForm, digits, threshold, delta, Lambda)"
      ]
    },
    {
      "cell_type": "code",
      "execution_count": 54,
      "id": "3jiHkugFRrWa",
      "metadata": {
        "id": "3jiHkugFRrWa"
      },
      "outputs": [],
      "source": [
        "defset = {0}"
      ]
    },
    {
      "cell_type": "code",
      "execution_count": 55,
      "id": "S7C22TrzBFr-",
      "metadata": {
        "colab": {
          "base_uri": "https://localhost:8080/"
        },
        "id": "S7C22TrzBFr-",
        "outputId": "322f9521-237c-438d-a3ec-1209937a3017"
      },
      "outputs": [
        {
          "data": {
            "text/plain": [
              "{0}"
            ]
          },
          "execution_count": 55,
          "metadata": {},
          "output_type": "execute_result"
        }
      ],
      "source": [
        "defset.add(0)\n",
        "defset"
      ]
    },
    {
      "cell_type": "code",
      "execution_count": null,
      "id": "XnCsFN_SBg4z",
      "metadata": {
        "id": "XnCsFN_SBg4z"
      },
      "outputs": [],
      "source": []
    }
  ],
  "metadata": {
    "colab": {
      "collapsed_sections": [
        "THzaoqHo13RE",
        "FTiJALVtnQIW",
        "IPRVQYBNTx8w",
        "kZZELK6X0Djw",
        "uPdo4AqbiLkw",
        "V-voj0syK7t6"
      ],
      "provenance": []
    },
    "kernelspec": {
      "display_name": "Python 3 (ipykernel)",
      "language": "python",
      "name": "python3"
    },
    "language_info": {
      "codemirror_mode": {
        "name": "ipython",
        "version": 3
      },
      "file_extension": ".py",
      "mimetype": "text/x-python",
      "name": "python",
      "nbconvert_exporter": "python",
      "pygments_lexer": "ipython3",
      "version": "3.11.5"
    }
  },
  "nbformat": 4,
  "nbformat_minor": 5
}

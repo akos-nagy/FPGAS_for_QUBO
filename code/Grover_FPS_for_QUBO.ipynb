{
  "cells": [
    {
      "cell_type": "markdown",
      "id": "THzaoqHo13RE",
      "metadata": {
        "id": "THzaoqHo13RE"
      },
      "source": [
        "# preparations"
      ]
    },
    {
      "cell_type": "markdown",
      "id": "FTiJALVtnQIW",
      "metadata": {
        "id": "FTiJALVtnQIW"
      },
      "source": [
        "## install Qiskit"
      ]
    },
    {
      "cell_type": "code",
      "execution_count": 1,
      "id": "asSgzYHnnT8E",
      "metadata": {
        "colab": {
          "base_uri": "https://localhost:8080/"
        },
        "id": "asSgzYHnnT8E",
        "outputId": "9b787deb-9004-4a70-9095-2993d39bd1dd"
      },
      "outputs": [
        {
          "name": "stdout",
          "output_type": "stream",
          "text": [
            "Requirement already satisfied: qiskit in /home/akos/.venvs/akos/lib/python3.11/site-packages (0.45.0)\n",
            "Requirement already satisfied: qiskit_aer in /home/akos/.venvs/akos/lib/python3.11/site-packages (0.13.0)\n",
            "Requirement already satisfied: qiskit-terra==0.45.0 in /home/akos/.venvs/akos/lib/python3.11/site-packages (from qiskit) (0.45.0)\n",
            "Requirement already satisfied: rustworkx>=0.13.0 in /home/akos/.venvs/akos/lib/python3.11/site-packages (from qiskit-terra==0.45.0->qiskit) (0.13.2)\n",
            "Requirement already satisfied: numpy<2,>=1.17 in /home/akos/.venvs/akos/lib/python3.11/site-packages (from qiskit-terra==0.45.0->qiskit) (1.26.1)\n",
            "Requirement already satisfied: ply>=3.10 in /home/akos/.venvs/akos/lib/python3.11/site-packages (from qiskit-terra==0.45.0->qiskit) (3.11)\n",
            "Requirement already satisfied: psutil>=5 in /home/akos/.venvs/akos/lib/python3.11/site-packages (from qiskit-terra==0.45.0->qiskit) (5.9.6)\n",
            "Requirement already satisfied: scipy>=1.5 in /home/akos/.venvs/akos/lib/python3.11/site-packages (from qiskit-terra==0.45.0->qiskit) (1.11.3)\n",
            "Requirement already satisfied: sympy>=1.3 in /home/akos/.venvs/akos/lib/python3.11/site-packages (from qiskit-terra==0.45.0->qiskit) (1.12)\n",
            "Requirement already satisfied: dill>=0.3 in /home/akos/.venvs/akos/lib/python3.11/site-packages (from qiskit-terra==0.45.0->qiskit) (0.3.7)\n",
            "Requirement already satisfied: python-dateutil>=2.8.0 in /home/akos/.venvs/akos/lib/python3.11/site-packages (from qiskit-terra==0.45.0->qiskit) (2.8.2)\n",
            "Requirement already satisfied: stevedore>=3.0.0 in /home/akos/.venvs/akos/lib/python3.11/site-packages (from qiskit-terra==0.45.0->qiskit) (5.1.0)\n",
            "Requirement already satisfied: symengine<0.10,>=0.9 in /home/akos/.venvs/akos/lib/python3.11/site-packages (from qiskit-terra==0.45.0->qiskit) (0.9.2)\n",
            "Requirement already satisfied: six>=1.5 in /home/akos/.venvs/akos/lib/python3.11/site-packages (from python-dateutil>=2.8.0->qiskit-terra==0.45.0->qiskit) (1.16.0)\n",
            "Requirement already satisfied: pbr!=2.1.0,>=2.0.0 in /home/akos/.venvs/akos/lib/python3.11/site-packages (from stevedore>=3.0.0->qiskit-terra==0.45.0->qiskit) (6.0.0)\n",
            "Requirement already satisfied: mpmath>=0.19 in /home/akos/.venvs/akos/lib/python3.11/site-packages (from sympy>=1.3->qiskit-terra==0.45.0->qiskit) (1.3.0)\n",
            "Note: you may need to restart the kernel to use updated packages.\n"
          ]
        }
      ],
      "source": [
        "%pip install qiskit qiskit_aer"
      ]
    },
    {
      "cell_type": "markdown",
      "id": "IPRVQYBNTx8w",
      "metadata": {
        "id": "IPRVQYBNTx8w"
      },
      "source": [
        "## loading libraries"
      ]
    },
    {
      "cell_type": "code",
      "execution_count": 2,
      "id": "dlRKQIAC6D00",
      "metadata": {
        "id": "dlRKQIAC6D00"
      },
      "outputs": [],
      "source": [
        "from qiskit.circuit import QuantumCircuit, QuantumRegister, AncillaRegister\n",
        "from qiskit.compiler import transpile\n",
        "from qiskit_aer import AerSimulator\n",
        "from qiskit_aer.noise import NoiseModel, pauli_error, ReadoutError, thermal_relaxation_error, depolarizing_error\n",
        "from qiskit.quantum_info import Statevector, Operator\n",
        "\n",
        "import numpy as np\n",
        "import networkx as nx\n",
        "import matplotlib.pyplot as plt\n",
        "from scipy.special import eval_chebyt as Chebyshev\n",
        "from timeit import default_timer as timer\n",
        "from io import StringIO"
      ]
    },
    {
      "cell_type": "markdown",
      "id": "uPdo4AqbiLkw",
      "metadata": {
        "id": "uPdo4AqbiLkw"
      },
      "source": [
        "## noise model with IonQ's Aria specifications\n",
        "depolarizing error probability is probabilities adjusted from thermal noise infidelity: $p = e^{-t/T_2}$ with gate time for $t$"
      ]
    },
    {
      "cell_type": "code",
      "execution_count": 3,
      "id": "zTeDgrXH0Dq1",
      "metadata": {
        "id": "zTeDgrXH0Dq1"
      },
      "outputs": [],
      "source": [
        "# error probabilities\n",
        "p_meas = 3.9e-3\n",
        "p_reset = 3.9e-3\n",
        "p_gate1 = 6e-4\n",
        "p_gate2 = 6e-3\n",
        "\n",
        "# thermal relaxation error (nanosecond time)\n",
        "T1s = np.random.choice(range(10, 100), 10, replace=False) # consider adjusting range to be more reasonable\n",
        "T2 = 1e9\n",
        "\n",
        "time_meas = np.random.choice(range(600, 700), 10, replace=False)\n",
        "time_u1 = 0 # virtual gate\n",
        "time_gate1 = 1.35e5 # u1 and u2\n",
        "time_gate2 = 6e5 # 2 qubit gate\n",
        "\n",
        "# thermal relaxation error\n",
        "ther_u1  = [thermal_relaxation_error(t1 * 1e9, T2, time_u1)\n",
        "              for t1 in T1s]\n",
        "ther_gate1  = [thermal_relaxation_error(t1 * 1e9, T2, time_gate1)\n",
        "              for t1 in T1s]\n",
        "ther_gate2 = [[thermal_relaxation_error(t1a * 1e9, T2, time_gate2).expand(\n",
        "             thermal_relaxation_error(t1b * 1e9, T2, time_gate2))\n",
        "              for t1a in T1s]\n",
        "               for t1b in T1s]\n",
        "\n",
        "# depolarizing error\n",
        "dep_reset = depolarizing_error(p_reset, 1)\n",
        "dep_gate1 = depolarizing_error(p_gate1 - 1.34990888e-4, 1)\n",
        "dep_gate2 = depolarizing_error(p_gate2 - 5.99820036e-4, 2)\n",
        "\n",
        "# readout error\n",
        "er_meas = ReadoutError([[1 - p_meas, p_meas], [p_meas, 1 - p_meas]])\n",
        "\n",
        "# creating the noise model\n",
        "fake_aria = NoiseModel()\n",
        "\n",
        "for j in range(10):\n",
        "    fake_aria.add_quantum_error(ther_u1[j].compose(dep_gate1), \"u1\", [j])\n",
        "    fake_aria.add_quantum_error(ther_gate1[j].compose(dep_gate1), \"u2\", [j])\n",
        "    fake_aria.add_quantum_error(ther_gate1[j].compose(dep_gate1), \"u3\", [j])\n",
        "    for k in range(10):\n",
        "        fake_aria.add_quantum_error(ther_gate2[j][k].compose(dep_gate2), \"cx\", [j, k])\n",
        "fake_aria.add_all_qubit_quantum_error(dep_reset, \"reset\")\n",
        "fake_aria.add_all_qubit_readout_error(er_meas)"
      ]
    },
    {
      "cell_type": "markdown",
      "id": "4JOxrrxxqNcT",
      "metadata": {
        "id": "4JOxrrxxqNcT"
      },
      "source": [
        "## Grover parameter optimizers"
      ]
    },
    {
      "cell_type": "code",
      "execution_count": 4,
      "id": "mLZxhHb_0Oyl",
      "metadata": {
        "id": "mLZxhHb_0Oyl"
      },
      "outputs": [],
      "source": [
        "# delta, Lambda must be in (0, 1)\n",
        "def GroverQueryComplexity(delta: float, Lambda: float):\n",
        "    return int(np.ceil(np.arccosh(1 / delta) / np.arccosh(1 / np.sqrt(1 - Lambda)))) // 2\n",
        "\n",
        "# Lambda must be in (0, 1)\n",
        "def GroverProbability(delta: float, Lambda: float):\n",
        "    L = 2 * GroverQueryComplexity(delta, Lambda) + 1\n",
        "    return 1 - np.power(delta * Chebyshev(L, Chebyshev(1 / L, 1 / delta) * np.sqrt(1 - Lambda)), 2)\n",
        "\n",
        "# Lambda must be in (0, 1), l, N must be positive integers\n",
        "def GroverParameterOptimizerForComplexity(l: int, Lambda: float, N: int):\n",
        "    deltas = np.where(np.int8(np.ceil(np.arccosh(1 / np.linspace(1 - np.exp2(- N), np.exp2(- N), 1 << N)) / np.arccosh(1 / np.sqrt(1 - Lambda)))) // 2 <= l, np.linspace(1 - np.exp2(- N), np.exp2(- N), 1 << N), 0)\n",
        "    prob = GroverProbability(deltas[0], Lambda)\n",
        "    for d in deltas[1: np.where(deltas == 0)[0][0]]:\n",
        "        if GroverProbability(d, Lambda) > prob:\n",
        "            delta, prob = d, GroverProbability(d, Lambda)\n",
        "\n",
        "    return delta"
      ]
    },
    {
      "cell_type": "markdown",
      "id": "993346e4",
      "metadata": {
        "id": "993346e4"
      },
      "source": [
        "# Grover Fixed Point Search for gerenal Quadratic Binary Optimization problems"
      ]
    },
    {
      "cell_type": "code",
      "execution_count": 5,
      "id": "XK-9F2bGEg0R",
      "metadata": {
        "id": "XK-9F2bGEg0R"
      },
      "outputs": [],
      "source": [
        "def GroverFPSForQUBO(QuadraticForm: list[list[int]], digits: int, threshold: int, l: int, delta: float):\n",
        "\n",
        "    gamma = np.tanh(np.arccosh(1 / delta) / (2 * l + 1))\n",
        "    GroverPhases = 2 * np.arctan(1 / (gamma * np.tan(np.arange(1, l + 1) * 2 * np.pi / (2 * l + 1))))\n",
        "\n",
        "    # we often need these values\n",
        "    PiOverPowerOfTwo = np.pi / (1 << np.arange(max(len(QuadraticForm), digits)))\n",
        "\n",
        "    # preparation for paralellization (the QuadraticForm is assumed to only have rows/columns with at least one )\n",
        "    Q = np.triu(QuadraticForm, 1) - np.diag(np.sum(QuadraticForm, axis=0))\n",
        "    offdiagonals, diagonals, blocks = np.argwhere(np.triu(Q, 1)).tolist(), np.argwhere(np.diag(Q)).tolist(), []\n",
        "    while offdiagonals != [] or diagonals != []:\n",
        "        block, qubits, next = [], set(), 0\n",
        "        while next < len(offdiagonals) and len(block) < digits:\n",
        "            if qubits.isdisjoint(offdiagonals[next]):\n",
        "                block.append(offdiagonals.pop(next))\n",
        "                qubits.update(block[-1])\n",
        "                if len(block) < digits and block[-1][0] in diagonals:\n",
        "                    block.append([block[-1][0], block[-1][0]])\n",
        "                    diagonals.remove(block[-1][1])\n",
        "            else:\n",
        "                next += 1\n",
        "        next = 0\n",
        "        while next < len(diagonals) and len(block) < digits:\n",
        "            if diagonals[next][0] not in qubits:\n",
        "                block.append([diagonals[next][0], diagonals[next][0]])\n",
        "                qubits.add(diagonals.pop(next)[0])\n",
        "            else:\n",
        "                next += 1\n",
        "        blocks.append(block)\n",
        "\n",
        "    # circuit preparation\n",
        "    QRegX = QuantumRegister(len(QuadraticForm), \"x\") # quantum registers for the bit configurations\n",
        "    QControl, QTarget = QRegX[:-1], QRegX[-1] # this is just to make the multi-controlled phase gate's code a bit less confusing\n",
        "    QRegY = AncillaRegister(digits, \"y\") # quantum registers to digitize values\n",
        "\n",
        "    QC = QuantumCircuit(QRegX, QRegY, name=f\"Grover FPS Circuit\")\n",
        "\n",
        "    # state-preparation\n",
        "    QC.h(QRegX[:] + QRegY[:])\n",
        "\n",
        "    # adding threshold - 1\n",
        "    for i, q in enumerate(reversed(QRegY)):\n",
        "        QC.rz((threshold - 1) * PiOverPowerOfTwo[i], q)\n",
        "\n",
        "    # Grover FPS bang-bangs\n",
        "    for alpha, beta in zip(GroverPhases, reversed(GroverPhases)):\n",
        "\n",
        "        # S_t (beta)\n",
        "        for block in blocks:\n",
        "            for [i, j] in block:\n",
        "                if i != j:\n",
        "                    QC.cx(QRegX[i], QRegX[j])\n",
        "\n",
        "            for d in range(digits):\n",
        "                for idx, [i, j] in enumerate(block):\n",
        "                    pos = (d + idx)%digits\n",
        "                    QC.crz(Q[i, j] * PiOverPowerOfTwo[pos], QRegX[j], QRegY[- 1 - pos])\n",
        "\n",
        "            for [i, j] in block:\n",
        "                if i != j:\n",
        "                    QC.cx(i, j)\n",
        "\n",
        "        # inverse QFT without the SWAPs\n",
        "        for i, q in enumerate(reversed(QRegY)):\n",
        "            QC.h(q)\n",
        "            for j, r in enumerate(reversed(QRegY[:- i - 1])):\n",
        "                QC.cp(- PiOverPowerOfTwo[j + 1], q, r)\n",
        "\n",
        "        QC.rz(beta, QRegY[0])\n",
        "\n",
        "        # QFT without the SWAPs\n",
        "        for i, q in enumerate(QRegY):\n",
        "            QC.h(q)\n",
        "            for j, r in enumerate(QRegY[i + 1:]):\n",
        "                QC.cp(PiOverPowerOfTwo[j + 1], q, r)\n",
        "\n",
        "        for block in blocks:\n",
        "            for [i, j] in block:\n",
        "                if i != j:\n",
        "                    QC.cx(QRegX[i], QRegX[j])\n",
        "\n",
        "            for d in range(digits):\n",
        "                for idx, [i, j] in enumerate(block):\n",
        "                    pos = (d + idx)%digits\n",
        "                    QC.crz(- Q[i, j] * PiOverPowerOfTwo[pos], QRegX[j], QRegY[- 1 - pos])\n",
        "\n",
        "            for [i, j] in block:\n",
        "                if i != j:\n",
        "                    QC.cx(i, j)\n",
        "\n",
        "        # S_s (alpha) / this implementation is only better when len(QuadraticForm) > 4\n",
        "        QC.h(QRegX)\n",
        "        QC.x(QRegX)\n",
        "\n",
        "        for i, q in enumerate(reversed(QControl[1:])):\n",
        "            for j, p in enumerate(QControl[len(QControl) - i:]):\n",
        "                QC.crx(PiOverPowerOfTwo[j + 1], q, p)\n",
        "            QC.cp(alpha * np.exp2(- (i + 1)), q, QTarget)\n",
        "\n",
        "        for i, q in enumerate(QControl[1:]):\n",
        "            QC.crx(PiOverPowerOfTwo[i], QControl[0], q)\n",
        "            QC.cp(- alpha * np.exp2(i + 1 - len(QControl)), q, QTarget)\n",
        "            for j, p in enumerate(QControl[i + 2:]):\n",
        "                QC.crx(- PiOverPowerOfTwo[j + 1], q, p)\n",
        "\n",
        "        QC.cp(alpha * np.exp2(1 - len(QControl)), QControl[0], QTarget)\n",
        "\n",
        "        for i, q in enumerate(reversed(QControl[1:])):\n",
        "            for j, p in enumerate(QControl[len(QControl) - i:]):\n",
        "                QC.crx(PiOverPowerOfTwo[j + 1], q, p)\n",
        "\n",
        "        for i, q in enumerate(QControl[1:]):\n",
        "            QC.crx(- PiOverPowerOfTwo[i], QControl[0], q)\n",
        "            for j, p in enumerate(QControl[i + 2:]):\n",
        "                QC.crx(- PiOverPowerOfTwo[j + 1], q, p)\n",
        "\n",
        "        QC.x(QRegX)\n",
        "        QC.h(QRegX)\n",
        "\n",
        "    return QC"
      ]
    },
    {
      "cell_type": "markdown",
      "id": "7ca40d78",
      "metadata": {
        "id": "7ca40d78"
      },
      "source": [
        "# parameters & testing for MaxCut:"
      ]
    },
    {
      "cell_type": "code",
      "execution_count": 6,
      "id": "xRZEtnNDmGjE",
      "metadata": {
        "colab": {
          "base_uri": "https://localhost:8080/",
          "height": 516
        },
        "id": "xRZEtnNDmGjE",
        "outputId": "16454758-ab5b-4b8e-f880-2db5e559a307"
      },
      "outputs": [
        {
          "data": {
            "image/png": "[encoded data removed]",
            "text/plain": [
              "<Figure size 640x480 with 1 Axes>"
            ]
          },
          "metadata": {},
          "output_type": "display_data"
        }
      ],
      "source": [
        "# random, connected graph\n",
        "NumberOfVertices, EdgeProbability = 11, 5e-1\n",
        "Graph = nx.erdos_renyi_graph(NumberOfVertices, EdgeProbability)\n",
        "while not nx.is_connected(Graph):\n",
        "    Graph = nx.erdos_renyi_graph(NumberOfVertices, EdgeProbability)\n",
        "nx.draw(Graph, with_labels=False)"
      ]
    },
    {
      "cell_type": "code",
      "execution_count": 7,
      "id": "149f166a",
      "metadata": {
        "id": "149f166a",
        "scrolled": true
      },
      "outputs": [],
      "source": [
        "GraphLaplacian = nx.laplacian_matrix(Graph).toarray()\n",
        "NumberOfEdges = np.trace(GraphLaplacian) // 2\n",
        "threshold = int(np.ceil((2 * NumberOfEdges + NumberOfVertices - 1)/4))\n",
        "digits = 1 + int(np.ceil(np.log2(threshold))) if NumberOfVertices > 2 else 1 # number of ancilla qubits needed to digitize cuts\n",
        "\n",
        "# let's get rid of the vertex with the highest degree; this step, is not necessary, but saves one qubit\n",
        "maxdegvertex = np.where(np.diag(GraphLaplacian) == np.max(np.diag(GraphLaplacian)))[0][0]\n",
        "if maxdegvertex + 1 != NumberOfVertices:\n",
        "    GraphLaplacian[[maxdegvertex, -1], :] = GraphLaplacian[[-1, maxdegvertex], :]\n",
        "    GraphLaplacian[:, [maxdegvertex, -1]] = GraphLaplacian[:, [-1, maxdegvertex]]\n",
        "QuadraticForm = GraphLaplacian[np.ix_(np.arange(NumberOfVertices - 1), np.arange(NumberOfVertices - 1))]\n",
        "\n",
        "# classical, brute-force cut-function and MaxCut computation\n",
        "cuts = np.empty(1 << len(QuadraticForm), dtype=int)\n",
        "for x, _ in enumerate(cuts):\n",
        "    conf = (x >> np.arange(len(QuadraticForm)))&1\n",
        "    cuts[x] = np.inner(conf@QuadraticForm, conf)\n",
        "MaxCut = np.max(cuts)\n",
        "\n",
        "# cut statistics\n",
        "RandomChance, Lambda, m, sigma = np.array([np.sum(np.where(cuts == cut, 1, 0)) for cut in range(MaxCut + 1)]) / (1 << (NumberOfVertices - 1)), np.sum(np.where(cuts >= threshold, 1, 0)) * np.exp2(1 - NumberOfVertices), NumberOfEdges / 2, np.std(cuts)"
      ]
    },
    {
      "cell_type": "code",
      "execution_count": 8,
      "id": "LEwbShaA-Kfp",
      "metadata": {
        "colab": {
          "base_uri": "https://localhost:8080/"
        },
        "id": "LEwbShaA-Kfp",
        "outputId": "d7d18665-8326-454e-bb0e-98455c19746e"
      },
      "outputs": [
        {
          "name": "stdout",
          "output_type": "stream",
          "text": [
            "MaxCut\tthreshold\tLambda\ttarget probability\tdelta\tl\tdigits\n",
            "14\t12\t\t0.11\t68.89%\t\t\t0.94\t1\t5\n",
            "\n"
          ]
        }
      ],
      "source": [
        "l = 1\n",
        "delta = GroverParameterOptimizerForComplexity(l, Lambda, 10)\n",
        "TargetProbability = GroverProbability(delta, Lambda)\n",
        "\n",
        "print(f\"MaxCut\\tthreshold\\tLambda\\ttarget probability\\tdelta\\tl\\tdigits\\n{MaxCut}\\t{threshold}\\t\\t{Lambda:.2f}\\t{TargetProbability:.2%}\\t\\t\\t{delta:.2}\\t{l}\\t{digits}\\n\")"
      ]
    },
    {
      "cell_type": "markdown",
      "id": "02eec6db",
      "metadata": {
        "id": "02eec6db"
      },
      "source": [
        "### simulation and evaluation of data:"
      ]
    },
    {
      "cell_type": "code",
      "execution_count": 9,
      "id": "016ec09c",
      "metadata": {
        "colab": {
          "background_save": true,
          "base_uri": "https://localhost:8080/"
        },
        "id": "016ec09c",
        "outputId": "1955a1bd-7bca-485e-9f43-246cd4133aba"
      },
      "outputs": [
        {
          "name": "stdout",
          "output_type": "stream",
          "text": [
            "\n",
            "computation with Grover Fixed-Point Search...\n",
            "\n",
            "done in 0.39 seconds\n",
            "\n"
          ]
        }
      ],
      "source": [
        "noise = True\n",
        "noise = False\n",
        "\n",
        "print(f\"\\ncomputation with Grover Fixed-Point Search...\\n\")\n",
        "Start = timer()\n",
        "\n",
        "QC = GroverFPSForQUBO(QuadraticForm, digits, threshold, l, delta)\n",
        "\n",
        "if noise:\n",
        "    QC.save_density_matrix(qubits=QC.qubits[:-QC.num_ancillas],\n",
        "                           label=\"ϱ\")\n",
        "    simulator = AerSimulator(method=\"density_matrix\",\n",
        "                             noise_model=fake_aria)\n",
        "    QC = transpile(circuits=QC,\n",
        "                   backend=simulator,\n",
        "                   optimization_level=3)\n",
        "    psi = simulator.run(QC, shots=1).result().data()[\"ϱ\"]\n",
        "else:\n",
        "    QC.save_statevector()\n",
        "    simulator = AerSimulator(method=\"statevector\")\n",
        "    QC = transpile(circuits=QC,\n",
        "                   backend=simulator,\n",
        "                   basis_gates=[\"u\", \"cx\", \"save_statevector\"],\n",
        "                   optimization_level=3)\n",
        "    psi = Statevector(simulator.run(QC).result().get_statevector())\n",
        "\n",
        "print(f\"done in {(timer() - Start):.2f} seconds\\n\")"
      ]
    },
    {
      "cell_type": "code",
      "execution_count": 10,
      "id": "CCAUsax1XqDL",
      "metadata": {
        "id": "CCAUsax1XqDL"
      },
      "outputs": [],
      "source": [
        "probabilities = psi.probabilities(np.arange(QC.num_qubits - QC.num_ancillas))\n",
        "distribution = np.array([np.sum(np.where(cuts == cut, probabilities, 0)) for cut in range(MaxCut + 1)])\n",
        "success = np.sum(distribution[threshold:])\n",
        "M = np.dot(distribution, np.arange(len(distribution)))\n",
        "var = np.sqrt(np.dot(distribution, np.arange(len(distribution))**2) - M**2)\n",
        "sign_m, sign_sigma = \"+\" if M >= m else \"-\", \"+\" if var >= sigma else \"-\""
      ]
    },
    {
      "cell_type": "code",
      "execution_count": 11,
      "id": "-tdL3ftb-IUz",
      "metadata": {
        "colab": {
          "base_uri": "https://localhost:8080/"
        },
        "id": "-tdL3ftb-IUz",
        "outputId": "07722120-c6e3-44ee-ffd4-030a3a9fb533"
      },
      "outputs": [
        {
          "name": "stdout",
          "output_type": "stream",
          "text": [
            "out noise\n",
            "\n",
            "the graph:\n",
            "----------\n",
            "MaxCut\t\t\t\t= 14\n",
            "number of edges\t\t\t= 18\n",
            "threshold (Erdős-Edwards bound)\t= 12 (85.7% of MaxCut)\n",
            "\n",
            "the graph Laplacian:\n",
            "--------------------\n",
            "\n",
            "[ 1  0  0  0  0  0  0  0  0 -1  0]\n",
            "[ 0  3 -1  0 -1  0  0  0  0  0 -1]\n",
            "[ 0 -1  4  0  0 -1  0  0  0 -1 -1]\n",
            "[ 0  0  0  5  0 -1 -1 -1 -1 -1  0]\n",
            "[ 0 -1  0  0  2  0  0  0  0  0 -1]\n",
            "[ 0  0 -1 -1  0  4  0 -1  0 -1  0]\n",
            "[ 0  0  0 -1  0  0  3 -1  0  0 -1]\n",
            "[ 0  0  0 -1  0 -1 -1  3  0  0  0]\n",
            "[ 0  0  0 -1  0  0  0  0  2  0 -1]\n",
            "[-1  0 -1 -1  0 -1  0  0  0  4  0]\n",
            "[ 0 -1 -1  0 -1  0 -1  0 -1  0  5]\n",
            "\n",
            "Grover parameters:\n",
            "------------------\n",
            "Lambda\t\t\t= 0.11\n",
            "delta\t\t\t= 0.94\n",
            "query complexity\t= 1\n",
            "\n",
            "results with Grover:\n",
            "--------------------\n",
            "\n",
            "success probability\t= 68.9% (theoretical value = 68.9%, random chance = 10.6%)\n",
            "expectation\t\t= 11.2\t(9.0 + 2.2)\n",
            "variance\t\t= 2.1\t(2.1 - 0.1)\n",
            "\n",
            "CNOT count\t\t= 702\n",
            "circuit depth\t\t= 618\n"
          ]
        }
      ],
      "source": [
        "ss = StringIO(f\"simulation with\")\n",
        "ss.write(f\"\" if noise else f\"out\")\n",
        "ss.write(f\" noise\\n\\nthe graph:\\n----------\\nMaxCut\\t\\t\\t\\t= {MaxCut}\\nnumber of edges\\t\\t\\t= {NumberOfEdges}\\n\")\n",
        "ss.write(f\"threshold (Erdős-Edwards bound)\\t= {threshold} ({threshold/MaxCut:.1%} of MaxCut)\")\n",
        "ss.write(f\"\\n\\nthe graph Laplacian:\\n--------------------\\n\\n\" + f\"\".join([f\"{row.view()}\\n\" for row in GraphLaplacian]))\n",
        "ss.write(f\"\\nGrover parameters:\\n------------------\\nLambda\\t\\t\\t= {Lambda:.2f}\\ndelta\\t\\t\\t= {delta:.2f}\")\n",
        "ss.write(f\"\\nquery complexity\\t= {l}\\n\\nresults with Grover:\\n--------------------\\n\\n\")\n",
        "ss.write(f\"success probability\\t= {success:.1%} (theoretical value = {TargetProbability:.1%}, random chance = {Lambda:.1%})\\n\")\n",
        "ss.write(f\"expectation\\t\\t= {M:.1f}\\t({m} {sign_m} {abs(M - m):.1f})\\n\")\n",
        "ss.write(f\"variance\\t\\t= {var:.1f}\\t({sigma:.1f} {sign_sigma} {abs(var - sigma):.1f})\\n\\n\")\n",
        "ss.write(f\"CNOT count\\t\\t= {QC.count_ops()['cx']}\\ncircuit depth\\t\\t= {QC.depth()}\")\n",
        "print(ss.getvalue())"
      ]
    },
    {
      "cell_type": "code",
      "execution_count": 12,
      "id": "ZIXBoQB_3z82",
      "metadata": {
        "colab": {
          "base_uri": "https://localhost:8080/",
          "height": 465
        },
        "id": "ZIXBoQB_3z82",
        "outputId": "c8d8929d-b51e-4e5d-ccd2-d0fe4d0b571d"
      },
      "outputs": [
        {
          "data": {
            "image/png": "[encoded data removed]",
            "text/plain": [
              "<Figure size 1500x500 with 3 Axes>"
            ]
          },
          "metadata": {},
          "output_type": "display_data"
        }
      ],
      "source": [
        "fig, axs = plt.subplots(nrows=1, ncols=3, sharey=True, figsize=(15, 5))\n",
        "\n",
        "axs[0].bar(np.arange(len(RandomChance)),\n",
        "           RandomChance,\n",
        "           width=0.5,\n",
        "           color=\"red\")\n",
        "axs[0].set(xlabel=f\"cuts before Grover\",\n",
        "           ylabel=f\"probabilities\")\n",
        "axs[0].axvline(x = threshold - 1/2,\n",
        "               linewidth=0.75,\n",
        "               color=\"black\")\n",
        "\n",
        "axs[1].bar(np.arange(len(distribution)),\n",
        "           distribution,\n",
        "           width=0.5,\n",
        "           color=\"green\")\n",
        "axs[1].set(xlabel=f\"cuts after Grover\")\n",
        "axs[1].axvline(x = threshold - 1/2,\n",
        "               linewidth=0.75,\n",
        "               color=\"black\")\n",
        "\n",
        "axs[2].bar(np.arange(len(distribution)),\n",
        "           distribution - RandomChance,\n",
        "           width=0.5,\n",
        "           color=\"midnightblue\")\n",
        "axs[2].set(xlabel=f\"difference\")\n",
        "axs[2].axvline(x = threshold - 1/2,\n",
        "               linewidth=0.75,\n",
        "               color=\"black\",\n",
        "               label=f\"Erdős-Edwards bound\")\n",
        "\n",
        "plt.legend(bbox_to_anchor = (1.0, 1), loc = \"upper left\")\n",
        "\n",
        "plt.show()"
      ]
    }
  ],
  "metadata": {
    "colab": {
      "collapsed_sections": [
        "THzaoqHo13RE",
        "FTiJALVtnQIW",
        "IPRVQYBNTx8w",
        "uPdo4AqbiLkw",
        "4JOxrrxxqNcT"
      ],
      "provenance": []
    },
    "kernelspec": {
      "display_name": "Python 3 (ipykernel)",
      "language": "python",
      "name": "python3"
    },
    "language_info": {
      "codemirror_mode": {
        "name": "ipython",
        "version": 3
      },
      "file_extension": ".py",
      "mimetype": "text/x-python",
      "name": "python",
      "nbconvert_exporter": "python",
      "pygments_lexer": "ipython3",
      "version": "3.11.6"
    }
  },
  "nbformat": 4,
  "nbformat_minor": 5
}

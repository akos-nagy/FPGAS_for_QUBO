{
  "cells": [
    {
      "cell_type": "markdown",
      "id": "THzaoqHo13RE",
      "metadata": {
        "id": "THzaoqHo13RE"
      },
      "source": [
        "# preparations"
      ]
    },
    {
      "cell_type": "markdown",
      "id": "FTiJALVtnQIW",
      "metadata": {
        "id": "FTiJALVtnQIW"
      },
      "source": [
        "## install Qiskit"
      ]
    },
    {
      "cell_type": "code",
      "execution_count": 1,
      "id": "asSgzYHnnT8E",
      "metadata": {
        "colab": {
          "base_uri": "https://localhost:8080/"
        },
        "id": "asSgzYHnnT8E",
        "metadata": {},
        "outputId": "9b787deb-9004-4a70-9095-2993d39bd1dd"
      },
      "outputs": [
        {
          "name": "stdout",
          "output_type": "stream",
          "text": [
            "Requirement already satisfied: qiskit in /home/akos/.venvs/akos/lib/python3.12/site-packages (1.0.2)\n",
            "Requirement already satisfied: qiskit_aer in /home/akos/.venvs/akos/lib/python3.12/site-packages (0.14.1)\n",
            "Requirement already satisfied: rustworkx>=0.14.0 in /home/akos/.venvs/akos/lib/python3.12/site-packages (from qiskit) (0.14.2)\n",
            "Requirement already satisfied: numpy<2,>=1.17 in /home/akos/.venvs/akos/lib/python3.12/site-packages (from qiskit) (1.26.4)\n",
            "Requirement already satisfied: scipy>=1.5 in /home/akos/.venvs/akos/lib/python3.12/site-packages (from qiskit) (1.13.0)\n",
            "Requirement already satisfied: sympy>=1.3 in /home/akos/.venvs/akos/lib/python3.12/site-packages (from qiskit) (1.12)\n",
            "Requirement already satisfied: dill>=0.3 in /home/akos/.venvs/akos/lib/python3.12/site-packages (from qiskit) (0.3.8)\n",
            "Requirement already satisfied: python-dateutil>=2.8.0 in /home/akos/.venvs/akos/lib/python3.12/site-packages (from qiskit) (2.9.0.post0)\n",
            "Requirement already satisfied: stevedore>=3.0.0 in /home/akos/.venvs/akos/lib/python3.12/site-packages (from qiskit) (5.2.0)\n",
            "Requirement already satisfied: typing-extensions in /home/akos/.venvs/akos/lib/python3.12/site-packages (from qiskit) (4.11.0)\n",
            "Requirement already satisfied: symengine>=0.11 in /home/akos/.venvs/akos/lib/python3.12/site-packages (from qiskit) (0.11.0)\n",
            "Requirement already satisfied: psutil>=5 in /home/akos/.venvs/akos/lib/python3.12/site-packages (from qiskit_aer) (5.9.8)\n",
            "Requirement already satisfied: six>=1.5 in /home/akos/.venvs/akos/lib/python3.12/site-packages (from python-dateutil>=2.8.0->qiskit) (1.16.0)\n",
            "Requirement already satisfied: pbr!=2.1.0,>=2.0.0 in /home/akos/.venvs/akos/lib/python3.12/site-packages (from stevedore>=3.0.0->qiskit) (6.0.0)\n",
            "Requirement already satisfied: mpmath>=0.19 in /home/akos/.venvs/akos/lib/python3.12/site-packages (from sympy>=1.3->qiskit) (1.3.0)\n",
            "Note: you may need to restart the kernel to use updated packages.\n"
          ]
        }
      ],
      "source": [
        "%pip install qiskit qiskit_aer"
      ]
    },
    {
      "cell_type": "markdown",
      "id": "IPRVQYBNTx8w",
      "metadata": {
        "id": "IPRVQYBNTx8w"
      },
      "source": [
        "## loading libraries"
      ]
    },
    {
      "cell_type": "code",
      "execution_count": 2,
      "id": "dlRKQIAC6D00",
      "metadata": {
        "id": "dlRKQIAC6D00",
        "metadata": {}
      },
      "outputs": [],
      "source": [
        "from qiskit.circuit import QuantumCircuit, QuantumRegister, AncillaRegister\n",
        "from qiskit.compiler import transpile\n",
        "from qiskit_aer import AerSimulator\n",
        "from qiskit.quantum_info import Statevector, Operator\n",
        "\n",
        "import numpy as np\n",
        "import networkx as nx\n",
        "import matplotlib.pyplot as plt\n",
        "from scipy.special import eval_chebyt as Chebyshev\n",
        "from timeit import default_timer as timer\n",
        "from io import StringIO"
      ]
    },
    {
      "cell_type": "markdown",
      "id": "4JOxrrxxqNcT",
      "metadata": {
        "id": "4JOxrrxxqNcT"
      },
      "source": [
        "## Grover parameter optimizers"
      ]
    },
    {
      "cell_type": "code",
      "execution_count": 3,
      "id": "mLZxhHb_0Oyl",
      "metadata": {
        "id": "mLZxhHb_0Oyl",
        "metadata": {}
      },
      "outputs": [],
      "source": [
        "# delta, Lambda must be in (0, 1)\n",
        "def GroverQueryComplexity(delta: float, Lambda: float):\n",
        "    return int(np.ceil(np.arccosh(1 / delta) / np.arccosh(1 / np.sqrt(1 - Lambda)))) // 2\n",
        "\n",
        "# Lambda must be in (0, 1)\n",
        "def GroverProbability(delta: float, Lambda: float):\n",
        "    L = 2 * GroverQueryComplexity(delta, Lambda) + 1\n",
        "    return 1 - np.power(delta * Chebyshev(L, Chebyshev(1 / L, 1 / delta) * np.sqrt(1 - Lambda)), 2)\n",
        "\n",
        "# Lambda must be in (0, 1), l, N must be positive integers\n",
        "def GroverParameterOptimizerForComplexity(l: int, Lambda: float, N: int):\n",
        "    deltas = np.where(np.int8(np.ceil(np.arccosh(1 / np.linspace(1 - np.exp2(- N), np.exp2(- N), 1 << N)) / np.arccosh(1 / np.sqrt(1 - Lambda)))) // 2 <= l, np.linspace(1 - np.exp2(- N), np.exp2(- N), 1 << N), 0)\n",
        "    prob = GroverProbability(deltas[0], Lambda)\n",
        "    for d in deltas[1: np.where(deltas == 0)[0][0]]:\n",
        "        if GroverProbability(d, Lambda) > prob:\n",
        "            delta, prob = d, GroverProbability(d, Lambda)\n",
        "\n",
        "    return delta"
      ]
    },
    {
      "cell_type": "markdown",
      "id": "a4e1bbd3",
      "metadata": {},
      "source": [
        "## fan-out gates"
      ]
    },
    {
      "cell_type": "code",
      "execution_count": 4,
      "id": "c4eaa190",
      "metadata": {
        "metadata": {}
      },
      "outputs": [],
      "source": [
        "def FanOut(digits: int):\n",
        "\n",
        "    # misc definitions\n",
        "    b = int(np.floor(np.log2(digits)))\n",
        "    jumps = 1 << np.arange(b)\n",
        "    bits = (digits >> np.arange(b))%2\n",
        "\n",
        "\n",
        "\n",
        "    # circuit\n",
        "    QControl = QuantumRegister(1, \"x\")\n",
        "    qtarget = QuantumRegister(digits, \"y\")\n",
        "    QC = QuantumCircuit(qcontrol, qtarget, name=f\"fan-out\")\n",
        "\n",
        "\n",
        "\n",
        "    for jump in jumps:\n",
        "        for i in range(digits - 2 * jump, - 1, - 2 * jump):\n",
        "            qc.cx(qtarget[i], qtarget[i + jump])\n",
        "\n",
        "    for idx in np.where(bits)[0]:\n",
        "        qc.cx(qtarget[0], qtarget[np.sum(1 << bits[:idx + 1]) - 1])\n",
        "\n",
        "\n",
        "\n",
        "    qc.cx(qcontrol[0], qtarget[0])\n",
        "\n",
        "\n",
        "\n",
        "    for idx in reversed(np.where(bits)[0]):\n",
        "        qc.cx(qtarget[0], qtarget[np.sum(1 << bits[:idx + 1]) - 1])\n",
        "\n",
        "    for jump in reversed(jumps):\n",
        "        for i in range(digits - 2 * jump, - 1, - 2 * jump):\n",
        "            qc.cx(qtarget[i], qtarget[i + jump])\n",
        "\n",
        "\n",
        "\n",
        "    return qc"
      ]
    },
    {
      "cell_type": "code",
      "execution_count": 99,
      "id": "cd56ec98",
      "metadata": {
        "metadata": {}
      },
      "outputs": [],
      "source": [
        "def MarkerOracle(QuadraticForm: list[list[int]], digits: int):\n",
        "\n",
        "    # misc definitions\n",
        "    b = int(np.floor(np.log2(digits)))\n",
        "    jumps = 1 << np.arange(b)\n",
        "    bits = (digits >> np.arange(b))%2\n",
        "\n",
        "    # we often need these values\n",
        "    PiOverPowerOfTwo = np.pi / (1 << np.arange(max(len(QuadraticForm), digits)))\n",
        "\n",
        "    QRegX = QuantumRegister(len(QuadraticForm), \"x\") # quantum registers for the bit configurations\n",
        "    QRegY = AncillaRegister(digits, \"y\") # quantum registers to digitize values\n",
        "\n",
        "    QC = QuantumCircuit(QRegX, QRegY, name=f\"marker\")\n",
        "\n",
        "    for idx, q in enumerate(QRegX):\n",
        "\n",
        "        for jump in jumps:\n",
        "            for i in range(digits - 2 * jump, - 1, - 2 * jump):\n",
        "                QC.cx(QRegY[i], QRegY[i + jump])\n",
        "\n",
        "        for i in np.where(bits)[0]:\n",
        "            QC.cx(QRegY[0], QRegY[np.sum(1 << bits[:i + 1]) - 1])\n",
        "\n",
        "        QC.cx(q, QRegY[0])\n",
        "\n",
        "        for i in reversed(np.where(bits)[0]):\n",
        "            QC.cx(QRegY[0], QRegY[np.sum(1 << bits[:i + 1]) - 1])\n",
        "\n",
        "        for jump in reversed(jumps):\n",
        "            for i in range(digits - 2 * jump, - 1, - 2 * jump):\n",
        "                QC.cx(QRegY[i], QRegY[i + jump])\n",
        "\n",
        "        qi = np.sum(QuadraticForm[idx]) / 2\n",
        "        if qi != 0:\n",
        "            for jdx, p in enumerate(reversed(QRegY)):\n",
        "                QC.p(qi * PiOverPowerOfTwo[jdx], p)\n",
        "        for kdx, r in enumerate(QRegX[idx + 1:]):\n",
        "            Qij = QuadraticForm[idx, idx + 1 + kdx] / 2\n",
        "            if Qij != 0:\n",
        "                for jump in jumps:\n",
        "                    for i in range(digits - 2 * jump, - 1, - 2 * jump):\n",
        "                        QC.cx(QRegY[i], QRegY[i + jump])\n",
        "\n",
        "                for i in np.where(bits)[0]:\n",
        "                    QC.cx(QRegY[0], QRegY[np.sum(1 << bits[:i + 1]) - 1])\n",
        "\n",
        "                QC.cx(r, QRegY[0])\n",
        "\n",
        "                for i in reversed(np.where(bits)[0]):\n",
        "                    QC.cx(QRegY[0], QRegY[np.sum(1 << bits[:i + 1]) - 1])\n",
        "\n",
        "                for jump in reversed(jumps):\n",
        "                    for i in range(digits - 2 * jump, - 1, - 2 * jump):\n",
        "                        QC.cx(QRegY[i], QRegY[i + jump])\n",
        "\n",
        "                for jdx, p in enumerate(reversed(QRegY)):\n",
        "                    QC.p(- Qij * PiOverPowerOfTwo[jdx], p)\n",
        "\n",
        "                for jump in jumps:\n",
        "                    for i in range(digits - 2 * jump, - 1, - 2 * jump):\n",
        "                        QC.cx(QRegY[i], QRegY[i + jump])\n",
        "\n",
        "                for i in np.where(bits)[0]:\n",
        "                    QC.cx(QRegY[0], QRegY[np.sum(1 << bits[:i + 1]) - 1])\n",
        "\n",
        "                QC.cx(r, QRegY[0])\n",
        "\n",
        "                for i in reversed(np.where(bits)[0]):\n",
        "                    QC.cx(QRegY[0], QRegY[np.sum(1 << bits[:i + 1]) - 1])\n",
        "\n",
        "                for jump in reversed(jumps):\n",
        "                    for i in range(digits - 2 * jump, - 1, - 2 * jump):\n",
        "                        QC.cx(QRegY[i], QRegY[i + jump])\n",
        "\n",
        "        for jump in jumps:\n",
        "            for i in range(digits - 2 * jump, - 1, - 2 * jump):\n",
        "                QC.cx(QRegY[i], QRegY[i + jump])\n",
        "\n",
        "        for i in np.where(bits)[0]:\n",
        "            QC.cx(QRegY[0], QRegY[np.sum(1 << bits[:i + 1]) - 1])\n",
        "\n",
        "        QC.cx(q, QRegY[0])\n",
        "\n",
        "        for i in reversed(np.where(bits)[0]):\n",
        "            QC.cx(QRegY[0], QRegY[np.sum(1 << bits[:i + 1]) - 1])\n",
        "\n",
        "        for jump in reversed(jumps):\n",
        "            for i in range(digits - 2 * jump, - 1, - 2 * jump):\n",
        "                QC.cx(QRegY[i], QRegY[i + jump])\n",
        "\n",
        "    return QC"
      ]
    },
    {
      "cell_type": "markdown",
      "id": "993346e4",
      "metadata": {
        "id": "993346e4"
      },
      "source": [
        "# Grover Fixed Point Search for integer Quadratic Binary Optimization problems (minimal number of ancillas)"
      ]
    },
    {
      "cell_type": "code",
      "execution_count": 100,
      "id": "XK-9F2bGEg0R",
      "metadata": {
        "id": "XK-9F2bGEg0R",
        "metadata": {}
      },
      "outputs": [],
      "source": [
        "def GroverFPSForQUBO(QuadraticForm: list[list[int]], digits: int, threshold: int, l: int, delta: float):\n",
        "\n",
        "    GroverPhases = 2 * np.arctan(1 / (np.tanh(np.arccosh(1 / delta) / (2 * l + 1)) * np.tan(np.arange(1, l + 1) * 2 * np.pi / (2 * l + 1))))\n",
        "\n",
        "    # we often need these values\n",
        "    PiOverPowerOfTwo = np.pi / (1 << np.arange(max(len(QuadraticForm), digits)))\n",
        "\n",
        "    # circuit preparation\n",
        "    QRegX = QuantumRegister(len(QuadraticForm), \"x\") # quantum registers for the bit configurations\n",
        "    QRegY = AncillaRegister(digits, \"y\") # quantum registers to digitize values\n",
        "\n",
        "    QC = QuantumCircuit(QRegX, QRegY, name=f\"Grover FPS Circuit\")\n",
        "\n",
        "    MO = MarkerOracle(QuadraticForm, digits).to_gate()\n",
        "    IMO = MO.inverse()\n",
        "    IMO.label = f\"unmarker\"\n",
        "\n",
        "    # state-preparation\n",
        "    QC.h(QRegX[:] + QRegY[:])\n",
        "\n",
        "    # adding threshold\n",
        "    for idx, q in enumerate(reversed(QRegY)):\n",
        "        QC.p((threshold - 1 - (np.trace(QuadraticForm) + np.sum(QuadraticForm)) / 4) * PiOverPowerOfTwo[idx], q)\n",
        "\n",
        "    # Grover FPS bang-bangs\n",
        "    for alpha, beta in zip(GroverPhases, reversed(GroverPhases)):\n",
        "\n",
        "        # S_t (beta)\n",
        "        # subtracting from ancillas\n",
        "        QC.append(MO, QRegX[:] + QRegY[:])\n",
        "\n",
        "        # inverse QFT without the SWAPs\n",
        "        for i, q in enumerate(reversed(QRegY)):\n",
        "            QC.h(q)\n",
        "            for j, r in enumerate(reversed(QRegY[:- i - 1])):\n",
        "                QC.cp(- PiOverPowerOfTwo[j + 1], q, r)\n",
        "\n",
        "        QC.p(beta, QRegY[0])\n",
        "\n",
        "        # QFT without the SWAPs\n",
        "        for i, q in enumerate(QRegY):\n",
        "            QC.h(q)\n",
        "            for j, r in enumerate(QRegY[i + 1:]):\n",
        "                QC.cp(PiOverPowerOfTwo[j + 1], q, r)\n",
        "\n",
        "        # adding back to ancillas\n",
        "        QC.append(IMO, QRegX[:] + QRegY[:])\n",
        "\n",
        "        # S_s (alpha)\n",
        "        QC.h(QRegX)\n",
        "        QC.x(QRegX)\n",
        "        QC.mcp(alpha, QRegX[:- 1], QRegX[- 1])\n",
        "        QC.x(QRegX)\n",
        "        QC.h(QRegX)\n",
        "\n",
        "    return QC"
      ]
    },
    {
      "cell_type": "markdown",
      "id": "7ca40d78",
      "metadata": {
        "id": "7ca40d78"
      },
      "source": [
        "# parameters & testing for MaxCut:"
      ]
    },
    {
      "cell_type": "code",
      "execution_count": 101,
      "id": "xRZEtnNDmGjE",
      "metadata": {
        "colab": {
          "base_uri": "https://localhost:8080/",
          "height": 516
        },
        "id": "xRZEtnNDmGjE",
        "metadata": {},
        "outputId": "16454758-ab5b-4b8e-f880-2db5e559a307"
      },
      "outputs": [
        {
          "data": {
            "image/png": "[encoded data removed]",
            "text/plain": [
              "<Figure size 640x480 with 1 Axes>"
            ]
          },
          "metadata": {},
          "output_type": "display_data"
        }
      ],
      "source": [
        "# random, connected graph\n",
        "NumberOfVertices, EdgeProbability = 12, 5e-1\n",
        "Graph = nx.erdos_renyi_graph(NumberOfVertices, EdgeProbability)\n",
        "while not nx.is_connected(Graph):\n",
        "    Graph = nx.erdos_renyi_graph(NumberOfVertices, EdgeProbability)\n",
        "nx.draw(Graph, with_labels=False)"
      ]
    },
    {
      "cell_type": "code",
      "execution_count": 102,
      "id": "149f166a",
      "metadata": {
        "id": "149f166a",
        "metadata": {},
        "scrolled": true
      },
      "outputs": [],
      "source": [
        "GraphLaplacian = nx.laplacian_matrix(Graph).toarray()\n",
        "NumberOfEdges = np.trace(GraphLaplacian) // 2\n",
        "threshold = int(np.ceil((2 * NumberOfEdges + NumberOfVertices - 1)/4))\n",
        "digits = 1 + int(np.ceil(np.log2(threshold + 1))) if NumberOfVertices > 2 else 1 # number of ancilla qubits needed to digitize cuts\n",
        "\n",
        "# let's get rid of the vertex with the highest degree; this step, is not necessary, but saves one qubit\n",
        "maxdegvertex = np.where(np.diag(GraphLaplacian) == np.max(np.diag(GraphLaplacian)))[0][0]\n",
        "if maxdegvertex + 1 != NumberOfVertices:\n",
        "    GraphLaplacian[[maxdegvertex, -1], :] = GraphLaplacian[[-1, maxdegvertex], :]\n",
        "    GraphLaplacian[:, [maxdegvertex, -1]] = GraphLaplacian[:, [-1, maxdegvertex]]\n",
        "QuadraticForm = GraphLaplacian[np.ix_(np.arange(NumberOfVertices - 1), np.arange(NumberOfVertices - 1))]\n",
        "\n",
        "# classical, brute-force cut-function and MaxCut computation\n",
        "cuts = np.empty(1 << len(QuadraticForm), dtype=int)\n",
        "for x, _ in enumerate(cuts):\n",
        "    conf = (x >> np.arange(len(QuadraticForm)))&1\n",
        "    cuts[x] = np.inner(conf@QuadraticForm, conf)\n",
        "MaxCut = np.max(cuts)\n",
        "\n",
        "# cut statistics\n",
        "RandomChance, Lambda, m, sigma = np.array([np.sum(np.where(cuts == cut, 1, 0)) for cut in range(MaxCut + 1)]) / (1 << (NumberOfVertices - 1)), np.sum(np.where(cuts >= threshold, 1, 0)) * np.exp2(1 - NumberOfVertices), NumberOfEdges / 2, np.std(cuts)"
      ]
    },
    {
      "cell_type": "code",
      "execution_count": 103,
      "id": "LEwbShaA-Kfp",
      "metadata": {
        "colab": {
          "base_uri": "https://localhost:8080/"
        },
        "id": "LEwbShaA-Kfp",
        "metadata": {},
        "outputId": "d7d18665-8326-454e-bb0e-98455c19746e"
      },
      "outputs": [
        {
          "name": "stdout",
          "output_type": "stream",
          "text": [
            "MaxCut\tthreshold\tLambda\ttarget probability\tdelta\tl\tdigits\n",
            "24\t19\t\t0.12\t73.28%\t\t\t0.94\t1\t6\n",
            "\n"
          ]
        }
      ],
      "source": [
        "l = 1\n",
        "delta = GroverParameterOptimizerForComplexity(l, Lambda, 10)\n",
        "TargetProbability = GroverProbability(delta, Lambda)\n",
        "\n",
        "print(f\"MaxCut\\tthreshold\\tLambda\\ttarget probability\\tdelta\\tl\\tdigits\\n{MaxCut}\\t{threshold}\\t\\t{Lambda:.2f}\\t{TargetProbability:.2%}\\t\\t\\t{delta:.2}\\t{l}\\t{digits}\\n\")"
      ]
    },
    {
      "cell_type": "markdown",
      "id": "02eec6db",
      "metadata": {
        "id": "02eec6db"
      },
      "source": [
        "### simulation and evaluation of data:"
      ]
    },
    {
      "cell_type": "code",
      "execution_count": 104,
      "id": "016ec09c",
      "metadata": {
        "colab": {
          "background_save": true,
          "base_uri": "https://localhost:8080/"
        },
        "id": "016ec09c",
        "metadata": {},
        "outputId": "1955a1bd-7bca-485e-9f43-246cd4133aba"
      },
      "outputs": [
        {
          "name": "stdout",
          "output_type": "stream",
          "text": [
            "\n",
            "computation with Grover Fixed-Point Search...\n",
            "\n",
            "done in 3.00 seconds\n",
            "\n"
          ]
        }
      ],
      "source": [
        "print(f\"\\ncomputation with Grover Fixed-Point Search...\\n\")\n",
        "Start = timer()\n",
        "\n",
        "QC = GroverFPSForQUBO(QuadraticForm, digits, threshold, l, delta)\n",
        "\n",
        "simulator = AerSimulator()\n",
        "QC_transpiled = transpile(circuits=QC,\n",
        "                            backend=simulator,\n",
        "                            basis_gates=[\"u\", \"cx\"],\n",
        "                            optimization_level=3)\n",
        "\n",
        "print(f\"done in {(timer() - Start):.2f} seconds\\n\")"
      ]
    },
    {
      "cell_type": "code",
      "execution_count": 105,
      "id": "CCAUsax1XqDL",
      "metadata": {
        "id": "CCAUsax1XqDL",
        "metadata": {}
      },
      "outputs": [],
      "source": [
        "probabilities = Statevector(QC).probabilities(np.arange(QC.num_qubits - QC.num_ancillas))\n",
        "distribution = np.array([np.sum(np.where(cuts == cut, probabilities, 0)) for cut in range(MaxCut + 1)])\n",
        "success = np.sum(distribution[threshold:])\n",
        "M = np.dot(distribution, np.arange(len(distribution)))\n",
        "var = np.sqrt(np.dot(distribution, np.arange(len(distribution))**2) - M**2)\n",
        "sign_m, sign_sigma = \"+\" if M >= m else \"-\", \"+\" if var >= sigma else \"-\""
      ]
    },
    {
      "cell_type": "code",
      "execution_count": 106,
      "id": "-tdL3ftb-IUz",
      "metadata": {
        "colab": {
          "base_uri": "https://localhost:8080/"
        },
        "id": "-tdL3ftb-IUz",
        "metadata": {},
        "outputId": "07722120-c6e3-44ee-ffd4-030a3a9fb533"
      },
      "outputs": [
        {
          "name": "stdout",
          "output_type": "stream",
          "text": [
            "\n",
            "the graph:\n",
            "----------\n",
            "MaxCut\t\t\t\t= 24\n",
            "number of edges\t\t\t= 31\n",
            "threshold (Erdős-Edwards bound)\t= 19 (79.2% of MaxCut)\n",
            "Grover parameters:\n",
            "------------------\n",
            "Lambda\t\t\t= 0.12\n",
            "delta\t\t\t= 0.94\n",
            "query complexity\t= 1\n",
            "\n",
            "results with Grover:\n",
            "--------------------\n",
            "\n",
            "success probability\t= 73.3% (theoretical value = 73.3%, random chance = 11.7%)\n",
            "expectation\t\t= 18.4\t(15.5 + 2.9)\n",
            "variance\t\t= 2.6\t(2.8 - 0.2)\n",
            "\n",
            "CNOT count\t\t= 3830\n",
            "circuit depth\t\t= 5668\n"
          ]
        }
      ],
      "source": [
        "ss = StringIO(f\"\")\n",
        "ss.write(f\"\\nthe graph:\\n----------\\nMaxCut\\t\\t\\t\\t= {MaxCut}\\nnumber of edges\\t\\t\\t= {NumberOfEdges}\\n\")\n",
        "ss.write(f\"threshold (Erdős-Edwards bound)\\t= {threshold} ({threshold/MaxCut:.1%} of MaxCut)\")\n",
        "ss.write(f\"\\n\\nthe graph Laplacian:\\n--------------------\\n\\n\" + f\"\".join([f\"{row.view()}\\n\" for row in GraphLaplacian]))\n",
        "ss.write(f\"\\nGrover parameters:\\n------------------\\nLambda\\t\\t\\t= {Lambda:.2f}\\ndelta\\t\\t\\t= {delta:.2f}\")\n",
        "ss.write(f\"\\nquery complexity\\t= {l}\\n\\nresults with Grover:\\n--------------------\\n\\n\")\n",
        "ss.write(f\"success probability\\t= {success:.1%} (theoretical value = {TargetProbability:.1%}, random chance = {Lambda:.1%})\\n\")\n",
        "ss.write(f\"expectation\\t\\t= {M:.1f}\\t({m} {sign_m} {abs(M - m):.1f})\\n\")\n",
        "ss.write(f\"variance\\t\\t= {var:.1f}\\t({sigma:.1f} {sign_sigma} {abs(var - sigma):.1f})\\n\\n\")\n",
        "ss.write(f\"CNOT count\\t\\t= {QC_transpiled.count_ops()['cx']}\\ncircuit depth\\t\\t= {QC_transpiled.depth()}\")\n",
        "print(ss.getvalue())"
      ]
    },
    {
      "cell_type": "code",
      "execution_count": 107,
      "id": "ZIXBoQB_3z82",
      "metadata": {
        "colab": {
          "base_uri": "https://localhost:8080/",
          "height": 465
        },
        "id": "ZIXBoQB_3z82",
        "metadata": {},
        "outputId": "c8d8929d-b51e-4e5d-ccd2-d0fe4d0b571d"
      },
      "outputs": [
        {
          "data": {
            "image/png": "[encoded data removed]",
            "text/plain": [
              "<Figure size 1500x500 with 3 Axes>"
            ]
          },
          "metadata": {},
          "output_type": "display_data"
        }
      ],
      "source": [
        "fig, axs = plt.subplots(nrows=1, ncols=3, sharey=True, figsize=(15, 5))\n",
        "\n",
        "axs[0].bar(np.arange(len(RandomChance)),\n",
        "           RandomChance,\n",
        "           width=0.5,\n",
        "           color=\"red\")\n",
        "axs[0].set(xlabel=f\"cuts before Grover\",\n",
        "           ylabel=f\"probabilities\")\n",
        "axs[0].axvline(x = threshold - 1/2,\n",
        "               linewidth=0.75,\n",
        "               color=\"black\")\n",
        "\n",
        "axs[1].bar(np.arange(len(distribution)),\n",
        "           distribution,\n",
        "           width=0.5,\n",
        "           color=\"green\")\n",
        "axs[1].set(xlabel=f\"cuts after Grover\")\n",
        "axs[1].axvline(x = threshold - 1/2,\n",
        "               linewidth=0.75,\n",
        "               color=\"black\")\n",
        "\n",
        "axs[2].bar(np.arange(len(distribution)),\n",
        "           distribution - RandomChance,\n",
        "           width=0.5,\n",
        "           color=\"midnightblue\")\n",
        "axs[2].set(xlabel=f\"difference\")\n",
        "axs[2].axvline(x = threshold - 1/2,\n",
        "               linewidth=0.75,\n",
        "               color=\"black\",\n",
        "               label=f\"Erdős-Edwards bound\")\n",
        "\n",
        "plt.legend(bbox_to_anchor = (1.0, 1), loc = \"upper left\")\n",
        "\n",
        "plt.show()"
      ]
    },
    {
      "cell_type": "code",
      "execution_count": null,
      "id": "d1f2eda8",
      "metadata": {},
      "outputs": [],
      "source": []
    },
    {
      "cell_type": "code",
      "execution_count": null,
      "id": "d795ff53",
      "metadata": {},
      "outputs": [],
      "source": []
    }
  ],
  "metadata": {
    "colab": {
      "collapsed_sections": [
        "THzaoqHo13RE",
        "FTiJALVtnQIW",
        "IPRVQYBNTx8w",
        "uPdo4AqbiLkw",
        "4JOxrrxxqNcT"
      ],
      "provenance": []
    },
    "kernelspec": {
      "display_name": "Python 3 (ipykernel)",
      "language": "python",
      "name": "python3"
    },
    "language_info": {
      "codemirror_mode": {
        "name": "ipython",
        "version": 3
      },
      "file_extension": ".py",
      "mimetype": "text/x-python",
      "name": "python",
      "nbconvert_exporter": "python",
      "pygments_lexer": "ipython3",
      "version": "3.12.3"
    }
  },
  "nbformat": 4,
  "nbformat_minor": 5
}

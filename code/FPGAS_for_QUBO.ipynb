{
  "cells": [
    {
      "cell_type": "markdown",
      "id": "THzaoqHo13RE",
      "metadata": {
        "id": "THzaoqHo13RE"
      },
      "source": [
        "# preparations"
      ]
    },
    {
      "cell_type": "markdown",
      "id": "FTiJALVtnQIW",
      "metadata": {
        "id": "FTiJALVtnQIW"
      },
      "source": [
        "## install Qiskit"
      ]
    },
    {
      "cell_type": "code",
      "execution_count": 27,
      "id": "asSgzYHnnT8E",
      "metadata": {
        "colab": {
          "base_uri": "https://localhost:8080/"
        },
        "id": "asSgzYHnnT8E",
        "metadata": {},
        "outputId": "954fbd85-b49d-4040-93f1-81781af0fb10"
      },
      "outputs": [
        {
          "name": "stdout",
          "output_type": "stream",
          "text": [
            "Requirement already satisfied: qiskit in /usr/local/lib/python3.10/dist-packages (1.1.0)\n",
            "Requirement already satisfied: qiskit_aer in /usr/local/lib/python3.10/dist-packages (0.14.1)\n",
            "Requirement already satisfied: rustworkx>=0.14.0 in /usr/local/lib/python3.10/dist-packages (from qiskit) (0.14.2)\n",
            "Requirement already satisfied: numpy<3,>=1.17 in /usr/local/lib/python3.10/dist-packages (from qiskit) (1.25.2)\n",
            "Requirement already satisfied: scipy>=1.5 in /usr/local/lib/python3.10/dist-packages (from qiskit) (1.11.4)\n",
            "Requirement already satisfied: sympy>=1.3 in /usr/local/lib/python3.10/dist-packages (from qiskit) (1.12)\n",
            "Requirement already satisfied: dill>=0.3 in /usr/local/lib/python3.10/dist-packages (from qiskit) (0.3.8)\n",
            "Requirement already satisfied: python-dateutil>=2.8.0 in /usr/local/lib/python3.10/dist-packages (from qiskit) (2.8.2)\n",
            "Requirement already satisfied: stevedore>=3.0.0 in /usr/local/lib/python3.10/dist-packages (from qiskit) (5.2.0)\n",
            "Requirement already satisfied: typing-extensions in /usr/local/lib/python3.10/dist-packages (from qiskit) (4.11.0)\n",
            "Requirement already satisfied: symengine>=0.11 in /usr/local/lib/python3.10/dist-packages (from qiskit) (0.11.0)\n",
            "Requirement already satisfied: psutil>=5 in /usr/local/lib/python3.10/dist-packages (from qiskit_aer) (5.9.5)\n",
            "Requirement already satisfied: six>=1.5 in /usr/local/lib/python3.10/dist-packages (from python-dateutil>=2.8.0->qiskit) (1.16.0)\n",
            "Requirement already satisfied: pbr!=2.1.0,>=2.0.0 in /usr/local/lib/python3.10/dist-packages (from stevedore>=3.0.0->qiskit) (6.0.0)\n",
            "Requirement already satisfied: mpmath>=0.19 in /usr/local/lib/python3.10/dist-packages (from sympy>=1.3->qiskit) (1.3.0)\n"
          ]
        }
      ],
      "source": [
        "%pip install qiskit qiskit_aer"
      ]
    },
    {
      "cell_type": "markdown",
      "id": "IPRVQYBNTx8w",
      "metadata": {
        "id": "IPRVQYBNTx8w"
      },
      "source": [
        "## loading libraries"
      ]
    },
    {
      "cell_type": "code",
      "execution_count": 2,
      "id": "dlRKQIAC6D00",
      "metadata": {
        "id": "dlRKQIAC6D00",
        "metadata": {}
      },
      "outputs": [],
      "source": [
        "from qiskit.circuit import QuantumCircuit, QuantumRegister, AncillaRegister\n",
        "from qiskit.compiler import transpile\n",
        "from qiskit_aer import AerSimulator\n",
        "from qiskit.quantum_info import Statevector, Operator\n",
        "\n",
        "import numpy as np\n",
        "from scipy.special import eval_chebyt as Chebyshev\n",
        "\n",
        "import matplotlib.pyplot as plt\n",
        "\n",
        "from timeit import default_timer as timer\n",
        "from io import StringIO\n",
        "\n",
        "import networkx as nx"
      ]
    },
    {
      "cell_type": "markdown",
      "id": "4JOxrrxxqNcT",
      "metadata": {
        "id": "4JOxrrxxqNcT"
      },
      "source": [
        "## Grover parameter optimizers"
      ]
    },
    {
      "cell_type": "code",
      "execution_count": 3,
      "id": "mLZxhHb_0Oyl",
      "metadata": {
        "id": "mLZxhHb_0Oyl",
        "metadata": {}
      },
      "outputs": [],
      "source": [
        "# delta, Lambda must be in (0, 1)\n",
        "def GroverQueryComplexity(delta: float, Lambda: float):\n",
        "    return int(np.ceil(np.arccosh(1 / delta) / np.arccosh(1 / np.sqrt(1 - Lambda)))) // 2\n",
        "\n",
        "# Lambda must be in (0, 1)\n",
        "def GroverProbability(delta: float, Lambda: float):\n",
        "    L = 2 * GroverQueryComplexity(delta, Lambda) + 1\n",
        "    return 1 - np.power(delta * Chebyshev(L, Chebyshev(1 / L, 1 / delta) * np.sqrt(1 - Lambda)), 2)\n",
        "\n",
        "# Lambda must be in (0, 1), l, N must be positive integers\n",
        "def GroverParameterOptimizerForComplexity(l: int, Lambda: float, N: int):\n",
        "    deltas = np.where(np.int8(np.ceil(np.arccosh(1 / np.linspace(1 - np.exp2(- N), np.exp2(- N), 1 << N)) / np.arccosh(1 / np.sqrt(1 - Lambda)))) // 2 <= l, np.linspace(1 - np.exp2(- N), np.exp2(- N), 1 << N), 0)\n",
        "    prob = GroverProbability(deltas[0], Lambda)\n",
        "    for d in deltas[1: np.where(deltas == 0)[0][0]]:\n",
        "        if GroverProbability(d, Lambda) > prob:\n",
        "            delta, prob = d, GroverProbability(d, Lambda)\n",
        "\n",
        "    return delta"
      ]
    },
    {
      "cell_type": "markdown",
      "id": "a4e1bbd3",
      "metadata": {
        "id": "a4e1bbd3"
      },
      "source": [
        "## fan-out gates"
      ]
    },
    {
      "cell_type": "code",
      "execution_count": 4,
      "id": "c4eaa190",
      "metadata": {
        "id": "c4eaa190",
        "metadata": {}
      },
      "outputs": [],
      "source": [
        "def FanOut(digits: int):\n",
        "\n",
        "    # misc definitions\n",
        "    b = int(np.floor(np.log2(digits)))\n",
        "    jumps = 1 << np.arange(b)\n",
        "    bits = (digits >> np.arange(b))%2\n",
        "\n",
        "\n",
        "\n",
        "    # circuit\n",
        "    qcontrol = QuantumRegister(1, \"x\")\n",
        "    qtarget = QuantumRegister(digits, \"y\")\n",
        "    qc = QuantumCircuit(qcontrol, qtarget, name=f\"fan-out\")\n",
        "\n",
        "\n",
        "\n",
        "    for jump in jumps:\n",
        "        for i in range(digits - 2 * jump, - 1, - 2 * jump):\n",
        "            qc.cx(qtarget[i], qtarget[i + jump])\n",
        "\n",
        "    for idx in np.where(bits)[0]:\n",
        "        qc.cx(qtarget[0], qtarget[np.sum(1 << bits[:idx + 1]) - 1])\n",
        "\n",
        "\n",
        "\n",
        "    qc.cx(qcontrol[0], qtarget[0])\n",
        "\n",
        "\n",
        "\n",
        "    for idx in reversed(np.where(bits)[0]):\n",
        "        qc.cx(qtarget[0], qtarget[np.sum(1 << bits[:idx + 1]) - 1])\n",
        "\n",
        "    for jump in reversed(jumps):\n",
        "        for i in range(digits - 2 * jump, - 1, - 2 * jump):\n",
        "            qc.cx(qtarget[i], qtarget[i + jump])\n",
        "\n",
        "\n",
        "\n",
        "    return qc"
      ]
    },
    {
      "cell_type": "code",
      "execution_count": 5,
      "id": "GsPoK5Zh2RMV",
      "metadata": {
        "colab": {
          "base_uri": "https://localhost:8080/",
          "height": 217
        },
        "id": "GsPoK5Zh2RMV",
        "metadata": {},
        "outputId": "3a117ad9-6efd-45a3-bb3e-b81c2bcc4959"
      },
      "outputs": [
        {
          "data": {
            "text/html": [
              "<pre style=\"word-wrap: normal;white-space: pre;background: #fff0;line-height: 1.1;font-family: &quot;Courier New&quot;,Courier,monospace\">                                        \n",
              "  x: ─────────────────■─────────────────\n",
              "                    ┌─┴─┐               \n",
              "y_0: ────────────■──┤ X ├──■────────────\n",
              "               ┌─┴─┐└───┘┌─┴─┐          \n",
              "y_1: ──■────■──┤ X ├─────┤ X ├──■────■──\n",
              "     ┌─┴─┐  │  └───┘     └───┘  │  ┌─┴─┐\n",
              "y_2: ┤ X ├──┼───────────────────┼──┤ X ├\n",
              "     └───┘┌─┴─┐               ┌─┴─┐└───┘\n",
              "y_3: ──■──┤ X ├───────────────┤ X ├──■──\n",
              "     ┌─┴─┐└───┘               └───┘┌─┴─┐\n",
              "y_4: ┤ X ├─────────────────────────┤ X ├\n",
              "     └───┘                         └───┘</pre>"
            ],
            "text/plain": [
              "                                        \n",
              "  x: ─────────────────■─────────────────\n",
              "                    ┌─┴─┐               \n",
              "y_0: ────────────■──┤ X ├──■────────────\n",
              "               ┌─┴─┐└───┘┌─┴─┐          \n",
              "y_1: ──■────■──┤ X ├─────┤ X ├──■────■──\n",
              "     ┌─┴─┐  │  └───┘     └───┘  │  ┌─┴─┐\n",
              "y_2: ┤ X ├──┼───────────────────┼──┤ X ├\n",
              "     └───┘┌─┴─┐               ┌─┴─┐└───┘\n",
              "y_3: ──■──┤ X ├───────────────┤ X ├──■──\n",
              "     ┌─┴─┐└───┘               └───┘┌─┴─┐\n",
              "y_4: ┤ X ├─────────────────────────┤ X ├\n",
              "     └───┘                         └───┘"
            ]
          },
          "execution_count": 5,
          "metadata": {},
          "output_type": "execute_result"
        }
      ],
      "source": [
        "FanOut(5).draw()"
      ]
    },
    {
      "cell_type": "code",
      "execution_count": 6,
      "id": "cd56ec98",
      "metadata": {
        "id": "cd56ec98",
        "metadata": {}
      },
      "outputs": [],
      "source": [
        "def PhaserOracle(QuadraticForm: list[list[int]], digits: int):\n",
        "\n",
        "    # misc definitions\n",
        "    b = int(np.floor(np.log2(digits)))\n",
        "    jumps = 1 << np.arange(b)\n",
        "    bits = (digits >> np.arange(b))%2\n",
        "\n",
        "    # we often need these values\n",
        "    PiOverPowerOfTwo = np.pi / (1 << np.arange(max(QuadraticForm.shape[0], digits)))\n",
        "\n",
        "    QRegX = QuantumRegister(QuadraticForm.shape[0], \"x\") # quantum registers for the bit configurations\n",
        "    QRegY = AncillaRegister(digits, \"y\") # quantum registers to digitize values\n",
        "\n",
        "    QC = QuantumCircuit(QRegX, QRegY, name=f\"phaser\")\n",
        "\n",
        "    for idx, q in enumerate(QRegX):\n",
        "\n",
        "        for jump in jumps:\n",
        "            for i in range(digits - 2 * jump, - 1, - 2 * jump):\n",
        "                QC.cx(QRegY[i], QRegY[i + jump])\n",
        "\n",
        "        for i in np.where(bits)[0]:\n",
        "            QC.cx(QRegY[0], QRegY[np.sum(1 << bits[:i + 1]) - 1])\n",
        "\n",
        "        QC.cx(q, QRegY[0])\n",
        "\n",
        "        for i in reversed(np.where(bits)[0]):\n",
        "            QC.cx(QRegY[0], QRegY[np.sum(1 << bits[:i + 1]) - 1])\n",
        "\n",
        "        for jump in reversed(jumps):\n",
        "            for i in range(digits - 2 * jump, - 1, - 2 * jump):\n",
        "                QC.cx(QRegY[i], QRegY[i + jump])\n",
        "\n",
        "        qi = np.sum(QuadraticForm[idx]) / 2\n",
        "        if qi != 0:\n",
        "            for jdx, p in enumerate(reversed(QRegY)):\n",
        "                QC.p(qi * PiOverPowerOfTwo[jdx], p)\n",
        "        for kdx, r in enumerate(QRegX[idx + 1:]):\n",
        "            Qij = QuadraticForm[idx, idx + 1 + kdx] / 2\n",
        "            if Qij != 0:\n",
        "                for jump in jumps:\n",
        "                    for i in range(digits - 2 * jump, - 1, - 2 * jump):\n",
        "                        QC.cx(QRegY[i], QRegY[i + jump])\n",
        "\n",
        "                for i in np.where(bits)[0]:\n",
        "                    QC.cx(QRegY[0], QRegY[np.sum(1 << bits[:i + 1]) - 1])\n",
        "\n",
        "                QC.cx(r, QRegY[0])\n",
        "\n",
        "                for i in reversed(np.where(bits)[0]):\n",
        "                    QC.cx(QRegY[0], QRegY[np.sum(1 << bits[:i + 1]) - 1])\n",
        "\n",
        "                for jump in reversed(jumps):\n",
        "                    for i in range(digits - 2 * jump, - 1, - 2 * jump):\n",
        "                        QC.cx(QRegY[i], QRegY[i + jump])\n",
        "\n",
        "                for jdx, p in enumerate(reversed(QRegY)):\n",
        "                    QC.p(- Qij * PiOverPowerOfTwo[jdx], p)\n",
        "\n",
        "                for jump in jumps:\n",
        "                    for i in range(digits - 2 * jump, - 1, - 2 * jump):\n",
        "                        QC.cx(QRegY[i], QRegY[i + jump])\n",
        "\n",
        "                for i in np.where(bits)[0]:\n",
        "                    QC.cx(QRegY[0], QRegY[np.sum(1 << bits[:i + 1]) - 1])\n",
        "\n",
        "                QC.cx(r, QRegY[0])\n",
        "\n",
        "                for i in reversed(np.where(bits)[0]):\n",
        "                    QC.cx(QRegY[0], QRegY[np.sum(1 << bits[:i + 1]) - 1])\n",
        "\n",
        "                for jump in reversed(jumps):\n",
        "                    for i in range(digits - 2 * jump, - 1, - 2 * jump):\n",
        "                        QC.cx(QRegY[i], QRegY[i + jump])\n",
        "\n",
        "        for jump in jumps:\n",
        "            for i in range(digits - 2 * jump, - 1, - 2 * jump):\n",
        "                QC.cx(QRegY[i], QRegY[i + jump])\n",
        "\n",
        "        for i in np.where(bits)[0]:\n",
        "            QC.cx(QRegY[0], QRegY[np.sum(1 << bits[:i + 1]) - 1])\n",
        "\n",
        "        QC.cx(q, QRegY[0])\n",
        "\n",
        "        for i in reversed(np.where(bits)[0]):\n",
        "            QC.cx(QRegY[0], QRegY[np.sum(1 << bits[:i + 1]) - 1])\n",
        "\n",
        "        for jump in reversed(jumps):\n",
        "            for i in range(digits - 2 * jump, - 1, - 2 * jump):\n",
        "                QC.cx(QRegY[i], QRegY[i + jump])\n",
        "\n",
        "    return QC"
      ]
    },
    {
      "cell_type": "markdown",
      "id": "993346e4",
      "metadata": {
        "id": "993346e4"
      },
      "source": [
        "# Grover Fixed Point Search for integer Quadratic Binary Optimization problems (minimal number of ancillas)"
      ]
    },
    {
      "cell_type": "code",
      "execution_count": 7,
      "id": "XK-9F2bGEg0R",
      "metadata": {
        "id": "XK-9F2bGEg0R",
        "metadata": {}
      },
      "outputs": [],
      "source": [
        "def FPGSForQUBO(QuadraticForm: list[list[int]], digits: int, threshold: int, l: int, delta: float):\n",
        "\n",
        "    GroverPhases = 2 * np.arctan(1 / (np.tanh(np.arccosh(1 / delta) / (2 * l + 1)) * np.tan(np.arange(1, l + 1) * 2 * np.pi / (2 * l + 1))))\n",
        "\n",
        "    # we often need these values\n",
        "    PiOverPowerOfTwo = np.pi / (1 << np.arange(max(QuadraticForm.shape[0], digits)))\n",
        "\n",
        "    # circuit preparation\n",
        "    QRegX = QuantumRegister(QuadraticForm.shape[0], \"x\") # quantum registers for the bit configurations\n",
        "    QRegY = AncillaRegister(digits, \"y\") # quantum registers to digitize values\n",
        "\n",
        "    QC = QuantumCircuit(QRegX, QRegY, name=f\"Fixed-point Grover Search Circuit\")\n",
        "\n",
        "    PO = PhaserOracle(QuadraticForm, digits).to_gate()\n",
        "    UPO = PO.inverse()\n",
        "    UPO.label = f\"unphaser\"\n",
        "\n",
        "    # state-preparation\n",
        "    QC.h(QRegX)\n",
        "    # QFT without the SWAPs\n",
        "    for i, q in enumerate(QRegY):\n",
        "        QC.h(q)\n",
        "        for j, r in enumerate(QRegY[i + 1:]):\n",
        "            QC.cp(PiOverPowerOfTwo[j + 1], q, r)\n",
        "\n",
        "    # adding threshold\n",
        "    for idx, q in enumerate(reversed(QRegY)):\n",
        "        QC.p((threshold - 1 - (np.trace(QuadraticForm) + np.sum(QuadraticForm)) / 4) * PiOverPowerOfTwo[idx], q)\n",
        "\n",
        "    # Fixed-point Grover Search bang-bangs\n",
        "    for alpha, beta in zip(GroverPhases, reversed(GroverPhases)):\n",
        "\n",
        "        # S_t (beta)\n",
        "        # subtracting from ancillas\n",
        "        QC.append(PO, QRegX[:] + QRegY[:])\n",
        "\n",
        "        # inverse QFT without the SWAPs\n",
        "        for i, q in enumerate(reversed(QRegY)):\n",
        "            QC.h(q)\n",
        "            for j, r in enumerate(reversed(QRegY[:- i - 1])):\n",
        "                QC.cp(- PiOverPowerOfTwo[j + 1], q, r)\n",
        "\n",
        "        QC.p(beta, QRegY[0])\n",
        "\n",
        "        # QFT without the SWAPs\n",
        "        for i, q in enumerate(QRegY):\n",
        "            QC.h(q)\n",
        "            for j, r in enumerate(QRegY[i + 1:]):\n",
        "                QC.cp(PiOverPowerOfTwo[j + 1], q, r)\n",
        "\n",
        "        # adding back to ancillas\n",
        "        QC.append(UPO, QRegX[:] + QRegY[:])\n",
        "\n",
        "        # S_s (alpha)\n",
        "        QC.h(QRegX)\n",
        "        QC.x(QRegX)\n",
        "        QC.mcp(alpha, QRegX[:- 1], QRegX[- 1])\n",
        "        QC.x(QRegX)\n",
        "        QC.h(QRegX)\n",
        "\n",
        "    return QC"
      ]
    },
    {
      "cell_type": "markdown",
      "id": "7ca40d78",
      "metadata": {
        "id": "7ca40d78"
      },
      "source": [
        "# parameters & testing for MaxCut:"
      ]
    },
    {
      "cell_type": "code",
      "execution_count": 8,
      "id": "xRZEtnNDmGjE",
      "metadata": {
        "colab": {
          "base_uri": "https://localhost:8080/",
          "height": 516
        },
        "id": "xRZEtnNDmGjE",
        "metadata": {},
        "outputId": "d6110ac4-6436-46eb-bed4-c91a254508aa"
      },
      "outputs": [
        {
          "data": {
            "image/png": "[encoded data removed]",
            "text/plain": [
              "<Figure size 640x480 with 1 Axes>"
            ]
          },
          "metadata": {},
          "output_type": "display_data"
        }
      ],
      "source": [
        "# random, connected graph\n",
        "NumberOfVertices, EdgeProbability = 3, 5e-1\n",
        "Graph = nx.erdos_renyi_graph(NumberOfVertices, EdgeProbability)\n",
        "while not nx.is_connected(Graph):\n",
        "    Graph = nx.erdos_renyi_graph(NumberOfVertices, EdgeProbability)\n",
        "nx.draw(Graph, with_labels=False)"
      ]
    },
    {
      "cell_type": "code",
      "execution_count": 9,
      "id": "149f166a",
      "metadata": {
        "id": "149f166a",
        "metadata": {},
        "scrolled": true
      },
      "outputs": [],
      "source": [
        "GraphLaplacian = nx.laplacian_matrix(Graph).toarray()\n",
        "NumberOfEdges = np.trace(GraphLaplacian) // 2\n",
        "threshold = int(np.ceil((2 * NumberOfEdges + NumberOfVertices - 1)/4))\n",
        "digits = int(np.ceil(np.log2(threshold + 1))) + 1 if NumberOfVertices > 2 else 1 # number of ancilla qubits needed to digitize cuts\n",
        "\n",
        "# let's get rid of the vertex with the highest degree; this step is not necessary, but saves one qubit\n",
        "maxdegvertex = np.where(np.diag(GraphLaplacian) == np.max(np.diag(GraphLaplacian)))[0][0]\n",
        "if maxdegvertex + 1 != NumberOfVertices:\n",
        "    GraphLaplacian[[maxdegvertex, -1], :] = GraphLaplacian[[-1, maxdegvertex], :]\n",
        "    GraphLaplacian[:, [maxdegvertex, -1]] = GraphLaplacian[:, [-1, maxdegvertex]]\n",
        "QuadraticForm = GraphLaplacian[np.ix_(np.arange(NumberOfVertices - 1), np.arange(NumberOfVertices - 1))]\n",
        "\n",
        "# classical, brute-force cut-function and MaxCut computation\n",
        "cuts = np.empty(1 << QuadraticForm.shape[0], dtype=int)\n",
        "for x, _ in enumerate(cuts):\n",
        "    conf = (x >> np.arange(QuadraticForm.shape[0]))&1\n",
        "    cuts[x] = np.inner(conf@QuadraticForm, conf)\n",
        "MaxCut = np.max(cuts)\n",
        "\n",
        "# cut statistics\n",
        "RandomChance, Lambda, m, sigma = np.array([np.sum(np.where(cuts == cut, 1, 0)) for cut in range(MaxCut + 1)]) * np.exp2(1 - NumberOfVertices), np.sum(np.where(cuts >= threshold, 1, 0)) * np.exp2(1 - NumberOfVertices), NumberOfEdges / 2, np.std(cuts)"
      ]
    },
    {
      "cell_type": "code",
      "execution_count": 10,
      "id": "LEwbShaA-Kfp",
      "metadata": {
        "colab": {
          "base_uri": "https://localhost:8080/"
        },
        "id": "LEwbShaA-Kfp",
        "metadata": {},
        "outputId": "9f751536-4ec6-402a-ce5d-f04c99b838e3"
      },
      "outputs": [
        {
          "name": "stdout",
          "output_type": "stream",
          "text": [
            "MaxCut\tthreshold\tLambda\ttarget probability\tdelta\tl\tdigits\n",
            "2\t2\t\t0.25\t99.39%\t\t\t0.87\t1\t3\n",
            "\n"
          ]
        }
      ],
      "source": [
        "l = 1\n",
        "delta = GroverParameterOptimizerForComplexity(l, Lambda, 10)\n",
        "TargetProbability = GroverProbability(delta, Lambda)\n",
        "\n",
        "print(f\"MaxCut\\tthreshold\\tLambda\\ttarget probability\\tdelta\\tl\\tdigits\\n{MaxCut}\\t{threshold}\\t\\t{Lambda:.2f}\\t{TargetProbability:.2%}\\t\\t\\t{delta:.2}\\t{l}\\t{digits}\\n\")"
      ]
    },
    {
      "cell_type": "markdown",
      "id": "02eec6db",
      "metadata": {
        "id": "02eec6db"
      },
      "source": [
        "### simulation and evaluation of data:"
      ]
    },
    {
      "cell_type": "code",
      "execution_count": 11,
      "id": "016ec09c",
      "metadata": {
        "colab": {
          "base_uri": "https://localhost:8080/",
          "height": 384
        },
        "id": "016ec09c",
        "metadata": {},
        "outputId": "cfad8f07-763e-40e5-d88e-976111cf1070"
      },
      "outputs": [
        {
          "name": "stdout",
          "output_type": "stream",
          "text": [
            "\n",
            "computation with Grover Fixed-Point Search...\n",
            "\n",
            "done in 0.00 seconds\n",
            "\n"
          ]
        }
      ],
      "source": [
        "print(f\"\\ncomputation with the Grover Fixed-Point Search...\\n\")\n",
        "Start = timer()\n",
        "\n",
        "QC = FPGSForQUBO(QuadraticForm, digits, threshold, l, delta)\n",
        "\n",
        "print(f\"done in {(timer() - Start):.2f} seconds\\n\")"
      ]
    },
    {
      "cell_type": "code",
      "execution_count": 20,
      "id": "CCAUsax1XqDL",
      "metadata": {
        "id": "CCAUsax1XqDL",
        "metadata": {}
      },
      "outputs": [],
      "source": [
        "probabilities = Statevector(QC).probabilities(np.arange(QC.num_qubits - QC.num_ancillas))\n",
        "distribution = np.array([np.sum(np.where(cuts == cut, probabilities, 0)) for cut in range(MaxCut + 1)])\n",
        "SuccessProbability = np.sum(distribution[threshold:])\n",
        "M = np.dot(distribution, np.arange(distribution.shape[0]))\n",
        "var = np.sqrt(np.dot(distribution, np.arange(distribution.shape[0])**2) - M**2)\n",
        "sign_m, sign_sigma = \"+\" if M >= m else \"-\", \"+\" if var >= sigma else \"-\""
      ]
    },
    {
      "cell_type": "code",
      "execution_count": 21,
      "id": "-tdL3ftb-IUz",
      "metadata": {
        "colab": {
          "base_uri": "https://localhost:8080/"
        },
        "id": "-tdL3ftb-IUz",
        "metadata": {},
        "outputId": "55302c3f-06f6-4f51-8e7f-b8495fb1df67"
      },
      "outputs": [
        {
          "name": "stdout",
          "output_type": "stream",
          "text": [
            "\n",
            "the graph:\n",
            "----------\n",
            "MaxCut\t\t\t\t= 2\n",
            "number of edges\t\t\t= 2\n",
            "threshold (Erdős-Edwards bound)\t= 2 (100.0% of MaxCut)\n",
            "\n",
            "the graph Laplacian:\n",
            "--------------------\n",
            "\n",
            "[ 1  0 -1]\n",
            "[ 0  1 -1]\n",
            "[-1 -1  2]\n",
            "\n",
            "Grover parameters:\n",
            "------------------\n",
            "Lambda\t\t\t= 0.25\n",
            "delta\t\t\t= 0.87\n",
            "query complexity\t= 1\n",
            "\n",
            "results with Grover:\n",
            "--------------------\n",
            "\n",
            "success probability\t= 99.4% (theoretical value = 99.4%, random chance = 25.0%)\n",
            "expectation\t\t= 2.0\t(1.0 + 1.0)\n",
            "variance\t\t= 0.1\t(0.7 - 0.6)\n",
            "\n",
            "\n"
          ]
        }
      ],
      "source": [
        "ss = StringIO(f\"\")\n",
        "ss.write(f\"\\nthe graph:\\n----------\\nMaxCut\\t\\t\\t\\t= {MaxCut}\\nnumber of edges\\t\\t\\t= {NumberOfEdges}\\n\")\n",
        "ss.write(f\"threshold (Erdős-Edwards bound)\\t= {threshold} ({threshold/MaxCut:.1%} of MaxCut)\")\n",
        "ss.write(f\"\\n\\nthe graph Laplacian:\\n--------------------\\n\\n\" + f\"\".join([f\"{row.view()}\\n\" for row in GraphLaplacian]))\n",
        "ss.write(f\"\\nGrover parameters:\\n------------------\\nLambda\\t\\t\\t= {Lambda:.2f}\\ndelta\\t\\t\\t= {delta:.2f}\")\n",
        "ss.write(f\"\\nquery complexity\\t= {l}\\n\\nresults with Grover:\\n--------------------\\n\\n\")\n",
        "ss.write(f\"success probability\\t= {SuccessProbability:.1%} (theoretical value = {TargetProbability:.1%}, random chance = {Lambda:.1%})\\n\")\n",
        "ss.write(f\"expectation\\t\\t= {M:.1f}\\t({m} {sign_m} {abs(M - m):.1f})\\n\")\n",
        "ss.write(f\"variance\\t\\t= {var:.1f}\\t({sigma:.1f} {sign_sigma} {abs(var - sigma):.1f})\\n\\n\")\n",
        "#ss.write(f\"CNOT count\\t\\t= {QC.count_ops()['cx']}\\ncircuit depth\\t\\t= {QC.depth()}\") # since we're using complex, built-in gates, like MCP, this is meaningless right now\n",
        "print(ss.getvalue())"
      ]
    },
    {
      "cell_type": "code",
      "execution_count": 22,
      "id": "ZIXBoQB_3z82",
      "metadata": {
        "colab": {
          "base_uri": "https://localhost:8080/",
          "height": 465
        },
        "id": "ZIXBoQB_3z82",
        "metadata": {},
        "outputId": "d0090aa5-922e-47e9-9603-358f9c289a94"
      },
      "outputs": [
        {
          "data": {
            "image/png": "[encoded data removed]",
            "text/plain": [
              "<Figure size 1500x500 with 3 Axes>"
            ]
          },
          "metadata": {},
          "output_type": "display_data"
        }
      ],
      "source": [
        "fig, axs = plt.subplots(nrows=1, ncols=3, sharey=True, figsize=(15, 5))\n",
        "\n",
        "axs[0].bar(np.arange(RandomChance.shape[0]),\n",
        "           RandomChance,\n",
        "           width=0.5,\n",
        "           color=\"red\")\n",
        "axs[0].set(xlabel=f\"cuts before Grover\",\n",
        "           ylabel=f\"probabilities\")\n",
        "axs[0].axvline(x = threshold - 1/2,\n",
        "               linewidth=0.75,\n",
        "               color=\"black\")\n",
        "\n",
        "axs[1].bar(np.arange(distribution.shape[0]),\n",
        "           distribution,\n",
        "           width=0.5,\n",
        "           color=\"green\")\n",
        "axs[1].set(xlabel=f\"cuts after Grover\")\n",
        "axs[1].axvline(x = threshold - 1/2,\n",
        "               linewidth=0.75,\n",
        "               color=\"black\")\n",
        "\n",
        "axs[2].bar(np.arange(distribution.shape[0]),\n",
        "           distribution - RandomChance,\n",
        "           width=0.5,\n",
        "           color=\"midnightblue\")\n",
        "axs[2].set(xlabel=f\"difference\")\n",
        "axs[2].axvline(x = threshold - 1/2,\n",
        "               linewidth=0.75,\n",
        "               color=\"black\",\n",
        "               label=f\"Erdős–Edwards bound\")\n",
        "\n",
        "plt.legend(bbox_to_anchor = (1.0, 1), loc = \"upper left\")\n",
        "\n",
        "plt.show()"
      ]
    },
    {
      "cell_type": "markdown",
      "id": "_XfO5ZlX8MF0",
      "metadata": {
        "id": "_XfO5ZlX8MF0"
      },
      "source": [
        "# Grover Fixed Point Search for integer Quadratic Binary Optimization problems (maximal number of ancillas)"
      ]
    },
    {
      "cell_type": "code",
      "execution_count": 15,
      "id": "d1f2eda8",
      "metadata": {
        "id": "d1f2eda8",
        "metadata": {}
      },
      "outputs": [],
      "source": [
        "def ExtendedPhaserOracle(QuadraticForm: list[list[int]], digits: int):\n",
        "\n",
        "    # we often need these values\n",
        "    PiOverPowerOfTwo = np.pi / (1 << np.arange(max(QuadraticForm.shape[0], digits + 1)))\n",
        "\n",
        "    n = QuadraticForm.shape[0]\n",
        "    m = (n**2 + n) // 2 + 1\n",
        "\n",
        "    Phases = np.zeros(m)\n",
        "    Phases[0] = (threshold - 1 - (np.trace(QuadraticForm) + np.sum(QuadraticForm)) / 4)\n",
        "    loc = 1\n",
        "    for idx, row in enumerate(QuadraticForm):\n",
        "        Phases[loc], Phases[loc + 1:loc + n - idx] = np.sum(row), - row[idx + 1:]\n",
        "        loc += n - idx\n",
        "\n",
        "    # circuit preparation\n",
        "    QRegX = QuantumRegister(QuadraticForm.shape[0], \"x\") # quantum registers for the bit configurations\n",
        "    QRegY = AncillaRegister(m * digits, \"y\") # quantum registers to digitize values\n",
        "\n",
        "    QC = QuantumCircuit(QRegX, QRegY, name=f\"Fixed-point Grover Search Circuit\")\n",
        "\n",
        "    # state-preparation\n",
        "    FOm = FanOut(m - 1).to_gate()\n",
        "    for idx, q in enumerate(QRegY[:digits]):\n",
        "        QC.append(FOm, [q] + QRegY[idx + digits::digits])\n",
        "    # this part could be a bit more balanced on the data qubits, but it's still optimal in the big-O sense\n",
        "    end = digits\n",
        "    for idx, q in enumerate(QRegX):\n",
        "        start = end\n",
        "        end += (n - idx) * digits\n",
        "        FO = FanOut(end - start).to_gate()\n",
        "        QC.append(FO, [q] + QRegY[start:end])\n",
        "\n",
        "    # adding phases\n",
        "    for idx, phase in enumerate(Phases):\n",
        "        for jdx, q in enumerate(reversed(QRegY[idx * digits:(idx + 1) * digits])):\n",
        "            QC.p(phase * PiOverPowerOfTwo[jdx], q)\n",
        "\n",
        "    # fan-outs are idempotent and commute with phases, so the same instructions work\n",
        "    end = digits\n",
        "    for idx, q in enumerate(QRegX):\n",
        "        start = end\n",
        "        end += (n - idx) * digits\n",
        "        FO = FanOut(end - start).to_gate()\n",
        "        QC.append(FO, [q] + QRegY[start:end])\n",
        "\n",
        "    for idx, q in enumerate(QRegY[:digits]):\n",
        "        QC.append(FOm, [q] + QRegY[idx + digits::digits])\n",
        "\n",
        "    return QC"
      ]
    },
    {
      "cell_type": "code",
      "execution_count": 18,
      "id": "CfEKYtiHTydA",
      "metadata": {
        "id": "CfEKYtiHTydA",
        "metadata": {}
      },
      "outputs": [],
      "source": [
        "def ExtendedFPGSForQUBO(QuadraticForm: list[list[int]], digits: int, threshold: int, l: int, delta: float):\n",
        "\n",
        "    GroverPhases = 2 * np.arctan(1 / (np.tanh(np.arccosh(1 / delta) / (2 * l + 1)) * np.tan(np.arange(1, l + 1) * 2 * np.pi / (2 * l + 1))))\n",
        "\n",
        "    n = QuadraticForm.shape[0]\n",
        "    m = (n**2 + n) // 2 + 1\n",
        "\n",
        "    # circuit preparation\n",
        "    QRegX = QuantumRegister(QuadraticForm.shape[0], \"x\") # quantum registers for the bit configurations\n",
        "    QRegY = AncillaRegister(m * digits, \"y\") # quantum registers to digitize values\n",
        "\n",
        "    QC = QuantumCircuit(QRegX, QRegY, name=f\"Extended Fixed-point Grover Search Circuit\")\n",
        "\n",
        "    PO = ExtendedPhaserOracle(QuadraticForm, digits).to_gate()\n",
        "    UPO = PO.inverse()\n",
        "    UPO.label = f\"unphaser\"\n",
        "\n",
        "    # we often need these values\n",
        "    PiOverPowerOfTwo = np.pi / (1 << np.arange(max(n, digits + 1)))\n",
        "\n",
        "    # state-preparation\n",
        "    QC.h(QRegX)\n",
        "    # QFT without the SWAPs\n",
        "    for i, q in enumerate(QRegY[:digits]):\n",
        "        QC.h(q)\n",
        "        for j, r in enumerate(QRegY[i + 1:digits]):\n",
        "            QC.cp(PiOverPowerOfTwo[j + 1], q, r)\n",
        "\n",
        "    # Fixed-point Grover Search bang-bangs\n",
        "    for alpha, beta in zip(GroverPhases, reversed(GroverPhases)):\n",
        "\n",
        "        # S_t (beta)\n",
        "        # subtracting from ancillas\n",
        "        QC.append(PO, QRegX[:] + QRegY[:])\n",
        "\n",
        "        # inverse QFT without the SWAPs\n",
        "        for i, q in enumerate(reversed(QRegY[:digits])):\n",
        "            QC.h(q)\n",
        "            for j, r in enumerate(reversed(QRegY[:digits - 1 - i])):\n",
        "                QC.cp(- PiOverPowerOfTwo[j + 1], q, r)\n",
        "\n",
        "        QC.p(beta, QRegY[0])\n",
        "\n",
        "        # QFT without the SWAPs\n",
        "        for i, q in enumerate(QRegY[:digits]):\n",
        "            QC.h(q)\n",
        "            for j, r in enumerate(QRegY[i + 1:digits]):\n",
        "                QC.cp(PiOverPowerOfTwo[j + 1], q, r)\n",
        "\n",
        "        # adding back to ancillas\n",
        "        QC.append(UPO, QRegX[:] + QRegY[:])\n",
        "\n",
        "        # S_s (alpha)\n",
        "        QC.h(QRegX)\n",
        "        QC.x(QRegX)\n",
        "        QC.mcp(alpha, QRegX[:- 1], QRegX[- 1])\n",
        "        QC.x(QRegX)\n",
        "        QC.h(QRegX)\n",
        "\n",
        "    return QC"
      ]
    },
    {
      "cell_type": "code",
      "execution_count": 19,
      "id": "HD87lpLDWTg0",
      "metadata": {
        "colab": {
          "base_uri": "https://localhost:8080/"
        },
        "id": "HD87lpLDWTg0",
        "metadata": {},
        "outputId": "57fd1ba1-daa0-4255-d406-c2159895ab43"
      },
      "outputs": [
        {
          "name": "stdout",
          "output_type": "stream",
          "text": [
            "\n",
            "computation with Grover Fixed-Point Search...\n",
            "\n",
            "done in 0.00 seconds\n",
            "\n"
          ]
        }
      ],
      "source": [
        "print(f\"\\ncomputation with the Extended Grover Fixed-Point Search...\\n\")\n",
        "Start = timer()\n",
        "\n",
        "#QC = FPGSForQUBO(QuadraticForm, digits, threshold, l, delta)\n",
        "QC = ExtendedFPGSForQUBO(QuadraticForm, digits, threshold, l, delta)\n",
        "\n",
        "print(f\"done in {(timer() - Start):.2f} seconds\\n\")"
      ]
    },
    {
      "cell_type": "code",
      "execution_count": 23,
      "id": "0d7LzF0FbWtJ",
      "metadata": {
        "id": "0d7LzF0FbWtJ",
        "metadata": {}
      },
      "outputs": [],
      "source": [
        "probabilities = Statevector(QC).probabilities(np.arange(QC.num_qubits - QC.num_ancillas))\n",
        "distribution = np.array([np.sum(np.where(cuts == cut, probabilities, 0)) for cut in range(MaxCut + 1)])\n",
        "SuccessProbability = np.sum(distribution[threshold:])\n",
        "M = np.dot(distribution, np.arange(distribution.shape[0]))\n",
        "var = np.sqrt(np.dot(distribution, np.arange(distribution.shape[0])**2) - M**2)\n",
        "sign_m, sign_sigma = \"+\" if M >= m else \"-\", \"+\" if var >= sigma else \"-\""
      ]
    },
    {
      "cell_type": "code",
      "execution_count": 24,
      "id": "a94c9bfc",
      "metadata": {
        "metadata": {}
      },
      "outputs": [
        {
          "name": "stdout",
          "output_type": "stream",
          "text": [
            "\n",
            "the graph:\n",
            "----------\n",
            "MaxCut\t\t\t\t= 2\n",
            "number of edges\t\t\t= 2\n",
            "threshold (Erdős-Edwards bound)\t= 2 (100.0% of MaxCut)\n",
            "\n",
            "the graph Laplacian:\n",
            "--------------------\n",
            "\n",
            "[ 1  0 -1]\n",
            "[ 0  1 -1]\n",
            "[-1 -1  2]\n",
            "\n",
            "Grover parameters:\n",
            "------------------\n",
            "Lambda\t\t\t= 0.25\n",
            "delta\t\t\t= 0.87\n",
            "query complexity\t= 1\n",
            "\n",
            "results with Grover:\n",
            "--------------------\n",
            "\n",
            "success probability\t= 99.4% (theoretical value = 99.4%, random chance = 25.0%)\n",
            "expectation\t\t= 2.0\t(1.0 + 1.0)\n",
            "variance\t\t= 0.1\t(0.7 - 0.6)\n",
            "\n",
            "\n"
          ]
        }
      ],
      "source": [
        "ss = StringIO(f\"\")\n",
        "ss.write(f\"\\nthe graph:\\n----------\\nMaxCut\\t\\t\\t\\t= {MaxCut}\\nnumber of edges\\t\\t\\t= {NumberOfEdges}\\n\")\n",
        "ss.write(f\"threshold (Erdős-Edwards bound)\\t= {threshold} ({threshold/MaxCut:.1%} of MaxCut)\")\n",
        "ss.write(f\"\\n\\nthe graph Laplacian:\\n--------------------\\n\\n\" + f\"\".join([f\"{row.view()}\\n\" for row in GraphLaplacian]))\n",
        "ss.write(f\"\\nGrover parameters:\\n------------------\\nLambda\\t\\t\\t= {Lambda:.2f}\\ndelta\\t\\t\\t= {delta:.2f}\")\n",
        "ss.write(f\"\\nquery complexity\\t= {l}\\n\\nresults with Grover:\\n--------------------\\n\\n\")\n",
        "ss.write(f\"success probability\\t= {SuccessProbability:.1%} (theoretical value = {TargetProbability:.1%}, random chance = {Lambda:.1%})\\n\")\n",
        "ss.write(f\"expectation\\t\\t= {M:.1f}\\t({m} {sign_m} {abs(M - m):.1f})\\n\")\n",
        "ss.write(f\"variance\\t\\t= {var:.1f}\\t({sigma:.1f} {sign_sigma} {abs(var - sigma):.1f})\\n\\n\")\n",
        "#ss.write(f\"CNOT count\\t\\t= {QC.count_ops()['cx']}\\ncircuit depth\\t\\t= {QC.depth()}\") # since we're using complex, built-in gates, like MCP, this is meaningless right now\n",
        "print(ss.getvalue())"
      ]
    },
    {
      "cell_type": "code",
      "execution_count": 25,
      "id": "072f4c37",
      "metadata": {
        "metadata": {}
      },
      "outputs": [
        {
          "data": {
            "image/png": "[encoded data removed]",
            "text/plain": [
              "<Figure size 1500x500 with 3 Axes>"
            ]
          },
          "metadata": {},
          "output_type": "display_data"
        }
      ],
      "source": [
        "fig, axs = plt.subplots(nrows=1, ncols=3, sharey=True, figsize=(15, 5))\n",
        "\n",
        "axs[0].bar(np.arange(RandomChance.shape[0]),\n",
        "           RandomChance,\n",
        "           width=0.5,\n",
        "           color=\"red\")\n",
        "axs[0].set(xlabel=f\"cuts before Grover\",\n",
        "           ylabel=f\"probabilities\")\n",
        "axs[0].axvline(x = threshold - 1/2,\n",
        "               linewidth=0.75,\n",
        "               color=\"black\")\n",
        "\n",
        "axs[1].bar(np.arange(distribution.shape[0]),\n",
        "           distribution,\n",
        "           width=0.5,\n",
        "           color=\"green\")\n",
        "axs[1].set(xlabel=f\"cuts after Grover\")\n",
        "axs[1].axvline(x = threshold - 1/2,\n",
        "               linewidth=0.75,\n",
        "               color=\"black\")\n",
        "\n",
        "axs[2].bar(np.arange(distribution.shape[0]),\n",
        "           distribution - RandomChance,\n",
        "           width=0.5,\n",
        "           color=\"midnightblue\")\n",
        "axs[2].set(xlabel=f\"difference\")\n",
        "axs[2].axvline(x = threshold - 1/2,\n",
        "               linewidth=0.75,\n",
        "               color=\"black\",\n",
        "               label=f\"Erdős–Edwards bound\")\n",
        "\n",
        "plt.legend(bbox_to_anchor = (1.0, 1), loc = \"upper left\")\n",
        "\n",
        "plt.show()"
      ]
    },
    {
      "cell_type": "code",
      "execution_count": 27,
      "id": "59ab4b96",
      "metadata": {
        "metadata": {}
      },
      "outputs": [
        {
          "data": {
            "text/html": [
              "<pre style=\"word-wrap: normal;white-space: pre;background: #fff0;line-height: 1.1;font-family: &quot;Courier New&quot;,Courier,monospace\">                                          ┌──────────┐                      »\n",
              " x_0: ────────────────────────────────────┤0         ├──────────────────────»\n",
              "                                          │          │┌──────────┐          »\n",
              " x_1: ────────────────────────────────────┤          ├┤0         ├──────────»\n",
              "      ┌──────────┐  ┌──────┐              │          ││          │          »\n",
              " y_0: ┤0         ├──┤ P(0) ├──────────────┤          ├┤          ├──────────»\n",
              "      │          │┌─┴──────┴─┐  ┌──────┐  │          ││          │          »\n",
              " y_1: ┤          ├┤0         ├──┤ P(0) ├──┤          ├┤          ├──────────»\n",
              "      │          ││          │┌─┴──────┴─┐│          ││          │ ┌──────┐ »\n",
              " y_2: ┤          ├┤          ├┤0         ├┤          ├┤          ├─┤ P(0) ├─»\n",
              "      │          ││          ││          ││          ││          │┌┴──────┴┐»\n",
              " y_3: ┤1         ├┤          ├┤          ├┤1 fan-out ├┤          ├┤ P(π/4) ├»\n",
              "      │          ││          ││          ││          ││          │├────────┤»\n",
              " y_4: ┤          ├┤1         ├┤          ├┤2         ├┤          ├┤ P(π/2) ├»\n",
              "      │  fan-out ││          ││          ││          ││          │└┬──────┬┘»\n",
              " y_5: ┤          ├┤          ├┤1         ├┤3         ├┤  fan-out ├─┤ P(π) ├─»\n",
              "      │          ││  fan-out ││          ││          ││          │ ├──────┤ »\n",
              " y_6: ┤2         ├┤          ├┤          ├┤4         ├┤          ├─┤ P(0) ├─»\n",
              "      │          ││          ││  fan-out ││          ││          │ ├──────┤ »\n",
              " y_7: ┤          ├┤2         ├┤          ├┤5         ├┤          ├─┤ P(0) ├─»\n",
              "      │          ││          ││          ││          ││          │ ├──────┤ »\n",
              " y_8: ┤          ├┤          ├┤2         ├┤6         ├┤          ├─┤ P(0) ├─»\n",
              "      │          ││          ││          │└──────────┘│          │┌┴──────┴┐»\n",
              " y_9: ┤3         ├┤          ├┤          ├────────────┤1         ├┤ P(π/4) ├»\n",
              "      └──────────┘│          ││          │            │          │├────────┤»\n",
              "y_10: ────────────┤3         ├┤          ├────────────┤2         ├┤ P(π/2) ├»\n",
              "                  └──────────┘│          │            │          │└┬──────┬┘»\n",
              "y_11: ────────────────────────┤3         ├────────────┤3         ├─┤ P(π) ├─»\n",
              "                              └──────────┘            └──────────┘ └──────┘ »\n",
              "«      ┌──────────┐                                                \n",
              "« x_0: ┤0         ├────────────────────────────────────────────────\n",
              "«      │          │┌──────────┐                                    \n",
              "« x_1: ┤          ├┤0         ├────────────────────────────────────\n",
              "«      │          ││          │┌──────────┐                        \n",
              "« y_0: ┤          ├┤          ├┤0         ├────────────────────────\n",
              "«      │          ││          ││          │┌──────────┐            \n",
              "« y_1: ┤          ├┤          ├┤          ├┤0         ├────────────\n",
              "«      │          ││          ││          ││          │┌──────────┐\n",
              "« y_2: ┤          ├┤          ├┤          ├┤          ├┤0         ├\n",
              "«      │          ││          ││          ││          ││          │\n",
              "« y_3: ┤1 fan-out ├┤          ├┤1         ├┤          ├┤          ├\n",
              "«      │          ││          ││          ││          ││          │\n",
              "« y_4: ┤2         ├┤          ├┤          ├┤1         ├┤          ├\n",
              "«      │          ││          ││  fan-out ││          ││          │\n",
              "« y_5: ┤3         ├┤  fan-out ├┤          ├┤          ├┤1         ├\n",
              "«      │          ││          ││          ││  fan-out ││          │\n",
              "« y_6: ┤4         ├┤          ├┤2         ├┤          ├┤          ├\n",
              "«      │          ││          ││          ││          ││  fan-out │\n",
              "« y_7: ┤5         ├┤          ├┤          ├┤2         ├┤          ├\n",
              "«      │          ││          ││          ││          ││          │\n",
              "« y_8: ┤6         ├┤          ├┤          ├┤          ├┤2         ├\n",
              "«      └──────────┘│          ││          ││          ││          │\n",
              "« y_9: ────────────┤1         ├┤3         ├┤          ├┤          ├\n",
              "«                  │          │└──────────┘│          ││          │\n",
              "«y_10: ────────────┤2         ├────────────┤3         ├┤          ├\n",
              "«                  │          │            └──────────┘│          │\n",
              "«y_11: ────────────┤3         ├────────────────────────┤3         ├\n",
              "«                  └──────────┘                        └──────────┘</pre>"
            ],
            "text/plain": [
              "                                          ┌──────────┐                      »\n",
              " x_0: ────────────────────────────────────┤0         ├──────────────────────»\n",
              "                                          │          │┌──────────┐          »\n",
              " x_1: ────────────────────────────────────┤          ├┤0         ├──────────»\n",
              "      ┌──────────┐  ┌──────┐              │          ││          │          »\n",
              " y_0: ┤0         ├──┤ P(0) ├──────────────┤          ├┤          ├──────────»\n",
              "      │          │┌─┴──────┴─┐  ┌──────┐  │          ││          │          »\n",
              " y_1: ┤          ├┤0         ├──┤ P(0) ├──┤          ├┤          ├──────────»\n",
              "      │          ││          │┌─┴──────┴─┐│          ││          │ ┌──────┐ »\n",
              " y_2: ┤          ├┤          ├┤0         ├┤          ├┤          ├─┤ P(0) ├─»\n",
              "      │          ││          ││          ││          ││          │┌┴──────┴┐»\n",
              " y_3: ┤1         ├┤          ├┤          ├┤1 fan-out ├┤          ├┤ P(π/4) ├»\n",
              "      │          ││          ││          ││          ││          │├────────┤»\n",
              " y_4: ┤          ├┤1         ├┤          ├┤2         ├┤          ├┤ P(π/2) ├»\n",
              "      │  fan-out ││          ││          ││          ││          │└┬──────┬┘»\n",
              " y_5: ┤          ├┤          ├┤1         ├┤3         ├┤  fan-out ├─┤ P(π) ├─»\n",
              "      │          ││  fan-out ││          ││          ││          │ ├──────┤ »\n",
              " y_6: ┤2         ├┤          ├┤          ├┤4         ├┤          ├─┤ P(0) ├─»\n",
              "      │          ││          ││  fan-out ││          ││          │ ├──────┤ »\n",
              " y_7: ┤          ├┤2         ├┤          ├┤5         ├┤          ├─┤ P(0) ├─»\n",
              "      │          ││          ││          ││          ││          │ ├──────┤ »\n",
              " y_8: ┤          ├┤          ├┤2         ├┤6         ├┤          ├─┤ P(0) ├─»\n",
              "      │          ││          ││          │└──────────┘│          │┌┴──────┴┐»\n",
              " y_9: ┤3         ├┤          ├┤          ├────────────┤1         ├┤ P(π/4) ├»\n",
              "      └──────────┘│          ││          │            │          │├────────┤»\n",
              "y_10: ────────────┤3         ├┤          ├────────────┤2         ├┤ P(π/2) ├»\n",
              "                  └──────────┘│          │            │          │└┬──────┬┘»\n",
              "y_11: ────────────────────────┤3         ├────────────┤3         ├─┤ P(π) ├─»\n",
              "                              └──────────┘            └──────────┘ └──────┘ »\n",
              "«      ┌──────────┐                                                \n",
              "« x_0: ┤0         ├────────────────────────────────────────────────\n",
              "«      │          │┌──────────┐                                    \n",
              "« x_1: ┤          ├┤0         ├────────────────────────────────────\n",
              "«      │          ││          │┌──────────┐                        \n",
              "« y_0: ┤          ├┤          ├┤0         ├────────────────────────\n",
              "«      │          ││          ││          │┌──────────┐            \n",
              "« y_1: ┤          ├┤          ├┤          ├┤0         ├────────────\n",
              "«      │          ││          ││          ││          │┌──────────┐\n",
              "« y_2: ┤          ├┤          ├┤          ├┤          ├┤0         ├\n",
              "«      │          ││          ││          ││          ││          │\n",
              "« y_3: ┤1 fan-out ├┤          ├┤1         ├┤          ├┤          ├\n",
              "«      │          ││          ││          ││          ││          │\n",
              "« y_4: ┤2         ├┤          ├┤          ├┤1         ├┤          ├\n",
              "«      │          ││          ││  fan-out ││          ││          │\n",
              "« y_5: ┤3         ├┤  fan-out ├┤          ├┤          ├┤1         ├\n",
              "«      │          ││          ││          ││  fan-out ││          │\n",
              "« y_6: ┤4         ├┤          ├┤2         ├┤          ├┤          ├\n",
              "«      │          ││          ││          ││          ││  fan-out │\n",
              "« y_7: ┤5         ├┤          ├┤          ├┤2         ├┤          ├\n",
              "«      │          ││          ││          ││          ││          │\n",
              "« y_8: ┤6         ├┤          ├┤          ├┤          ├┤2         ├\n",
              "«      └──────────┘│          ││          ││          ││          │\n",
              "« y_9: ────────────┤1         ├┤3         ├┤          ├┤          ├\n",
              "«                  │          │└──────────┘│          ││          │\n",
              "«y_10: ────────────┤2         ├────────────┤3         ├┤          ├\n",
              "«                  │          │            └──────────┘│          │\n",
              "«y_11: ────────────┤3         ├────────────────────────┤3         ├\n",
              "«                  └──────────┘                        └──────────┘"
            ]
          },
          "execution_count": 27,
          "metadata": {},
          "output_type": "execute_result"
        }
      ],
      "source": [
        "ExtendedPhaserOracle(QuadraticForm, digits).draw()"
      ]
    },
    {
      "cell_type": "code",
      "execution_count": null,
      "id": "1610c88f",
      "metadata": {},
      "outputs": [],
      "source": []
    }
  ],
  "metadata": {
    "colab": {
      "collapsed_sections": [
        "FTiJALVtnQIW",
        "IPRVQYBNTx8w",
        "4JOxrrxxqNcT"
      ],
      "provenance": []
    },
    "kernelspec": {
      "display_name": "Python 3 (ipykernel)",
      "language": "python",
      "name": "python3"
    },
    "language_info": {
      "codemirror_mode": {
        "name": "ipython",
        "version": 3
      },
      "file_extension": ".py",
      "mimetype": "text/x-python",
      "name": "python",
      "nbconvert_exporter": "python",
      "pygments_lexer": "ipython3",
      "version": "3.12.3"
    }
  },
  "nbformat": 4,
  "nbformat_minor": 5
}

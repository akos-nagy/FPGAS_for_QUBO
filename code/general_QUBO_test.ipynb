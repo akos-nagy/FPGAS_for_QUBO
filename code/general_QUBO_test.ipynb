{
  "cells": [
    {
      "cell_type": "markdown",
      "id": "THzaoqHo13RE",
      "metadata": {
        "id": "THzaoqHo13RE"
      },
      "source": [
        "# preparations"
      ]
    },
    {
      "cell_type": "markdown",
      "id": "FTiJALVtnQIW",
      "metadata": {
        "id": "FTiJALVtnQIW"
      },
      "source": [
        "## install Qiskit"
      ]
    },
    {
      "cell_type": "code",
      "execution_count": 2,
      "id": "asSgzYHnnT8E",
      "metadata": {
        "colab": {
          "base_uri": "https://localhost:8080/"
        },
        "id": "asSgzYHnnT8E",
        "outputId": "354f2505-49f4-487d-a97a-eb1db68962d3"
      },
      "outputs": [
        {
          "name": "stdout",
          "output_type": "stream",
          "text": [
            "Requirement already satisfied: qiskit in /home/akos/stuff/akos/lib/python3.11/site-packages (0.44.1)\n",
            "Requirement already satisfied: qiskit_aer in /home/akos/stuff/akos/lib/python3.11/site-packages (0.12.2)\n",
            "Requirement already satisfied: qiskit-terra==0.25.1 in /home/akos/stuff/akos/lib/python3.11/site-packages (from qiskit) (0.25.1)\n",
            "Requirement already satisfied: rustworkx>=0.13.0 in /home/akos/stuff/akos/lib/python3.11/site-packages (from qiskit-terra==0.25.1->qiskit) (0.13.1)\n",
            "Requirement already satisfied: numpy>=1.17 in /home/akos/stuff/akos/lib/python3.11/site-packages (from qiskit-terra==0.25.1->qiskit) (1.23.5)\n",
            "Requirement already satisfied: ply>=3.10 in /home/akos/stuff/akos/lib/python3.11/site-packages (from qiskit-terra==0.25.1->qiskit) (3.11)\n",
            "Requirement already satisfied: psutil>=5 in /home/akos/stuff/akos/lib/python3.11/site-packages (from qiskit-terra==0.25.1->qiskit) (5.9.5)\n",
            "Requirement already satisfied: scipy>=1.5 in /home/akos/stuff/akos/lib/python3.11/site-packages (from qiskit-terra==0.25.1->qiskit) (1.11.2)\n",
            "Requirement already satisfied: sympy>=1.3 in /home/akos/stuff/akos/lib/python3.11/site-packages (from qiskit-terra==0.25.1->qiskit) (1.12)\n",
            "Requirement already satisfied: dill>=0.3 in /home/akos/stuff/akos/lib/python3.11/site-packages (from qiskit-terra==0.25.1->qiskit) (0.3.7)\n",
            "Requirement already satisfied: python-dateutil>=2.8.0 in /home/akos/stuff/akos/lib/python3.11/site-packages (from qiskit-terra==0.25.1->qiskit) (2.8.2)\n",
            "Requirement already satisfied: stevedore>=3.0.0 in /home/akos/stuff/akos/lib/python3.11/site-packages (from qiskit-terra==0.25.1->qiskit) (5.1.0)\n",
            "Requirement already satisfied: symengine<0.10,>=0.9 in /home/akos/stuff/akos/lib/python3.11/site-packages (from qiskit-terra==0.25.1->qiskit) (0.9.2)\n",
            "Requirement already satisfied: six>=1.5 in /home/akos/stuff/akos/lib/python3.11/site-packages (from python-dateutil>=2.8.0->qiskit-terra==0.25.1->qiskit) (1.16.0)\n",
            "Requirement already satisfied: pbr!=2.1.0,>=2.0.0 in /home/akos/stuff/akos/lib/python3.11/site-packages (from stevedore>=3.0.0->qiskit-terra==0.25.1->qiskit) (5.11.1)\n",
            "Requirement already satisfied: mpmath>=0.19 in /home/akos/stuff/akos/lib/python3.11/site-packages (from sympy>=1.3->qiskit-terra==0.25.1->qiskit) (1.3.0)\n",
            "Note: you may need to restart the kernel to use updated packages.\n"
          ]
        }
      ],
      "source": [
        "%pip install qiskit qiskit_aer"
      ]
    },
    {
      "cell_type": "markdown",
      "id": "IPRVQYBNTx8w",
      "metadata": {
        "id": "IPRVQYBNTx8w"
      },
      "source": [
        "## loading necessary libraries"
      ]
    },
    {
      "cell_type": "code",
      "execution_count": 3,
      "id": "dlRKQIAC6D00",
      "metadata": {
        "id": "dlRKQIAC6D00"
      },
      "outputs": [],
      "source": [
        "from qiskit.circuit import QuantumCircuit, QuantumRegister, AncillaRegister, ClassicalRegister, ParameterVector\n",
        "from qiskit.compiler import transpile\n",
        "from qiskit import execute\n",
        "from qiskit_aer import AerSimulator\n",
        "from qiskit_aer.noise import NoiseModel, pauli_error, ReadoutError, thermal_relaxation_error, depolarizing_error\n",
        "from qiskit.quantum_info import Statevector, DensityMatrix, Operator\n",
        "\n",
        "import numpy as np\n",
        "import networkx as nx\n",
        "import matplotlib.pyplot as plt\n",
        "from timeit import default_timer as timer"
      ]
    },
    {
      "cell_type": "markdown",
      "id": "4JOxrrxxqNcT",
      "metadata": {
        "id": "4JOxrrxxqNcT"
      },
      "source": [
        "## Grover parameter optimizers"
      ]
    },
    {
      "cell_type": "code",
      "execution_count": 4,
      "id": "mLZxhHb_0Oyl",
      "metadata": {
        "id": "mLZxhHb_0Oyl"
      },
      "outputs": [],
      "source": [
        "# L, x must be positive\n",
        "def Chebyshev(L:  float, x: float):\n",
        "    return np.cos(L * np.arccos(x)) if x <= 1 else np.cosh(L * np.arccosh(x))\n",
        "\n",
        "# delta, Lambda must be in (0, 1)\n",
        "def GroverQueryComplexity(delta: float, Lambda: float):\n",
        "    return int(np.ceil(np.arccosh(1 / delta) / np.arccosh(1 / np.sqrt(1 - Lambda)))) // 2\n",
        "\n",
        "# Lambda must be in (0, 1)\n",
        "def GroverProbability(delta: float, Lambda: float):\n",
        "    L = 2 * GroverQueryComplexity(delta, Lambda) + 1\n",
        "    return 1 - np.power(delta * Chebyshev(L, Chebyshev(1 / L, 1 / delta) * np.sqrt(1 - Lambda)), 2)\n",
        "\n",
        "# P, Lambda must be in (0, 1), N must be a positive integer\n",
        "def GroverParameterOptimizerForProbability(P: float, Lambda: float, N: int):\n",
        "    step, L, p = np.exp2(- N), 0, 0\n",
        "    done = False\n",
        "    while p < P:\n",
        "        L += 1\n",
        "        d = step\n",
        "        l = GroverQueryComplexity(d, Lambda)\n",
        "        while l > L:\n",
        "            d += step\n",
        "            l = GroverQueryComplexity(d, Lambda)\n",
        "        delta = d\n",
        "        while d < 1:\n",
        "            p_new = GroverProbability(d, Lambda)\n",
        "            if p_new >= p:\n",
        "                p, delta = p_new, d\n",
        "            d += step\n",
        "            l = GroverQueryComplexity(d, Lambda)\n",
        "\n",
        "    return delta"
      ]
    },
    {
      "cell_type": "markdown",
      "id": "9tulSF7bLLvx",
      "metadata": {
        "id": "9tulSF7bLLvx"
      },
      "source": [
        "# test with general QUBO"
      ]
    },
    {
      "cell_type": "code",
      "execution_count": 5,
      "id": "6cF_ZRDpLLa-",
      "metadata": {
        "colab": {
          "base_uri": "https://localhost:8080/"
        },
        "id": "6cF_ZRDpLLa-",
        "outputId": "ce9ece8d-fb67-4ce7-c703-5d9c71d7b69b"
      },
      "outputs": [
        {
          "name": "stdout",
          "output_type": "stream",
          "text": [
            "[[260. -63. -34. -30.  22.  10.   3. -50.  28. -80. -10.]\n",
            " [-63. 102. -25.  42.  45.  89.   9. -80. -74. -68. -20.]\n",
            " [-34. -25. 168.   3. -30.  50. -22.  70. -30.  60.  30.]\n",
            " [-30.  42.   3. 150.  51. -20.  25.  30.  -3.   3.  40.]\n",
            " [ 22.  45. -30.  51.  54. -65. -40.  20. -46.  54. -20.]\n",
            " [ 10.  89.  50. -20. -65.  30. -95.  51.  67. -22. -40.]\n",
            " [  3.   9. -22.  25. -40. -95.  70. -60.  63.  20.  25.]\n",
            " [-50. -80.  70.  30.  20.  51. -60.  50. -81. -59. -40.]\n",
            " [ 28. -74. -30.  -3. -46.  67.  63. -81. 100.   1.  30.]\n",
            " [-80. -68.  60.   3.  54. -22.  20. -59.   1. 120. -10.]\n",
            " [-10. -20.  30.  40. -20. -40.  25. -40.  30. -10.  20.]]\n",
            "[[ -56  -63  -34  -30   22   10    3  -50   28  -80  -10]\n",
            " [   0   43  -25   42   45   89    9  -80  -74  -68  -20]\n",
            " [   0    0 -240    3  -30   50  -22   70  -30   60   30]\n",
            " [   0    0    0 -291   51  -20   25   30   -3    3   40]\n",
            " [   0    0    0    0  -45  -65  -40   20  -46   54  -20]\n",
            " [   0    0    0    0    0  -55  -95   51   67  -22  -40]\n",
            " [   0    0    0    0    0    0    2  -60   63   20   25]\n",
            " [   0    0    0    0    0    0    0  149  -81  -59  -40]\n",
            " [   0    0    0    0    0    0    0    0  -55    1   30]\n",
            " [   0    0    0    0    0    0    0    0    0  -19  -10]\n",
            " [   0    0    0    0    0    0    0    0    0    0   -5]]\n"
          ]
        }
      ],
      "source": [
        "QuadraticForm = np.array([[1.300000000000000044e+00,-6.300000000000000044e-01,-3.400000000000000244e-01,-2.999999999999999889e-01,2.200000000000000011e-01,1.000000000000000056e-01,2.999999999999999889e-02,-5.000000000000000000e-01,2.800000000000000266e-01,-8.000000000000000444e-01,-1.000000000000000056e-01],\n",
        "                [0.000000000000000000e+00,5.100000000000000089e-01,-2.500000000000000000e-01,4.199999999999999845e-01,4.500000000000000111e-01,8.900000000000000133e-01,8.999999999999999667e-02,-8.000000000000000444e-01,-7.399999999999999911e-01,-6.800000000000000488e-01,-2.000000000000000111e-01],\n",
        "                [0.000000000000000000e+00,0.000000000000000000e+00,8.399999999999999689e-01,2.999999999999999889e-02,-2.999999999999999889e-01,5.000000000000000000e-01,-2.200000000000000011e-01,6.999999999999999556e-01,-2.999999999999999889e-01,5.999999999999999778e-01,2.999999999999999889e-01],\n",
        "                [0.000000000000000000e+00,0.000000000000000000e+00,0.000000000000000000e+00,7.500000000000000000e-01,5.100000000000000089e-01,-2.000000000000000111e-01,2.500000000000000000e-01,2.999999999999999889e-01,-2.999999999999999889e-02,2.999999999999999889e-02,4.000000000000000222e-01],\n",
        "                [0.000000000000000000e+00,0.000000000000000000e+00,0.000000000000000000e+00,0.000000000000000000e+00,2.700000000000000178e-01,-6.500000000000000222e-01,-4.000000000000000222e-01,2.000000000000000111e-01,-4.600000000000000200e-01,5.400000000000000355e-01,-2.000000000000000111e-01],\n",
        "                [0.000000000000000000e+00,0.000000000000000000e+00,0.000000000000000000e+00,0.000000000000000000e+00,0.000000000000000000e+00,1.499999999999999944e-01,-9.499999999999999556e-01,5.100000000000000089e-01,6.700000000000000400e-01,-2.200000000000000011e-01,-4.000000000000000222e-01],\n",
        "                [0.000000000000000000e+00,0.000000000000000000e+00,0.000000000000000000e+00,0.000000000000000000e+00,0.000000000000000000e+00,0.000000000000000000e+00,3.499999999999999778e-01,-5.999999999999999778e-01,6.300000000000000044e-01,2.000000000000000111e-01,2.500000000000000000e-01],\n",
        "                [0.000000000000000000e+00,0.000000000000000000e+00,0.000000000000000000e+00,0.000000000000000000e+00,0.000000000000000000e+00,0.000000000000000000e+00,0.000000000000000000e+00,2.500000000000000000e-01,-8.100000000000000533e-01,-5.899999999999999689e-01,-4.000000000000000222e-01],\n",
        "                [0.000000000000000000e+00,0.000000000000000000e+00,0.000000000000000000e+00,0.000000000000000000e+00,0.000000000000000000e+00,0.000000000000000000e+00,0.000000000000000000e+00,0.000000000000000000e+00,5.000000000000000000e-01,1.000000000000000021e-02,2.999999999999999889e-01],\n",
        "                [0.000000000000000000e+00,0.000000000000000000e+00,0.000000000000000000e+00,0.000000000000000000e+00,0.000000000000000000e+00,0.000000000000000000e+00,0.000000000000000000e+00,0.000000000000000000e+00,0.000000000000000000e+00,5.999999999999999778e-01,-1.000000000000000056e-01],\n",
        "                [0.000000000000000000e+00,0.000000000000000000e+00,0.000000000000000000e+00,0.000000000000000000e+00,0.000000000000000000e+00,0.000000000000000000e+00,0.000000000000000000e+00,0.000000000000000000e+00,0.000000000000000000e+00,0.000000000000000000e+00,1.000000000000000056e-01]])\n",
        "QuadraticForm = 100 * (QuadraticForm + QuadraticForm.T)\n",
        "Q = np.matrix(np.array([[- np.sum(row) if i == j else row[j] if j < i else 0 for i, row in enumerate(QuadraticForm)] for j, _ in enumerate(QuadraticForm)]), dtype=int)"
      ]
    },
    {
      "cell_type": "code",
      "execution_count": 6,
      "id": "BCzk9b2iNu45",
      "metadata": {
        "id": "BCzk9b2iNu45"
      },
      "outputs": [],
      "source": [
        "values = np.empty(1 << len(Q), dtype=int)\n",
        "for x, _ in enumerate(values):\n",
        "    conf = (x >> np.arange(len(Q)))&1\n",
        "    values[x] = conf@Q@conf.T\n",
        "MaxValue, MinValue = max(values), min(values)\n",
        "MaxConfig = np.array([(np.where(values == MaxValue)[0][0] >> np.arange(len(Q)))&1])\n",
        "RandomChance = {val: np.sum(np.where(values == val, 1, 0)) * np.exp2(- len(Q)) for val in np.unique(values)}\n",
        "\n",
        "spectrum = np.linalg.eigvalsh(QuadraticForm)\n",
        "digits = int(np.ceil(np.log2((spectrum[-1] - spectrum[0]) * len(QuadraticForm)))) + 1\n",
        "\n",
        "# parallelization prep\n",
        "entries, blocks = list(np.argwhere(Q - Q.diagonal().diagonal())) + list(np.argwhere(Q.diagonal().diagonal())), []\n",
        "while entries != []:\n",
        "    block, qubits, next = [], set(), 0\n",
        "    while next < len(entries) and len(block) <= digits:\n",
        "        if entries[next][0] not in qubits and entries[next][1] not in qubits:\n",
        "            qubits.add(entries[next][0])\n",
        "            qubits.add(entries[next][1])\n",
        "            block.append(entries.pop(next))\n",
        "        else:\n",
        "            next += 1\n",
        "    blocks.append(block)"
      ]
    },
    {
      "cell_type": "code",
      "execution_count": 7,
      "id": "62CuOJouL-KP",
      "metadata": {
        "colab": {
          "base_uri": "https://localhost:8080/",
          "height": 447
        },
        "id": "62CuOJouL-KP",
        "outputId": "30434d69-3f7a-4523-98df-93b4a9c7db09"
      },
      "outputs": [
        {
          "data": {
            "text/plain": [
              "<BarContainer object of 746 artists>"
            ]
          },
          "execution_count": 7,
          "metadata": {},
          "output_type": "execute_result"
        },
        {
          "data": {
            "image/png": "[encoded data removed]",
            "text/plain": [
              "<Figure size 640x480 with 1 Axes>"
            ]
          },
          "metadata": {},
          "output_type": "display_data"
        }
      ],
      "source": [
        "plt.bar(RandomChance.keys(),\n",
        "        RandomChance.values(),\n",
        "        width=0.5,\n",
        "        color=\"green\")"
      ]
    },
    {
      "cell_type": "code",
      "execution_count": 31,
      "id": "XnCsFN_SBg4z",
      "metadata": {
        "colab": {
          "base_uri": "https://localhost:8080/",
          "height": 245
        },
        "id": "XnCsFN_SBg4z",
        "outputId": "a1f3ae01-25f3-4448-d0ba-c355d1db3f94"
      },
      "outputs": [
        {
          "name": "stdout",
          "output_type": "stream",
          "text": [
            "configuration\t= [1 0 0 0 0 0 0 1 0 0 0]\n",
            "threshold\t= 210\n",
            "Lambda\t\t= 0.5\n",
            "progress\t= 43.08%\n",
            "steps left\t= 10\n",
            "\n",
            "configuration\t= [0, 1, 0, 1, 1, 0, 0, 0, 0, 0, 1]\n",
            "threshold\t= 602\n",
            "Lambda\t\t= 0.5\n",
            "progress\t= 66.87%\n",
            "steps left\t= 9\n",
            "\n",
            "configuration\t= [1, 1, 1, 1, 0, 1, 1, 1, 1, 0, 0]\n",
            "threshold\t= 676\n",
            "Lambda\t\t= 0.5\n",
            "progress\t= 71.36%\n",
            "steps left\t= 8\n",
            "\n",
            "configuration\t= [1, 1, 1, 1, 0, 1, 1, 1, 1, 0, 0]\n",
            "threshold\t= 676\n",
            "Lambda\t\t= 0.25\n",
            "progress\t= 71.36%\n",
            "steps left\t= 7\n",
            "\n",
            "configuration\t= [1, 1, 1, 1, 1, 1, 0, 0, 0, 0, 1]\n",
            "threshold\t= 834\n",
            "Lambda\t\t= 0.25\n",
            "progress\t= 80.95%\n",
            "steps left\t= 6\n",
            "\n",
            "configuration\t= [0, 0, 1, 1, 1, 0, 0, 0, 1, 1, 1]\n",
            "threshold\t= 878\n",
            "Lambda\t\t= 0.25\n",
            "progress\t= 83.62%\n",
            "steps left\t= 5\n",
            "\n"
          ]
        }
      ],
      "source": [
        "powersoftwo = np.array([1 << i for i in range(len(Q))])\n",
        "\n",
        "MaxSteps, Lambda = 10, 1/2\n",
        "result = np.random.randint(1 << len(Q))\n",
        "conf = (result >> np.arange(len(Q)))&1\n",
        "threshold = values[result]\n",
        "\n",
        "steps = 0\n",
        "progress = (threshold - MinValue) / (MaxValue - MinValue)\n",
        "\n",
        "print(f\"configuration\\t= {conf}\\nthreshold\\t= {threshold}\\nLambda\\t\\t= {Lambda}\\nprogress\\t= {progress:.2%}\\nsteps left\\t= {MaxSteps - steps}\\n\")\n",
        "\n",
        "while steps < MaxSteps:\n",
        "    delta = GroverParameterOptimizerForProbability(0.9, Lambda, 10)\n",
        "    l = int(np.ceil(np.arccosh(1 / delta) / np.arccosh(1 / np.sqrt(1 - Lambda)))) // 2\n",
        "    gamma = 1 / np.tanh(np.arccosh(1 / delta) / (2 * l + 1))\n",
        "    GroverPhases = 2 * np.arctan2(gamma, np.tan(np.arange(1, l + 1) * 2 * np.pi / (2 * l + 1)))\n",
        "\n",
        "    # circuit preparation\n",
        "    QRegX = QuantumRegister(len(Q), \"x\") # quantum registers for the bit configurations\n",
        "    QControl, QTarget = QRegX[:-1], QRegX[-1] # this is just to make the multi-controlled phase gate's code a bit less confusing\n",
        "    QRegY = AncillaRegister(digits, \"y\") # quantum registers to digitize values\n",
        "    ClRegX = ClassicalRegister(len(Q), \"cl\")\n",
        "\n",
        "    QC = QuantumCircuit(QRegX, QRegY, ClRegX)\n",
        "\n",
        "    # state-preparation\n",
        "    QC.h(QRegX[:] + QRegY[:])\n",
        "\n",
        "    # adding threshold - 1\n",
        "    for i, q in enumerate(reversed(QRegY)):\n",
        "        QC.rz((threshold - 1) * np.exp2(- i) * np.pi, q)\n",
        "\n",
        "    # Grover FPS bang-bangs\n",
        "    for alpha, beta in zip(GroverPhases, reversed(GroverPhases)):\n",
        "\n",
        "        # S_t (beta)\n",
        "\n",
        "        for block in blocks:\n",
        "            for [i, j] in block:\n",
        "                if i != j:\n",
        "                    QC.cx(QRegX[i], QRegX[j])\n",
        "\n",
        "            for d in range(digits):\n",
        "                for idx, [i, j] in enumerate(block):\n",
        "                    pos = (d + idx)%digits\n",
        "                    QC.cp(Q[i, j] * np.exp2(- pos) * np.pi, QRegX[j], QRegY[- 1 - pos])\n",
        "\n",
        "            for [i, j] in block:\n",
        "                if i != j:\n",
        "                    QC.cx(i, j)\n",
        "\n",
        "        # inverse QFT without the SWAPs\n",
        "        for i, q in enumerate(reversed(QRegY)):\n",
        "            QC.h(q)\n",
        "            for j, r in enumerate(reversed(QRegY[:- i - 1])):\n",
        "                QC.cp(- np.pi * np.exp2(- (j + 1)), q, r)\n",
        "\n",
        "        QC.rz(beta, QRegY[0])\n",
        "\n",
        "        # QFT without the SWAPs\n",
        "        for i, q in enumerate(QRegY):\n",
        "            QC.h(q)\n",
        "            for j, r in enumerate(QRegY[i + 1:]):\n",
        "                QC.cp(np.pi * np.exp2(- (j + 1)), q, r)\n",
        "\n",
        "        for block in blocks:\n",
        "            for [i, j] in block:\n",
        "                if i != j:\n",
        "                    QC.cx(QRegX[i], QRegX[j])\n",
        "\n",
        "            for d in range(digits):\n",
        "                for idx, [i, j] in enumerate(block):\n",
        "                    pos = (d + idx)%digits\n",
        "                    QC.cp(- Q[i, j] * np.exp2(- pos) * np.pi, QRegX[j], QRegY[- 1 - pos])\n",
        "\n",
        "            for [i, j] in block:\n",
        "                if i != j:\n",
        "                    QC.cx(i, j)\n",
        "\n",
        "        # S_s (alpha) / this implementation is only better when len(QuadraticForm) > 4\n",
        "        QC.h(QRegX)\n",
        "        QC.x(QRegX)\n",
        "\n",
        "        for i, q in enumerate(reversed(QControl[1:])):\n",
        "            for j, p in enumerate(QControl[len(QControl) - i:]):\n",
        "                QC.crx(np.pi * np.exp2(- (j + 1)), q, p)\n",
        "            QC.cp(alpha * np.exp2(- (i + 1)), q, QTarget)\n",
        "\n",
        "        for i, q in enumerate(QControl[1:]):\n",
        "            QC.crx(np.pi * np.exp2(- i), QControl[0], q)\n",
        "            QC.cp(- alpha * np.exp2(i + 1 - len(QControl)), q, QTarget)\n",
        "            for j, p in enumerate(QControl[i + 2:]):\n",
        "                QC.crx(- np.pi * np.exp2(- (j + 1)), q, p)\n",
        "\n",
        "        QC.cp(alpha * np.exp2(1 - len(QControl)), QControl[0], QTarget)\n",
        "\n",
        "        for i, q in enumerate(reversed(QControl[1:])):\n",
        "            for j, p in enumerate(QControl[len(QControl) - i:]):\n",
        "                QC.crx(np.pi * np.exp2(- (j + 1)), q, p)\n",
        "\n",
        "        for i, q in enumerate(QControl[1:]):\n",
        "            QC.crx(- np.pi * np.exp2(- i), QControl[0], q)\n",
        "            for j, p in enumerate(QControl[i + 2:]):\n",
        "                QC.crx(- np.pi * np.exp2(- (j + 1)), q, p)\n",
        "\n",
        "        QC.x(QRegX)\n",
        "        QC.h(QRegX)\n",
        "\n",
        "    QC.measure(QRegX, ClRegX)\n",
        "\n",
        "    simulator = AerSimulator()\n",
        "    QC = transpile(circuits=QC,\n",
        "                   backend=simulator)\n",
        "\n",
        "    preconf = [1 if bit == \"1\" else 0 for bit in reversed(list(execute(QC, simulator, shots = 1).result().get_counts().keys())[0])]\n",
        "    result = np.dot(preconf, powersoftwo)\n",
        "\n",
        "    if values[result] > threshold:\n",
        "        conf = preconf\n",
        "        threshold = values[result]\n",
        "        progress = (threshold - MinValue) / (MaxValue - MinValue)\n",
        "    else:\n",
        "        Lambda /= 2\n",
        "\n",
        "    steps += l\n",
        "\n",
        "    print(f\"configuration\\t= {conf}\\nthreshold\\t= {threshold}\\nLambda\\t\\t= {Lambda}\\nprogress\\t= {progress:.2%}\\nsteps left\\t= {MaxSteps - steps}\\n\")\n",
        "\n",
        "print(\"done\")"
      ]
    },
    {
      "cell_type": "code",
      "execution_count": null,
      "id": "e409024e",
      "metadata": {
        "id": "e409024e"
      },
      "outputs": [],
      "source": []
    }
  ],
  "metadata": {
    "colab": {
      "collapsed_sections": [
        "THzaoqHo13RE",
        "FTiJALVtnQIW",
        "IPRVQYBNTx8w"
      ],
      "provenance": []
    },
    "kernelspec": {
      "display_name": "Python 3 (ipykernel)",
      "language": "python",
      "name": "python3"
    },
    "language_info": {
      "codemirror_mode": {
        "name": "ipython",
        "version": 3
      },
      "file_extension": ".py",
      "mimetype": "text/x-python",
      "name": "python",
      "nbconvert_exporter": "python",
      "pygments_lexer": "ipython3",
      "version": "3.11.5"
    }
  },
  "nbformat": 4,
  "nbformat_minor": 5
}

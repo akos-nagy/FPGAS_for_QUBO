{
  "cells": [
    {
      "cell_type": "markdown",
      "id": "THzaoqHo13RE",
      "metadata": {
        "id": "THzaoqHo13RE"
      },
      "source": [
        "# preparations"
      ]
    },
    {
      "cell_type": "markdown",
      "id": "FTiJALVtnQIW",
      "metadata": {
        "id": "FTiJALVtnQIW"
      },
      "source": [
        "## install Qiskit"
      ]
    },
    {
      "cell_type": "code",
      "execution_count": 1,
      "id": "asSgzYHnnT8E",
      "metadata": {
        "colab": {
          "base_uri": "https://localhost:8080/"
        },
        "id": "asSgzYHnnT8E",
        "outputId": "354f2505-49f4-487d-a97a-eb1db68962d3"
      },
      "outputs": [
        {
          "output_type": "stream",
          "name": "stdout",
          "text": [
            "Collecting qiskit\n",
            "  Downloading qiskit-0.44.2-py3-none-any.whl (8.2 kB)\n",
            "Collecting qiskit_aer\n",
            "  Downloading qiskit_aer-0.12.2-cp310-cp310-manylinux_2_17_x86_64.manylinux2014_x86_64.whl (12.8 MB)\n",
            "\u001b[2K     \u001b[90m━━━━━━━━━━━━━━━━━━━━━━━━━━━━━━━━━━━━━━━━\u001b[0m \u001b[32m12.8/12.8 MB\u001b[0m \u001b[31m61.9 MB/s\u001b[0m eta \u001b[36m0:00:00\u001b[0m\n",
            "\u001b[?25hCollecting qiskit-terra==0.25.2.1 (from qiskit)\n",
            "  Downloading qiskit_terra-0.25.2.1-cp38-abi3-manylinux_2_17_x86_64.manylinux2014_x86_64.whl (6.2 MB)\n",
            "\u001b[2K     \u001b[90m━━━━━━━━━━━━━━━━━━━━━━━━━━━━━━━━━━━━━━━━\u001b[0m \u001b[32m6.2/6.2 MB\u001b[0m \u001b[31m91.1 MB/s\u001b[0m eta \u001b[36m0:00:00\u001b[0m\n",
            "\u001b[?25hCollecting rustworkx>=0.13.0 (from qiskit-terra==0.25.2.1->qiskit)\n",
            "  Downloading rustworkx-0.13.2-cp310-cp310-manylinux_2_17_x86_64.manylinux2014_x86_64.whl (2.0 MB)\n",
            "\u001b[2K     \u001b[90m━━━━━━━━━━━━━━━━━━━━━━━━━━━━━━━━━━━━━━━━\u001b[0m \u001b[32m2.0/2.0 MB\u001b[0m \u001b[31m84.4 MB/s\u001b[0m eta \u001b[36m0:00:00\u001b[0m\n",
            "\u001b[?25hRequirement already satisfied: numpy>=1.17 in /usr/local/lib/python3.10/dist-packages (from qiskit-terra==0.25.2.1->qiskit) (1.23.5)\n",
            "Collecting ply>=3.10 (from qiskit-terra==0.25.2.1->qiskit)\n",
            "  Downloading ply-3.11-py2.py3-none-any.whl (49 kB)\n",
            "\u001b[2K     \u001b[90m━━━━━━━━━━━━━━━━━━━━━━━━━━━━━━━━━━━━━━━━\u001b[0m \u001b[32m49.6/49.6 kB\u001b[0m \u001b[31m2.4 MB/s\u001b[0m eta \u001b[36m0:00:00\u001b[0m\n",
            "\u001b[?25hRequirement already satisfied: psutil>=5 in /usr/local/lib/python3.10/dist-packages (from qiskit-terra==0.25.2.1->qiskit) (5.9.5)\n",
            "Requirement already satisfied: scipy>=1.5 in /usr/local/lib/python3.10/dist-packages (from qiskit-terra==0.25.2.1->qiskit) (1.11.3)\n",
            "Requirement already satisfied: sympy>=1.3 in /usr/local/lib/python3.10/dist-packages (from qiskit-terra==0.25.2.1->qiskit) (1.12)\n",
            "Collecting dill>=0.3 (from qiskit-terra==0.25.2.1->qiskit)\n",
            "  Downloading dill-0.3.7-py3-none-any.whl (115 kB)\n",
            "\u001b[2K     \u001b[90m━━━━━━━━━━━━━━━━━━━━━━━━━━━━━━━━━━━━━━━━\u001b[0m \u001b[32m115.3/115.3 kB\u001b[0m \u001b[31m12.8 MB/s\u001b[0m eta \u001b[36m0:00:00\u001b[0m\n",
            "\u001b[?25hRequirement already satisfied: python-dateutil>=2.8.0 in /usr/local/lib/python3.10/dist-packages (from qiskit-terra==0.25.2.1->qiskit) (2.8.2)\n",
            "Collecting stevedore>=3.0.0 (from qiskit-terra==0.25.2.1->qiskit)\n",
            "  Downloading stevedore-5.1.0-py3-none-any.whl (49 kB)\n",
            "\u001b[2K     \u001b[90m━━━━━━━━━━━━━━━━━━━━━━━━━━━━━━━━━━━━━━━━\u001b[0m \u001b[32m49.6/49.6 kB\u001b[0m \u001b[31m5.6 MB/s\u001b[0m eta \u001b[36m0:00:00\u001b[0m\n",
            "\u001b[?25hCollecting symengine<0.10,>=0.9 (from qiskit-terra==0.25.2.1->qiskit)\n",
            "  Downloading symengine-0.9.2-cp310-cp310-manylinux2010_x86_64.whl (37.5 MB)\n",
            "\u001b[2K     \u001b[90m━━━━━━━━━━━━━━━━━━━━━━━━━━━━━━━━━━━━━━━━\u001b[0m \u001b[32m37.5/37.5 MB\u001b[0m \u001b[31m13.5 MB/s\u001b[0m eta \u001b[36m0:00:00\u001b[0m\n",
            "\u001b[?25hRequirement already satisfied: typing-extensions in /usr/local/lib/python3.10/dist-packages (from qiskit-terra==0.25.2.1->qiskit) (4.5.0)\n",
            "Requirement already satisfied: six>=1.5 in /usr/local/lib/python3.10/dist-packages (from python-dateutil>=2.8.0->qiskit-terra==0.25.2.1->qiskit) (1.16.0)\n",
            "Collecting pbr!=2.1.0,>=2.0.0 (from stevedore>=3.0.0->qiskit-terra==0.25.2.1->qiskit)\n",
            "  Downloading pbr-5.11.1-py2.py3-none-any.whl (112 kB)\n",
            "\u001b[2K     \u001b[90m━━━━━━━━━━━━━━━━━━━━━━━━━━━━━━━━━━━━━━━━\u001b[0m \u001b[32m112.7/112.7 kB\u001b[0m \u001b[31m12.6 MB/s\u001b[0m eta \u001b[36m0:00:00\u001b[0m\n",
            "\u001b[?25hRequirement already satisfied: mpmath>=0.19 in /usr/local/lib/python3.10/dist-packages (from sympy>=1.3->qiskit-terra==0.25.2.1->qiskit) (1.3.0)\n",
            "Installing collected packages: ply, symengine, rustworkx, pbr, dill, stevedore, qiskit-terra, qiskit_aer, qiskit\n",
            "Successfully installed dill-0.3.7 pbr-5.11.1 ply-3.11 qiskit-0.44.2 qiskit-terra-0.25.2.1 qiskit_aer-0.12.2 rustworkx-0.13.2 stevedore-5.1.0 symengine-0.9.2\n"
          ]
        }
      ],
      "source": [
        "%pip install qiskit qiskit_aer"
      ]
    },
    {
      "cell_type": "markdown",
      "id": "IPRVQYBNTx8w",
      "metadata": {
        "id": "IPRVQYBNTx8w"
      },
      "source": [
        "## loading necessary libraries"
      ]
    },
    {
      "cell_type": "code",
      "execution_count": 2,
      "id": "dlRKQIAC6D00",
      "metadata": {
        "id": "dlRKQIAC6D00"
      },
      "outputs": [],
      "source": [
        "from qiskit.circuit import QuantumCircuit, QuantumRegister, AncillaRegister, ClassicalRegister, ParameterVector\n",
        "from qiskit.compiler import transpile\n",
        "from qiskit import execute\n",
        "from qiskit_aer import AerSimulator\n",
        "from qiskit_aer.noise import NoiseModel, pauli_error, ReadoutError, thermal_relaxation_error, depolarizing_error\n",
        "from qiskit.quantum_info import Statevector, DensityMatrix, Operator\n",
        "\n",
        "import numpy as np\n",
        "import networkx as nx\n",
        "import matplotlib.pyplot as plt\n",
        "from timeit import default_timer as timer"
      ]
    },
    {
      "cell_type": "markdown",
      "id": "4JOxrrxxqNcT",
      "metadata": {
        "id": "4JOxrrxxqNcT"
      },
      "source": [
        "## Grover parameter optimizers"
      ]
    },
    {
      "cell_type": "code",
      "execution_count": 3,
      "id": "mLZxhHb_0Oyl",
      "metadata": {
        "id": "mLZxhHb_0Oyl"
      },
      "outputs": [],
      "source": [
        "# L, x must be positive\n",
        "def Chebyshev(L:  float, x: float):\n",
        "    return np.cos(L * np.arccos(x)) if x <= 1 else np.cosh(L * np.arccosh(x))\n",
        "\n",
        "# delta, Lambda must be in (0, 1)\n",
        "def GroverQueryComplexity(delta: float, Lambda: float):\n",
        "    return int(np.ceil(np.arccosh(1 / delta) / np.arccosh(1 / np.sqrt(1 - Lambda)))) // 2\n",
        "\n",
        "# Lambda must be in (0, 1)\n",
        "def GroverProbability(delta: float, Lambda: float):\n",
        "    L = 2 * GroverQueryComplexity(delta, Lambda) + 1\n",
        "    return 1 - np.power(delta * Chebyshev(L, Chebyshev(1 / L, 1 / delta) * np.sqrt(1 - Lambda)), 2)\n",
        "\n",
        "# P, Lambda must be in (0, 1), N must be a positive integer\n",
        "def GroverParameterOptimizerForProbability(P: float, Lambda: float, N: int):\n",
        "    step, L, p = np.exp2(- N), 0, 0\n",
        "    done = False\n",
        "    while p < P:\n",
        "        L += 1\n",
        "        d = step\n",
        "        l = GroverQueryComplexity(d, Lambda)\n",
        "        while l > L:\n",
        "            d += step\n",
        "            l = GroverQueryComplexity(d, Lambda)\n",
        "        delta = d\n",
        "        while d < 1:\n",
        "            p_new = GroverProbability(d, Lambda)\n",
        "            if p_new >= p:\n",
        "                p, delta = p_new, d\n",
        "            d += step\n",
        "            l = GroverQueryComplexity(d, Lambda)\n",
        "\n",
        "    return delta"
      ]
    },
    {
      "cell_type": "markdown",
      "id": "9tulSF7bLLvx",
      "metadata": {
        "id": "9tulSF7bLLvx"
      },
      "source": [
        "# test with general QUBO"
      ]
    },
    {
      "cell_type": "code",
      "execution_count": 7,
      "id": "6cF_ZRDpLLa-",
      "metadata": {
        "colab": {
          "base_uri": "https://localhost:8080/"
        },
        "id": "6cF_ZRDpLLa-",
        "outputId": "ce9ece8d-fb67-4ce7-c703-5d9c71d7b69b"
      },
      "outputs": [
        {
          "output_type": "execute_result",
          "data": {
            "text/plain": [
              "matrix([[130, -63, -34, -30,  22,  10,   3, -50,  28, -80, -10],\n",
              "        [  0,  51, -25,  42,  45,  89,   9, -80, -74, -68, -20],\n",
              "        [  0,   0,  84,   3, -30,  50, -22,  70, -30,  60,  30],\n",
              "        [  0,   0,   0,  75,  51, -20,  25,  30,  -3,   3,  40],\n",
              "        [  0,   0,   0,   0,  27, -65, -40,  20, -46,  54, -20],\n",
              "        [  0,   0,   0,   0,   0,  15, -95,  51,  67, -22, -40],\n",
              "        [  0,   0,   0,   0,   0,   0,  35, -60,  63,  20,  25],\n",
              "        [  0,   0,   0,   0,   0,   0,   0,  25, -81, -59, -40],\n",
              "        [  0,   0,   0,   0,   0,   0,   0,   0,  50,   1,  30],\n",
              "        [  0,   0,   0,   0,   0,   0,   0,   0,   0,  60, -10],\n",
              "        [  0,   0,   0,   0,   0,   0,   0,   0,   0,   0,  10]])"
            ]
          },
          "metadata": {},
          "execution_count": 7
        }
      ],
      "source": [
        "Q = np.matrix(100 * np.array([[1.300000000000000044e+00,-6.300000000000000044e-01,-3.400000000000000244e-01,-2.999999999999999889e-01,2.200000000000000011e-01,1.000000000000000056e-01,2.999999999999999889e-02,-5.000000000000000000e-01,2.800000000000000266e-01,-8.000000000000000444e-01,-1.000000000000000056e-01],\n",
        "                [0.000000000000000000e+00,5.100000000000000089e-01,-2.500000000000000000e-01,4.199999999999999845e-01,4.500000000000000111e-01,8.900000000000000133e-01,8.999999999999999667e-02,-8.000000000000000444e-01,-7.399999999999999911e-01,-6.800000000000000488e-01,-2.000000000000000111e-01],\n",
        "                [0.000000000000000000e+00,0.000000000000000000e+00,8.399999999999999689e-01,2.999999999999999889e-02,-2.999999999999999889e-01,5.000000000000000000e-01,-2.200000000000000011e-01,6.999999999999999556e-01,-2.999999999999999889e-01,5.999999999999999778e-01,2.999999999999999889e-01],\n",
        "                [0.000000000000000000e+00,0.000000000000000000e+00,0.000000000000000000e+00,7.500000000000000000e-01,5.100000000000000089e-01,-2.000000000000000111e-01,2.500000000000000000e-01,2.999999999999999889e-01,-2.999999999999999889e-02,2.999999999999999889e-02,4.000000000000000222e-01],\n",
        "                [0.000000000000000000e+00,0.000000000000000000e+00,0.000000000000000000e+00,0.000000000000000000e+00,2.700000000000000178e-01,-6.500000000000000222e-01,-4.000000000000000222e-01,2.000000000000000111e-01,-4.600000000000000200e-01,5.400000000000000355e-01,-2.000000000000000111e-01],\n",
        "                [0.000000000000000000e+00,0.000000000000000000e+00,0.000000000000000000e+00,0.000000000000000000e+00,0.000000000000000000e+00,1.499999999999999944e-01,-9.499999999999999556e-01,5.100000000000000089e-01,6.700000000000000400e-01,-2.200000000000000011e-01,-4.000000000000000222e-01],\n",
        "                [0.000000000000000000e+00,0.000000000000000000e+00,0.000000000000000000e+00,0.000000000000000000e+00,0.000000000000000000e+00,0.000000000000000000e+00,3.499999999999999778e-01,-5.999999999999999778e-01,6.300000000000000044e-01,2.000000000000000111e-01,2.500000000000000000e-01],\n",
        "                [0.000000000000000000e+00,0.000000000000000000e+00,0.000000000000000000e+00,0.000000000000000000e+00,0.000000000000000000e+00,0.000000000000000000e+00,0.000000000000000000e+00,2.500000000000000000e-01,-8.100000000000000533e-01,-5.899999999999999689e-01,-4.000000000000000222e-01],\n",
        "                [0.000000000000000000e+00,0.000000000000000000e+00,0.000000000000000000e+00,0.000000000000000000e+00,0.000000000000000000e+00,0.000000000000000000e+00,0.000000000000000000e+00,0.000000000000000000e+00,5.000000000000000000e-01,1.000000000000000021e-02,2.999999999999999889e-01],\n",
        "                [0.000000000000000000e+00,0.000000000000000000e+00,0.000000000000000000e+00,0.000000000000000000e+00,0.000000000000000000e+00,0.000000000000000000e+00,0.000000000000000000e+00,0.000000000000000000e+00,0.000000000000000000e+00,5.999999999999999778e-01,-1.000000000000000056e-01],\n",
        "                [0.000000000000000000e+00,0.000000000000000000e+00,0.000000000000000000e+00,0.000000000000000000e+00,0.000000000000000000e+00,0.000000000000000000e+00,0.000000000000000000e+00,0.000000000000000000e+00,0.000000000000000000e+00,0.000000000000000000e+00,1.000000000000000056e-01]]), dtype=int)\n",
        "\n",
        "Q.view()"
      ]
    },
    {
      "cell_type": "code",
      "execution_count": null,
      "id": "BCzk9b2iNu45",
      "metadata": {
        "id": "BCzk9b2iNu45"
      },
      "outputs": [],
      "source": [
        "values = np.empty(1 << len(Q), dtype=int)\n",
        "for x, _ in enumerate(values):\n",
        "    conf = (x >> np.arange(len(Q)))&1\n",
        "    values[x] = conf@Q@conf.T\n",
        "MaxValue, MinValue = max(values), min(values)\n",
        "MaxConfig = np.array([(np.where(values == MaxValue)[0][0] >> np.arange(len(Q)))&1])\n",
        "RandomChance = {val: np.sum(np.where(values == val, 1, 0)) * np.exp2(- len(Q)) for val in np.unique(values)}\n",
        "\n",
        "spectrum = np.linalg.eigvalsh((Q + Q.T) / 2)\n",
        "digits = int(np.ceil(np.log2((spectrum[-1] - spectrum[0]) * len(Q)))) + 1\n",
        "\n",
        "# parallelization prep\n",
        "entries, blocks = list(np.argwhere(Q - Q.diagonal().diagonal())) + list(np.argwhere(Q.diagonal().diagonal())), []\n",
        "while entries != []:\n",
        "    block, qubits, next = [], set(), 0\n",
        "    while next < len(entries) and len(block) <= digits:\n",
        "        if entries[next][0] not in qubits and entries[next][1] not in qubits:\n",
        "            qubits.add(entries[next][0])\n",
        "            qubits.add(entries[next][1])\n",
        "            block.append(entries.pop(next))\n",
        "        else:\n",
        "            next += 1\n",
        "    blocks.append(block)"
      ]
    },
    {
      "cell_type": "code",
      "execution_count": null,
      "id": "62CuOJouL-KP",
      "metadata": {
        "colab": {
          "base_uri": "https://localhost:8080/",
          "height": 447
        },
        "id": "62CuOJouL-KP",
        "outputId": "30434d69-3f7a-4523-98df-93b4a9c7db09"
      },
      "outputs": [
        {
          "data": {
            "text/plain": [
              "<BarContainer object of 564 artists>"
            ]
          },
          "execution_count": 6,
          "metadata": {},
          "output_type": "execute_result"
        },
        {
          "data": {
            "image/png": "[encoded data removed]",
            "text/plain": [
              "<Figure size 640x480 with 1 Axes>"
            ]
          },
          "metadata": {},
          "output_type": "display_data"
        }
      ],
      "source": [
        "plt.bar(RandomChance.keys(),\n",
        "        RandomChance.values(),\n",
        "        width=0.5,\n",
        "        color=\"green\")"
      ]
    },
    {
      "cell_type": "code",
      "execution_count": null,
      "id": "XnCsFN_SBg4z",
      "metadata": {
        "colab": {
          "base_uri": "https://localhost:8080/",
          "height": 245
        },
        "id": "XnCsFN_SBg4z",
        "outputId": "a1f3ae01-25f3-4448-d0ba-c355d1db3f94"
      },
      "outputs": [
        {
          "name": "stdout",
          "output_type": "stream",
          "text": [
            "configuration\t= [1 0 1 0 0 0 0 0 1 0 0]\n",
            "threshold\t= 228\n",
            "Lambda\t\t= 0.5\n",
            "progress\t= 58.01%\n",
            "steps left\t= 10\n",
            "\n",
            "configuration\t= [1 0 1 0 0 0 0 0 1 0 0]\n",
            "threshold\t= 228\n",
            "Lambda\t\t= 0.25\n",
            "progress\t= 58.01%\n",
            "steps left\t= 9\n",
            "\n",
            "configuration\t= [1 0 1 0 0 0 0 0 1 0 0]\n",
            "threshold\t= 228\n",
            "Lambda\t\t= 0.125\n",
            "progress\t= 58.01%\n",
            "steps left\t= 8\n",
            "\n",
            "configuration\t= [0, 1, 1, 0, 1, 1, 0, 1, 0, 1, 0]\n",
            "threshold\t= 352\n",
            "Lambda\t\t= 0.125\n",
            "progress\t= 73.06%\n",
            "steps left\t= 6\n",
            "\n",
            "configuration\t= [0, 1, 1, 0, 1, 1, 0, 1, 0, 1, 0]\n",
            "threshold\t= 352\n",
            "Lambda\t\t= 0.0625\n",
            "progress\t= 73.06%\n",
            "steps left\t= 4\n",
            "\n",
            "configuration\t= [1, 0, 1, 1, 0, 1, 0, 1, 1, 1, 0]\n",
            "threshold\t= 403\n",
            "Lambda\t\t= 0.0625\n",
            "progress\t= 79.25%\n",
            "steps left\t= 1\n",
            "\n",
            "configuration\t= [1, 0, 1, 1, 0, 1, 0, 1, 1, 1, 0]\n",
            "threshold\t= 403\n",
            "Lambda\t\t= 0.03125\n",
            "progress\t= 79.25%\n",
            "steps left\t= -2\n",
            "\n",
            "done\n"
          ]
        }
      ],
      "source": [
        "powersoftwo = np.array([1 << i for i in range(len(Q))])\n",
        "\n",
        "MaxSteps, Lambda = 10, 1/2\n",
        "result = np.random.randint(1 << len(Q))\n",
        "conf = (result >> np.arange(len(Q)))&1\n",
        "threshold = values[result]\n",
        "\n",
        "steps = 0\n",
        "progress = (threshold - MinValue) / (MaxValue - MinValue)\n",
        "\n",
        "print(f\"configuration\\t= {conf}\\nthreshold\\t= {threshold}\\nLambda\\t\\t= {Lambda}\\nprogress\\t= {progress:.2%}\\nsteps left\\t= {MaxSteps - steps}\\n\")\n",
        "\n",
        "while steps < MaxSteps:\n",
        "    delta = GroverParameterOptimizerForProbability(0.9, Lambda, 10)\n",
        "    l = int(np.ceil(np.arccosh(1 / delta) / np.arccosh(1 / np.sqrt(1 - Lambda)))) // 2\n",
        "    gamma = 1 / np.tanh(np.arccosh(1 / delta) / (2 * l + 1))\n",
        "    GroverPhases = 2 * np.arctan2(gamma, np.tan(np.arange(1, l + 1) * 2 * np.pi / (2 * l + 1)))\n",
        "\n",
        "    # circuit preparation\n",
        "    QRegX = QuantumRegister(len(Q), \"x\") # quantum registers for the bit configurations\n",
        "    QControl, QTarget = QRegX[:-1], QRegX[-1] # this is just to make the multi-controlled phase gate's code a bit less confusing\n",
        "    QRegY = AncillaRegister(digits, \"y\") # quantum registers to digitize values\n",
        "    ClRegX = ClassicalRegister(len(Q), \"cl\")\n",
        "\n",
        "    QC = QuantumCircuit(QRegX, QRegY, ClRegX)\n",
        "\n",
        "    # state-preparation\n",
        "    QC.h(QRegX[:] + QRegY[:])\n",
        "\n",
        "    # adding threshold - 1\n",
        "    for i, q in enumerate(reversed(QRegY)):\n",
        "        QC.rz((threshold - 1) * np.exp2(- i) * np.pi, q)\n",
        "\n",
        "    # Grover FPS bang-bangs\n",
        "    for alpha, beta in zip(GroverPhases, reversed(GroverPhases)):\n",
        "\n",
        "        # S_t (beta)\n",
        "\n",
        "        for block in blocks:\n",
        "            for [i, j] in block:\n",
        "                if i != j:\n",
        "                    QC.cx(QRegX[i], QRegX[j])\n",
        "\n",
        "            for d in range(digits):\n",
        "                for idx, [i, j] in enumerate(block):\n",
        "                    pos = (d + idx)%digits\n",
        "                    QC.cp(Q[i, j] * np.exp2(- pos) * np.pi, QRegX[j], QRegY[- 1 - pos])\n",
        "\n",
        "            for [i, j] in block:\n",
        "                if i != j:\n",
        "                    QC.cx(i, j)\n",
        "\n",
        "        # inverse QFT without the SWAPs\n",
        "        for i, q in enumerate(reversed(QRegY)):\n",
        "            QC.h(q)\n",
        "            for j, r in enumerate(reversed(QRegY[:- i - 1])):\n",
        "                QC.cp(- np.pi * np.exp2(- (j + 1)), q, r)\n",
        "\n",
        "        QC.rz(beta, QRegY[0])\n",
        "\n",
        "        # QFT without the SWAPs\n",
        "        for i, q in enumerate(QRegY):\n",
        "            QC.h(q)\n",
        "            for j, r in enumerate(QRegY[i + 1:]):\n",
        "                QC.cp(np.pi * np.exp2(- (j + 1)), q, r)\n",
        "\n",
        "        for block in blocks:\n",
        "            for [i, j] in block:\n",
        "                if i != j:\n",
        "                    QC.cx(QRegX[i], QRegX[j])\n",
        "\n",
        "            for d in range(digits):\n",
        "                for idx, [i, j] in enumerate(block):\n",
        "                    pos = (d + idx)%digits\n",
        "                    QC.cp(- Q[i, j] * np.exp2(- pos) * np.pi, QRegX[j], QRegY[- 1 - pos])\n",
        "\n",
        "            for [i, j] in block:\n",
        "                if i != j:\n",
        "                    QC.cx(i, j)\n",
        "\n",
        "        # S_s (alpha) / this implementation is only better when len(QuadraticForm) > 4\n",
        "        QC.h(QRegX)\n",
        "        QC.x(QRegX)\n",
        "\n",
        "        for i, q in enumerate(reversed(QControl[1:])):\n",
        "            for j, p in enumerate(QControl[len(QControl) - i:]):\n",
        "                QC.crx(np.pi * np.exp2(- (j + 1)), q, p)\n",
        "            QC.cp(alpha * np.exp2(- (i + 1)), q, QTarget)\n",
        "\n",
        "        for i, q in enumerate(QControl[1:]):\n",
        "            QC.crx(np.pi * np.exp2(- i), QControl[0], q)\n",
        "            QC.cp(- alpha * np.exp2(i + 1 - len(QControl)), q, QTarget)\n",
        "            for j, p in enumerate(QControl[i + 2:]):\n",
        "                QC.crx(- np.pi * np.exp2(- (j + 1)), q, p)\n",
        "\n",
        "        QC.cp(alpha * np.exp2(1 - len(QControl)), QControl[0], QTarget)\n",
        "\n",
        "        for i, q in enumerate(reversed(QControl[1:])):\n",
        "            for j, p in enumerate(QControl[len(QControl) - i:]):\n",
        "                QC.crx(np.pi * np.exp2(- (j + 1)), q, p)\n",
        "\n",
        "        for i, q in enumerate(QControl[1:]):\n",
        "            QC.crx(- np.pi * np.exp2(- i), QControl[0], q)\n",
        "            for j, p in enumerate(QControl[i + 2:]):\n",
        "                QC.crx(- np.pi * np.exp2(- (j + 1)), q, p)\n",
        "\n",
        "        QC.x(QRegX)\n",
        "        QC.h(QRegX)\n",
        "\n",
        "    QC.measure(QRegX, ClRegX)\n",
        "\n",
        "    simulator = AerSimulator()\n",
        "    QC = transpile(circuits=QC,\n",
        "                   backend=simulator)\n",
        "\n",
        "    preconf = [1 if bit == \"1\" else 0 for bit in reversed(list(execute(QC, simulator, shots = 1).result().get_counts().keys())[0])]\n",
        "    result = np.dot(preconf, powersoftwo)\n",
        "\n",
        "    if values[result] > threshold:\n",
        "        conf = preconf\n",
        "        threshold = values[result]\n",
        "        progress = (threshold - MinValue) / (MaxValue - MinValue)\n",
        "    else:\n",
        "        Lambda /= 2\n",
        "\n",
        "    steps += l\n",
        "\n",
        "    print(f\"configuration\\t= {conf}\\nthreshold\\t= {threshold}\\nLambda\\t\\t= {Lambda}\\nprogress\\t= {progress:.2%}\\nsteps left\\t= {MaxSteps - steps}\\n\")\n",
        "\n",
        "print(\"done\")"
      ]
    },
    {
      "cell_type": "code",
      "execution_count": null,
      "id": "d8e3646e",
      "metadata": {
        "id": "d8e3646e",
        "outputId": "12560e1a-6d81-44ce-acfa-9e69a126ec91"
      },
      "outputs": [
        {
          "data": {
            "text/plain": [
              "3"
            ]
          },
          "execution_count": 11,
          "metadata": {},
          "output_type": "execute_result"
        }
      ],
      "source": [
        "delta = GroverParameterOptimizerForProbability(0.9, 0.0625, 10)\n",
        "l = int(np.ceil(np.arccosh(1 / delta) / np.arccosh(1 / np.sqrt(1 - 0.0625)))) // 2\n",
        "l"
      ]
    },
    {
      "cell_type": "code",
      "execution_count": null,
      "id": "e409024e",
      "metadata": {
        "id": "e409024e"
      },
      "outputs": [],
      "source": []
    }
  ],
  "metadata": {
    "colab": {
      "collapsed_sections": [
        "THzaoqHo13RE",
        "FTiJALVtnQIW",
        "IPRVQYBNTx8w"
      ],
      "provenance": []
    },
    "kernelspec": {
      "display_name": "Python 3 (ipykernel)",
      "language": "python",
      "name": "python3"
    },
    "language_info": {
      "codemirror_mode": {
        "name": "ipython",
        "version": 3
      },
      "file_extension": ".py",
      "mimetype": "text/x-python",
      "name": "python",
      "nbconvert_exporter": "python",
      "pygments_lexer": "ipython3",
      "version": "3.11.5"
    }
  },
  "nbformat": 4,
  "nbformat_minor": 5
}
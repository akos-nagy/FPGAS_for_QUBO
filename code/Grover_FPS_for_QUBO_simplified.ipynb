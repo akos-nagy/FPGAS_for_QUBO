{
  "cells": [
    {
      "cell_type": "markdown",
      "metadata": {
        "id": "THzaoqHo13RE"
      },
      "source": [
        "# preparations"
      ],
      "id": "THzaoqHo13RE"
    },
    {
      "cell_type": "markdown",
      "metadata": {
        "id": "FTiJALVtnQIW"
      },
      "source": [
        "## install Qiskit"
      ],
      "id": "FTiJALVtnQIW"
    },
    {
      "cell_type": "code",
      "execution_count": 11,
      "metadata": {
        "colab": {
          "base_uri": "https://localhost:8080/"
        },
        "id": "asSgzYHnnT8E",
        "outputId": "2224e0c8-13d5-4334-829b-955653511bdb"
      },
      "outputs": [
        {
          "output_type": "stream",
          "name": "stdout",
          "text": [
            "Requirement already satisfied: qiskit in /usr/local/lib/python3.10/dist-packages (0.44.1)\n",
            "Requirement already satisfied: qiskit_aer in /usr/local/lib/python3.10/dist-packages (0.12.2)\n",
            "Requirement already satisfied: qiskit-terra==0.25.1 in /usr/local/lib/python3.10/dist-packages (from qiskit) (0.25.1)\n",
            "Requirement already satisfied: rustworkx>=0.13.0 in /usr/local/lib/python3.10/dist-packages (from qiskit-terra==0.25.1->qiskit) (0.13.1)\n",
            "Requirement already satisfied: numpy>=1.17 in /usr/local/lib/python3.10/dist-packages (from qiskit-terra==0.25.1->qiskit) (1.23.5)\n",
            "Requirement already satisfied: ply>=3.10 in /usr/local/lib/python3.10/dist-packages (from qiskit-terra==0.25.1->qiskit) (3.11)\n",
            "Requirement already satisfied: psutil>=5 in /usr/local/lib/python3.10/dist-packages (from qiskit-terra==0.25.1->qiskit) (5.9.5)\n",
            "Requirement already satisfied: scipy>=1.5 in /usr/local/lib/python3.10/dist-packages (from qiskit-terra==0.25.1->qiskit) (1.10.1)\n",
            "Requirement already satisfied: sympy>=1.3 in /usr/local/lib/python3.10/dist-packages (from qiskit-terra==0.25.1->qiskit) (1.12)\n",
            "Requirement already satisfied: dill>=0.3 in /usr/local/lib/python3.10/dist-packages (from qiskit-terra==0.25.1->qiskit) (0.3.7)\n",
            "Requirement already satisfied: python-dateutil>=2.8.0 in /usr/local/lib/python3.10/dist-packages (from qiskit-terra==0.25.1->qiskit) (2.8.2)\n",
            "Requirement already satisfied: stevedore>=3.0.0 in /usr/local/lib/python3.10/dist-packages (from qiskit-terra==0.25.1->qiskit) (5.1.0)\n",
            "Requirement already satisfied: symengine<0.10,>=0.9 in /usr/local/lib/python3.10/dist-packages (from qiskit-terra==0.25.1->qiskit) (0.9.2)\n",
            "Requirement already satisfied: typing-extensions in /usr/local/lib/python3.10/dist-packages (from qiskit-terra==0.25.1->qiskit) (4.7.1)\n",
            "Requirement already satisfied: six>=1.5 in /usr/local/lib/python3.10/dist-packages (from python-dateutil>=2.8.0->qiskit-terra==0.25.1->qiskit) (1.16.0)\n",
            "Requirement already satisfied: pbr!=2.1.0,>=2.0.0 in /usr/local/lib/python3.10/dist-packages (from stevedore>=3.0.0->qiskit-terra==0.25.1->qiskit) (5.11.1)\n",
            "Requirement already satisfied: mpmath>=0.19 in /usr/local/lib/python3.10/dist-packages (from sympy>=1.3->qiskit-terra==0.25.1->qiskit) (1.3.0)\n"
          ]
        }
      ],
      "source": [
        "%pip install qiskit qiskit_aer"
      ],
      "id": "asSgzYHnnT8E"
    },
    {
      "cell_type": "markdown",
      "metadata": {
        "id": "IPRVQYBNTx8w"
      },
      "source": [
        "## loading necessary libraries"
      ],
      "id": "IPRVQYBNTx8w"
    },
    {
      "cell_type": "code",
      "execution_count": 12,
      "metadata": {
        "id": "dlRKQIAC6D00"
      },
      "outputs": [],
      "source": [
        "from qiskit import QuantumCircuit, QuantumRegister, ClassicalRegister, execute, transpile\n",
        "from qiskit_aer import AerSimulator\n",
        "from qiskit_aer.noise import NoiseModel, pauli_error, ReadoutError, thermal_relaxation_error, depolarizing_error\n",
        "from qiskit.quantum_info import Statevector, DensityMatrix\n",
        "\n",
        "from qiskit.visualization import array_to_latex\n",
        "\n",
        "import numpy as np\n",
        "import networkx as nx\n",
        "import matplotlib.pyplot as plt\n",
        "import time"
      ],
      "id": "dlRKQIAC6D00"
    },
    {
      "cell_type": "markdown",
      "metadata": {
        "id": "kZZELK6X0Djw"
      },
      "source": [
        "## noise models:"
      ],
      "id": "kZZELK6X0Djw"
    },
    {
      "cell_type": "markdown",
      "metadata": {
        "id": "uPdo4AqbiLkw"
      },
      "source": [
        "### IonQ's Aria specifications:\n",
        "depolarizing error probability is probabilities adjusted from thermal noise infidelity: $p = e^{-t/T_2}$ with gate time for $t$"
      ],
      "id": "uPdo4AqbiLkw"
    },
    {
      "cell_type": "code",
      "execution_count": 13,
      "metadata": {
        "id": "zTeDgrXH0Dq1"
      },
      "outputs": [],
      "source": [
        "# error probabilities\n",
        "p_meas = 3.9e-3\n",
        "p_reset = 3.9e-3\n",
        "p_gate1 = 6e-4\n",
        "p_gate2 = 6e-3\n",
        "\n",
        "# thermal relaxation error (nanosecond time)\n",
        "T1s = np.random.choice(range(10, 100), 10, replace=False) # consider adjusting range to be more reasonable\n",
        "T2 = 1e9\n",
        "\n",
        "time_meas = np.random.choice(range(600, 700), 10, replace=False)\n",
        "time_u1 = 0 # virtual gate\n",
        "time_gate1 = 135e3 # u1 and u2\n",
        "time_gate2 = 600e3 # 2 qubit gate\n",
        "\n",
        "# thermal relaxation error\n",
        "ther_u1  = [thermal_relaxation_error(t1 * 1e9, T2, time_u1)\n",
        "              for t1 in T1s]\n",
        "ther_gate1  = [thermal_relaxation_error(t1 * 1e9, T2, time_gate1)\n",
        "              for t1 in T1s]\n",
        "ther_gate2 = [[thermal_relaxation_error(t1a * 1e9, T2, time_gate2).expand(\n",
        "             thermal_relaxation_error(t1b * 1e9, T2, time_gate2))\n",
        "              for t1a in T1s]\n",
        "               for t1b in T1s]\n",
        "\n",
        "# depolarizing error\n",
        "dep_reset = depolarizing_error(p_reset, 1)\n",
        "dep_gate1 = depolarizing_error(p_gate1 - 1.34990888e-4, 1)\n",
        "dep_gate2 = depolarizing_error(p_gate2 - 5.99820036e-4, 2)\n",
        "\n",
        "# readout error\n",
        "er_meas = ReadoutError([[1 - p_meas, p_meas], [p_meas, 1 - p_meas]])\n",
        "\n",
        "# creating the noise model\n",
        "fake_aria = NoiseModel()\n",
        "\n",
        "for j in range(10):\n",
        "    fake_aria.add_quantum_error(ther_u1[j].compose(dep_gate1), \"u1\", [j])\n",
        "    fake_aria.add_quantum_error(ther_gate1[j].compose(dep_gate1), \"u2\", [j])\n",
        "    fake_aria.add_quantum_error(ther_gate1[j].compose(dep_gate1), \"u3\", [j])\n",
        "    for k in range(10):\n",
        "        fake_aria.add_quantum_error(ther_gate2[j][k].compose(dep_gate2), \"cx\", [j, k])\n",
        "fake_aria.add_all_qubit_quantum_error(dep_reset, \"reset\")\n",
        "fake_aria.add_all_qubit_readout_error(er_meas)"
      ],
      "id": "zTeDgrXH0Dq1"
    },
    {
      "cell_type": "markdown",
      "metadata": {
        "id": "-ae4ao1_iK16"
      },
      "source": [],
      "id": "-ae4ao1_iK16"
    },
    {
      "cell_type": "markdown",
      "metadata": {
        "id": "V-voj0syK7t6"
      },
      "source": [
        "### IonQ's Harmony specifications:\n",
        "\n",
        "(it's basically all noise compared to Aria)"
      ],
      "id": "V-voj0syK7t6"
    },
    {
      "cell_type": "code",
      "execution_count": 14,
      "metadata": {
        "id": "hW-zPO3mK5-d"
      },
      "outputs": [],
      "source": [
        "h_p_meas = 1.8e-3\n",
        "h_p_reset = 1.8e-3\n",
        "h_p_gate1 = 4e-3\n",
        "h_p_gate2 = 2.7e-2\n",
        "\n",
        "# thermal relaxation error (nanosecond time)\n",
        "h_T1s = np.random.choice(range(10, 100), 10, replace=False) # consider adjusting range to be more reasonable\n",
        "h_T2 = 1e9\n",
        "\n",
        "h_time_meas = np.random.choice(range(600, 700), 10, replace=False) # assumed same as aria\n",
        "h_time_u1 = 0 # virtual gate?\n",
        "h_time_gate1 = 1e4 # u1 and u2\n",
        "h_time_gate2 = 2.1e5 # 2 qubit gate\n",
        "\n",
        "# thermal relaxation error\n",
        "h_ther_u1  = [thermal_relaxation_error(t1 * 1e9, h_T2, h_time_u1)\n",
        "              for t1 in h_T1s]\n",
        "h_ther_gate1  = [thermal_relaxation_error(t1 * 1e9, h_T2, h_time_gate1)\n",
        "              for t1 in h_T1s]\n",
        "h_ther_gate2 = [[thermal_relaxation_error(t1a * 1e9, h_T2, h_time_gate2).expand(\n",
        "             thermal_relaxation_error(t1b * 1e9, h_T2, h_time_gate2))\n",
        "              for t1a in h_T1s]\n",
        "               for t1b in h_T1s]\n",
        "\n",
        "# depolarizing error\n",
        "h_dep_reset = depolarizing_error(h_p_reset, 1)\n",
        "h_dep_gate1 = depolarizing_error(h_p_gate1 - 9.99995e-6, 1)\n",
        "h_dep_gate2 = depolarizing_error(h_p_gate2 - 2.09977952e-4, 2)\n",
        "\n",
        "# readout error\n",
        "h_er_meas = ReadoutError([[1 - p_meas, p_meas], [p_meas, 1 - p_meas]])\n",
        "\n",
        "fake_harmony = NoiseModel()\n",
        "\n",
        "for j in range(10):\n",
        "    fake_harmony.add_quantum_error(h_ther_u1[j].compose(h_dep_gate1), \"u1\", [j])\n",
        "    fake_harmony.add_quantum_error(h_ther_gate1[j].compose(h_dep_gate1), \"u2\", [j])\n",
        "    fake_harmony.add_quantum_error(h_ther_gate1[j].compose(h_dep_gate1), \"u3\", [j])\n",
        "    for k in range(10):\n",
        "        fake_harmony.add_quantum_error(h_ther_gate2[j][k].compose(h_dep_gate2), \"cx\", [j, k])\n",
        "fake_harmony.add_all_qubit_quantum_error(h_dep_reset, \"reset\")\n",
        "fake_harmony.add_all_qubit_readout_error(h_er_meas)"
      ],
      "id": "hW-zPO3mK5-d"
    },
    {
      "cell_type": "markdown",
      "metadata": {
        "id": "4JOxrrxxqNcT"
      },
      "source": [
        "## Grover parameter finder: this optimizes `delta` $\\in (0, 1)$ so that the query complexity is minimal for a given pair of target probability and ratio, `P` and `Lambda`\n",
        "\n",
        "note #1: for target probability $\\sim$ 90%, it helps as long as `Lambda` $\\gg$ `1e-4`\n",
        "\n",
        "note #2: there ought to be a simpler, analytic version of this"
      ],
      "id": "4JOxrrxxqNcT"
    },
    {
      "cell_type": "code",
      "execution_count": 15,
      "metadata": {
        "id": "mLZxhHb_0Oyl"
      },
      "outputs": [],
      "source": [
        "# L, x must be positive\n",
        "def Chebyshev(L:  float, x: float):\n",
        "    return np.cos(L * np.arccos(x)) if x <= 1 else np.cosh(L * np.arccosh(x))\n",
        "\n",
        "# delta, Lambda must be in (0, 1)\n",
        "def GroverQueryComplexity(delta: float, Lambda: float):\n",
        "    return int(np.ceil(np.arccosh(1 / delta) / np.arccosh(1 / np.sqrt(1 - Lambda)))) // 2\n",
        "\n",
        "# delta, Lambda must be in (0, 1)\n",
        "def GroverProbability(delta: float, Lambda: float):\n",
        "    L = 2 * GroverQueryComplexity(delta, Lambda) + 1\n",
        "    return 1 - pow(delta * Chebyshev(L, Chebyshev(1 / L, 1 / delta) * np.sqrt(1 - Lambda)), 2)\n",
        "\n",
        "# P, Lambda must be in (0, 1), N must be a positive integer\n",
        "def GroverParameterOptimizer(P: float, Lambda: float, N: int):\n",
        "    step, L, p = pow(2, - N), 0, 0\n",
        "    done = False\n",
        "    while p < P:\n",
        "        L += 1\n",
        "        d = step\n",
        "        l = GroverQueryComplexity(d, Lambda)\n",
        "        while l > L:\n",
        "            d += step\n",
        "            l = GroverQueryComplexity(d, Lambda)\n",
        "        delta = d\n",
        "        while d < 1:\n",
        "            p_new = GroverProbability(d, Lambda)\n",
        "            if p_new >= p:\n",
        "                p, delta = p_new, d\n",
        "            d += step\n",
        "            l = GroverQueryComplexity(d, Lambda)\n",
        "\n",
        "    return delta, GroverQueryComplexity(delta, Lambda), GroverProbability(delta, Lambda)"
      ],
      "id": "mLZxhHb_0Oyl"
    },
    {
      "cell_type": "markdown",
      "metadata": {
        "id": "993346e4"
      },
      "source": [
        "# Grover Fixed Point Search for gerenal Quadratic Binary Optimization problems"
      ],
      "id": "993346e4"
    },
    {
      "cell_type": "code",
      "execution_count": 34,
      "metadata": {
        "id": "7785745f"
      },
      "outputs": [],
      "source": [
        "def GroverForQUBO(QuadraticForm: list[list[int]], digits: int, threshold: int, delta: float, Lambda: float, noise: bool):\n",
        "\n",
        "    l = int(np.ceil(np.arccosh(1 / delta) / np.arccosh(1 / np.sqrt(1 - Lambda)))) // 2\n",
        "    gamma = pow(1 - pow(np.cosh(np.arccosh(1 / delta) / (2 * l + 1)), - 2), - 1/2)\n",
        "    GroverAngles = 2 * np.arctan(gamma / np.tan(2 * np.pi * np.arange(1, l + 1) / (2 * l + 1)))\n",
        "\n",
        "    # quantum registers for the bit configurations\n",
        "    QRegX = QuantumRegister(len(QuadraticForm), \"x\")\n",
        "\n",
        "    # quantum registers to digitize values\n",
        "    QRegY = QuantumRegister(digits, \"y\")\n",
        "\n",
        "    QC = QuantumCircuit(QRegX, QRegY)\n",
        "\n",
        "    QC.h(QRegX[:] + QRegY[:])\n",
        "\n",
        "    # adding threshold - 1\n",
        "    theta = (threshold - 1) * np.pi\n",
        "    for q in reversed(QRegY):\n",
        "        QC.p(theta, q)\n",
        "        theta /= 2\n",
        "\n",
        "    for alpha, beta in zip(GroverAngles, reversed(GroverAngles)):\n",
        "\n",
        "        # S_t (beta)\n",
        "\n",
        "        # subtracting the quadratic form's value\n",
        "        for i, p in enumerate(QRegX):\n",
        "\n",
        "            # subtracting the row contributions\n",
        "            if np.sum(QuadraticForm[i]) != 0:\n",
        "                theta = - np.sum(QuadraticForm[i]) * np.pi\n",
        "                for q in reversed(QRegY):\n",
        "                    QC.cp(theta, p, q)\n",
        "                    theta /= 2\n",
        "\n",
        "            # subtracting the x_i XOR x_j contributions\n",
        "            for j, r in enumerate(QRegX[i + 1:]):\n",
        "                if QuadraticForm[i][i + 1 + j] != 0:\n",
        "                    QC.cx(p, r)\n",
        "                    theta = QuadraticForm[i][i + 1 + j] * np.pi\n",
        "                    for q in reversed(QRegY):\n",
        "                        QC.cp(theta, r, q)\n",
        "                        theta /= 2\n",
        "                    QC.cx(p, r)\n",
        "\n",
        "        # inverse QFT without the SWAPs\n",
        "        for i, q in enumerate(reversed(QRegY)):\n",
        "            QC.h(q)\n",
        "            theta = np.pi\n",
        "            for r in reversed(QRegY[:- i - 1]):\n",
        "                theta /= 2\n",
        "                QC.cp(- theta, q, r)\n",
        "\n",
        "        QC.p(beta, QRegY[0])\n",
        "\n",
        "        # QFT without the SWAPs\n",
        "        for i, q in enumerate(QRegY):\n",
        "            QC.h(q)\n",
        "            theta = np.pi\n",
        "            for r in QRegY[i + 1:]:\n",
        "                theta /= 2\n",
        "                QC.cp(theta, q, r)\n",
        "\n",
        "        # adding back the quadratic form's value\n",
        "        for i, p in enumerate(QRegX):\n",
        "\n",
        "            # adding back the row contributions\n",
        "            if np.sum(QuadraticForm[i]) != 0:\n",
        "                theta = - np.sum(QuadraticForm[i]) * np.pi\n",
        "                for q in reversed(QRegY):\n",
        "                    QC.cp(- theta, p, q)\n",
        "                    theta /= 2\n",
        "\n",
        "            # adding back the x_i XOR x_j contributions\n",
        "            for j, r in enumerate(QRegX[i + 1:]):\n",
        "                if QuadraticForm[i][i + 1 + j] != 0:\n",
        "                    QC.cx(p, r)\n",
        "                    theta = QuadraticForm[i][i + 1 + j] * np.pi\n",
        "                    for q in reversed(QRegY):\n",
        "                        QC.cp(- theta, r, q)\n",
        "                        theta /= 2\n",
        "                    QC.cx(p, r)\n",
        "\n",
        "        # S_s (alpha)\n",
        "        QC.ry(np.pi/2, QRegX)\n",
        "        QC.mcp(alpha, QRegX[1:], QRegX[0])\n",
        "        QC.ry(- np.pi/2, QRegX)\n",
        "\n",
        "    if noise:\n",
        "        QC.save_density_matrix(qubits=QRegX,\n",
        "                               label=\"rho\")\n",
        "        simulator = AerSimulator(method=\"density_matrix\",\n",
        "                                 noise_model=fake_aria)\n",
        "        QC = transpile(circuits=QC,\n",
        "                       backend=simulator,\n",
        "                       optimization_level=3)\n",
        "        return simulator.run(QC, shots=1).result().data()[\"rho\"], QC\n",
        "    else:\n",
        "        QC.save_statevector()\n",
        "        simulator = AerSimulator(method=\"statevector\")\n",
        "        return Statevector(execute(QC, simulator).result().get_statevector()), QC"
      ],
      "id": "7785745f"
    },
    {
      "cell_type": "markdown",
      "metadata": {
        "id": "7ca40d78"
      },
      "source": [
        "# parameters & testing for MaxCut:"
      ],
      "id": "7ca40d78"
    },
    {
      "cell_type": "code",
      "execution_count": 17,
      "metadata": {
        "colab": {
          "base_uri": "https://localhost:8080/",
          "height": 516
        },
        "id": "149f166a",
        "outputId": "73b88b7c-25b5-4cd8-915c-cfca8076a269",
        "scrolled": true
      },
      "outputs": [
        {
          "output_type": "display_data",
          "data": {
            "text/plain": [
              "<Figure size 640x480 with 1 Axes>"
            ],
            "image/png": "[encoded data removed]"
          },
          "metadata": {}
        }
      ],
      "source": [
        "# random, connected graph\n",
        "NumberOfVerticies, EdgeProbability, NumberOfComponents = 8, 5e-1, 0\n",
        "while NumberOfComponents != 1:\n",
        "    Graph = nx.erdos_renyi_graph(NumberOfVerticies, EdgeProbability)\n",
        "    GraphLaplacian = np.array(nx.laplacian_matrix(Graph).toarray())\n",
        "    NumberOfComponents = NumberOfVerticies - np.linalg.matrix_rank(GraphLaplacian)\n",
        "nx.draw(Graph, with_labels=False)\n",
        "\n",
        "# number of edges, Erdős-Edwards bound, and the number of ancilla qubits needed to digitize cuts\n",
        "NumberOfEdges = np.trace(GraphLaplacian) // 2\n",
        "threshold = int(np.ceil((2 * NumberOfEdges + NumberOfVerticies - 1)/4))\n",
        "digits = 1 + int(np.ceil(np.log2(max(threshold, NumberOfEdges + 1 - threshold)))) if NumberOfVerticies > 2 else 1\n",
        "\n",
        "# let's get rid of the vertex with the highest degree; this is not necessary, but saves one qubit\n",
        "maxdegvertex = np.where(np.diag(GraphLaplacian) == max(np.diag(GraphLaplacian)))[0][0]\n",
        "if maxdegvertex + 1 != NumberOfVerticies:\n",
        "    GraphLaplacian[[maxdegvertex, -1], :] = GraphLaplacian[[-1, maxdegvertex], :]\n",
        "    GraphLaplacian[:, [maxdegvertex, -1]] = GraphLaplacian[:, [-1, maxdegvertex]]\n",
        "QuadraticForm = GraphLaplacian[np.ix_(np.arange(NumberOfVerticies - 1), np.arange(NumberOfVerticies - 1))]\n",
        "\n",
        "# classical, brute-force cut-function and MaxCut computation\n",
        "cuts = np.zeros(2 ** len(QuadraticForm), dtype=int)\n",
        "for x in range(1, 2 ** len(QuadraticForm)):\n",
        "    conf = (x >> np.arange(len(QuadraticForm)))%2\n",
        "    cuts[x] = np.matmul(conf, np.matmul(QuadraticForm, np.transpose(conf)))\n",
        "MaxCut = max(cuts)\n",
        "\n",
        "# cut disctibution and ratios\n",
        "random_chance, Lambda, dp, m, sigma = {i: 0 for i in range(MaxCut + 1)}, 0, pow(2, 1 - NumberOfVerticies), NumberOfEdges / 2, np.std(cuts)\n",
        "for _, cut in enumerate(cuts):\n",
        "    random_chance[cut] += dp\n",
        "    if cut >= threshold:\n",
        "        Lambda += dp"
      ],
      "id": "149f166a"
    },
    {
      "cell_type": "code",
      "execution_count": 37,
      "metadata": {
        "colab": {
          "base_uri": "https://localhost:8080/",
          "height": 504
        },
        "id": "LEwbShaA-Kfp",
        "outputId": "6e907030-35ed-4fb4-b99b-87ca6c614b8c"
      },
      "outputs": [
        {
          "output_type": "stream",
          "name": "stdout",
          "text": [
            "number of components\tMaxCut\tthreshold\tLambda\ttarget probability\tdelta\tl\tdigits\n",
            "1\t\t\t10\t9\t\t0.11\t70.14%\t\t\t0.94\t1\t5\n",
            "\n"
          ]
        },
        {
          "output_type": "display_data",
          "data": {
            "text/plain": [
              "<Figure size 640x480 with 1 Axes>"
            ],
            "image/png": "[encoded data removed]"
          },
          "metadata": {}
        }
      ],
      "source": [
        "P = Lambda # lower bound for the target probability\n",
        "delta, l, TargetProbability = GroverParameterOptimizer(P, Lambda, 10)\n",
        "print(f\"number of components\\tMaxCut\\tthreshold\\tLambda\\ttarget probability\\tdelta\\tl\\tdigits\\n{NumberOfComponents}\\t\\t\\t{MaxCut}\\t{threshold}\\t\\t{np.round(Lambda, 2)}\\t{TargetProbability:.2%}\\t\\t\\t{np.round(delta, 2)}\\t{l}\\t{digits}\\n\")\n",
        "\n",
        "plt.bar(random_chance.keys(),\n",
        "        random_chance.values(),\n",
        "        width=0.5,\n",
        "        color=\"green\")\n",
        "plt.title(f\"cut distribution\")\n",
        "plt.ylabel(f\"probabilities\")\n",
        "plt.axvline(x = threshold - 1/2, color = \"black\", label = \"Erdős-Edwards bound\")\n",
        "plt.axvline(x = NumberOfEdges/2, color = \"red\", label = \"[edge number / 2]\")\n",
        "plt.legend(bbox_to_anchor = (1.0, 1), loc = \"upper left\")\n",
        "plt.show()"
      ],
      "id": "LEwbShaA-Kfp"
    },
    {
      "cell_type": "markdown",
      "metadata": {
        "id": "02eec6db"
      },
      "source": [
        "### simulation and evaluation of data:"
      ],
      "id": "02eec6db"
    },
    {
      "cell_type": "code",
      "execution_count": 42,
      "metadata": {
        "colab": {
          "base_uri": "https://localhost:8080/"
        },
        "id": "016ec09c",
        "outputId": "a2f4610e-6039-4555-aa6a-10a981d9581f"
      },
      "outputs": [
        {
          "output_type": "stream",
          "name": "stdout",
          "text": [
            "\n",
            "computation with Grover Fixed Point Search...\n",
            "\n",
            "done in 0.03 seconds\n",
            "\n"
          ]
        }
      ],
      "source": [
        "noise = True\n",
        "noise = False\n",
        "\n",
        "print(f\"\\ncomputation with Grover Fixed Point Search...\\n\")\n",
        "start_time = time.time()\n",
        "\n",
        "psi, qc = GroverForQUBO(QuadraticForm, digits, threshold, delta, Lambda, noise)\n",
        "\n",
        "probabilities = psi.probabilities(np.arange(NumberOfVerticies - 1))\n",
        "distribution, success = {cut: np.sum(np.where(cuts == cut, probabilities, 0)) for cut in range(MaxCut + 1)}, np.sum(np.where(cuts >= threshold, probabilities, 0))\n",
        "M, var = np.sum([cut * distribution[cut] for cut in distribution]), np.sum([cut * cut * distribution[cut] for cut in distribution])\n",
        "var, difference = np.sqrt(var - M ** 2), {cut: distribution[cut] - random_chance[cut] for cut in range(MaxCut + 1)}\n",
        "sign_m, sign_sigma = \"+\" if M >= m else \"-\", \"+\" if var >= sigma else \"-\"\n",
        "gate_count, total_gate_count = {qubit: 0 for qubit in qc.qubits}, 0\n",
        "for gate in qc.data:\n",
        "    for qubit in gate.qubits:\n",
        "        gate_count[qubit] += 1\n",
        "        total_gate_count += 1\n",
        "\n",
        "end_time = time.time()\n",
        "print(f\"done in {np.round(end_time - start_time, 2)} seconds\\n\")"
      ],
      "id": "016ec09c"
    },
    {
      "cell_type": "code",
      "source": [
        "s = f\"simulation with noise\\n\" if noise else f\"simulation without noise\\n\"\n",
        "s += f\"\\nthe graph:\\n----------\\nMaxCut\\t\\t\\t\\t= {MaxCut}\\nnumber of edges\\t\\t\\t= {NumberOfEdges}\\nthreshold (Erdős-Edwards bound)\\t= {threshold} ({threshold/MaxCut:.1%} of Maxcut)\\n\\nthe graph Laplacian:\\n--------------------\\n\\n\"\n",
        "s += f\"\".join([f\"{row.view()}\\n\" for row in GraphLaplacian])\n",
        "s += f\"\\nGrover parameters:\\n------------------\\nLambda\\t= {np.round(Lambda, 2)}\\ndelta\\t= {np.round(delta, 2)}\\nl\\t= {l}\\n\\nresults with Grover:\\n--------------------\\n\\n\"\n",
        "s += f\"success probability\\t= {success:.2%} (theoretical value = {TargetProbability:.2%}, random chance = {Lambda:.2%})\\n\\n\"\n",
        "s += f\"expectation\\t\\t= {np.round(M, 2)}\\t({m} {sign_m} {np.round(abs(M - m), 2)})\\nvariance\\t\\t= {np.round(var, 2)}\\t({np.round(sigma, 1)} {sign_sigma} {np.round(abs(var - sigma), 2)})\\n\\n\"\n",
        "s += f\"total gate count\\t= {total_gate_count}\\ncircuit depth\\t\\t= {qc.depth()}\"\n",
        "print(s)"
      ],
      "metadata": {
        "colab": {
          "base_uri": "https://localhost:8080/"
        },
        "id": "-tdL3ftb-IUz",
        "outputId": "f786d487-9ce3-4645-a18c-3ac494c05f94"
      },
      "id": "-tdL3ftb-IUz",
      "execution_count": 43,
      "outputs": [
        {
          "output_type": "stream",
          "name": "stdout",
          "text": [
            "simulation without noise\n",
            "\n",
            "the graph:\n",
            "----------\n",
            "MaxCut\t\t\t\t= 10\n",
            "number of edges\t\t\t= 13\n",
            "threshold (Erdős-Edwards bound)\t= 9 (90.0% of Maxcut)\n",
            "\n",
            "the graph Laplacian:\n",
            "--------------------\n",
            "\n",
            "[ 2  0  0  0 -1 -1  0  0]\n",
            "[ 0  2  0  0  0  0 -1 -1]\n",
            "[ 0  0  3  0 -1  0 -1 -1]\n",
            "[ 0  0  0  3  0 -1 -1 -1]\n",
            "[-1  0 -1  0  3 -1  0  0]\n",
            "[-1  0  0 -1 -1  4  0 -1]\n",
            "[ 0 -1 -1 -1  0  0  4 -1]\n",
            "[ 0 -1 -1 -1  0 -1 -1  5]\n",
            "\n",
            "Grover parameters:\n",
            "------------------\n",
            "Lambda\t= 0.11\n",
            "delta\t= 0.94\n",
            "l\t= 1\n",
            "\n",
            "results with Grover:\n",
            "--------------------\n",
            "\n",
            "success probability\t= 70.14% (theoretical value = 70.14%, random chance = 10.94%)\n",
            "\n",
            "expectation\t\t= 8.3\t(6.5 + 1.8)\n",
            "variance\t\t= 1.69\t(1.8 - 0.12)\n",
            "\n",
            "total gate count\t= 425\n",
            "circuit depth\t\t= 130\n"
          ]
        }
      ]
    },
    {
      "cell_type": "code",
      "execution_count": 40,
      "metadata": {
        "colab": {
          "base_uri": "https://localhost:8080/",
          "height": 466
        },
        "id": "ZIXBoQB_3z82",
        "outputId": "2b00c00b-d525-4a1d-b274-ceb7801f4f08"
      },
      "outputs": [
        {
          "output_type": "execute_result",
          "data": {
            "text/plain": [
              "<matplotlib.legend.Legend at 0x78e521174c70>"
            ]
          },
          "metadata": {},
          "execution_count": 40
        },
        {
          "output_type": "display_data",
          "data": {
            "text/plain": [
              "<Figure size 640x480 with 2 Axes>"
            ],
            "image/png": "[encoded data removed]"
          },
          "metadata": {}
        }
      ],
      "source": [
        "fig, axs = plt.subplots(nrows=1, ncols=2, sharey=True)\n",
        "\n",
        "axs[0].bar(random_chance.keys(),\n",
        "           random_chance.values(),\n",
        "           width=0.5,\n",
        "           color=\"red\",\n",
        "           tick_label=np.arange(MaxCut + 1))\n",
        "axs[0].set(xlabel=f\"before Grover\", ylabel=f\"probabilities\")\n",
        "axs[0].axvline(x = threshold - 1/2, color = \"black\")\n",
        "\n",
        "axs[1].bar(distribution.keys(),\n",
        "           distribution.values(),\n",
        "           width=0.5,\n",
        "           color=\"midnightblue\",\n",
        "           tick_label=np.arange(MaxCut + 1))\n",
        "axs[1].set(xlabel=f\"after Grover\")\n",
        "axs[1].axvline(x = threshold - 1/2, color = \"black\", label = \"Erdős-Edwards bound\")\n",
        "plt.legend(bbox_to_anchor = (1.0, 1), loc = \"upper left\")"
      ],
      "id": "ZIXBoQB_3z82"
    },
    {
      "cell_type": "code",
      "execution_count": 41,
      "metadata": {
        "colab": {
          "base_uri": "https://localhost:8080/"
        },
        "id": "4HSl-4AU3Etl",
        "outputId": "aac43f01-df94-40be-c020-60a874c1196f"
      },
      "outputs": [
        {
          "output_type": "execute_result",
          "data": {
            "text/plain": [
              "({Qubit(QuantumRegister(7, 'x'), 0): 13,\n",
              "  Qubit(QuantumRegister(7, 'x'), 1): 19,\n",
              "  Qubit(QuantumRegister(7, 'x'), 2): 23,\n",
              "  Qubit(QuantumRegister(7, 'x'), 3): 23,\n",
              "  Qubit(QuantumRegister(7, 'x'), 4): 37,\n",
              "  Qubit(QuantumRegister(7, 'x'), 5): 57,\n",
              "  Qubit(QuantumRegister(7, 'x'), 6): 57,\n",
              "  Qubit(QuantumRegister(5, 'y'), 0): 40,\n",
              "  Qubit(QuantumRegister(5, 'y'), 1): 39,\n",
              "  Qubit(QuantumRegister(5, 'y'), 2): 39,\n",
              "  Qubit(QuantumRegister(5, 'y'), 3): 39,\n",
              "  Qubit(QuantumRegister(5, 'y'), 4): 39},\n",
              " 425,\n",
              " 130,\n",
              " 2.576941016011038,\n",
              " 1.4252192813739224,\n",
              " 32.69230769230769,\n",
              " 10.0)"
            ]
          },
          "metadata": {},
          "execution_count": 41
        }
      ],
      "source": [
        "gate_count, total_gate_count, qc.depth(), np.sqrt(total_gate_count) / NumberOfVerticies, np.sqrt(qc.depth()) / NumberOfVerticies, total_gate_count / NumberOfEdges, qc.depth() / NumberOfEdges"
      ],
      "id": "4HSl-4AU3Etl"
    },
    {
      "cell_type": "markdown",
      "metadata": {
        "id": "LquV_OpOCMbN"
      },
      "source": [
        "# adaptive search"
      ],
      "id": "LquV_OpOCMbN"
    },
    {
      "cell_type": "code",
      "execution_count": null,
      "metadata": {
        "colab": {
          "base_uri": "https://localhost:8080/"
        },
        "id": "6mAA2JueAj8s",
        "outputId": "72050977-f658-442e-a484-d61e16b36295"
      },
      "outputs": [
        {
          "name": "stdout",
          "output_type": "stream",
          "text": [
            "[[1, 1, 1, 0, 0, 1, 0], 7, 0.5, 1]\n",
            "[[1, 1, 1, 0, 0, 1, 0], 7, 0.5, 1]\n",
            "[[1, 1, 1, 1, 0, 1, 1], 8, 0.25, 1]\n",
            "[[1, 1, 1, 1, 0, 1, 1], 8, 0.25, 1]\n",
            "[[1, 1, 1, 1, 0, 1, 1], 8, 0.25, 1]\n",
            "[[0, 1, 0, 0, 1, 1, 0], 9, 0.125, 1]\n",
            "[[0, 1, 0, 0, 1, 1, 0], 9, 0.125, 2]\n",
            "[[0, 1, 0, 0, 1, 1, 0], 9, 0.125, 2]\n",
            "[[0, 1, 0, 0, 1, 1, 0], 9, 0.125, 2]\n",
            "[[0, 1, 0, 0, 1, 1, 0], 9, 0.125, 2]\n",
            "\n",
            "output = [0, 1, 0, 0, 1, 1, 0] & 9\n"
          ]
        }
      ],
      "source": [
        "#QuadraticForm =\n",
        "MaxStep = 10\n",
        "MinLambda = 1e-1\n",
        "MaxQuery = 3\n",
        "TargetValue = threshold\n",
        "Probability = 0.9\n",
        "#digits =\n",
        "\n",
        "def IsDone(value: int, step: int, Lambda: float):\n",
        "    _, l, _ = GroverParameterOptimizer(Probability, Lambda, 10)\n",
        "    return value >= TargetValue or step > MaxStep or Lambda < MinLambda or l > MaxQuery\n",
        "\n",
        "step, x, Lambda = 1, np.random.randint(2, size=len(QuadraticForm)), 5e-1\n",
        "value = np.matmul(x, np.matmul(QuadraticForm, np.transpose(x)))\n",
        "_, l, _ = GroverParameterOptimizer(Probability, Lambda, 10)\n",
        "\n",
        "results = [[x, value, Lambda, l]]\n",
        "\n",
        "while not IsDone(value, step, Lambda):\n",
        "\n",
        "    delta, l, _ = GroverParameterOptimizer(Probability, Lambda, 10)\n",
        "    gamma = pow(1 - pow(np.cosh(np.arccosh(1 / delta) / (2 * l + 1)), - 2), - 1/2)\n",
        "    GroverAngles = [2 * np.arctan(gamma / np.tan(2 * np.pi * j / (2 * l + 1))) for j in range(1, l + 1)]\n",
        "\n",
        "    # quantum registers for the bit configurations\n",
        "    QRegX = QuantumRegister(len(QuadraticForm), \"x\")\n",
        "\n",
        "    # quantum registers to digitize values\n",
        "    QRegY = QuantumRegister(digits, \"y\")\n",
        "\n",
        "    # classical registers for the output\n",
        "    ClRegX = ClassicalRegister(len(QuadraticForm), \"c\")\n",
        "\n",
        "    QC = QuantumCircuit(QRegX, QRegY, ClRegX)\n",
        "\n",
        "    QC.h(QRegX[:] + QRegY[:])\n",
        "\n",
        "    # adding value - offset; the offset could have gone to later parts of the code, but this it's cheaper this way\n",
        "    theta = (value - 1/2 - (np.sum(QuadraticForm) + np.trace(QuadraticForm))/4) * np.pi\n",
        "    for i, q in enumerate(reversed(QRegY)):\n",
        "        QC.rz(theta - np.pi/2, q)\n",
        "        theta /= 2\n",
        "\n",
        "    for alpha, beta in zip(GroverAngles, reversed(GroverAngles)):\n",
        "\n",
        "        # S_t (beta)\n",
        "        for i, p in enumerate(QRegX):\n",
        "\n",
        "            if np.sum(QuadraticForm[i]) != 0:\n",
        "                theta = np.sum(QuadraticForm[i]) * np.pi\n",
        "                for q in reversed(QRegY):\n",
        "                    QC.cx(p, q)\n",
        "                    theta /= 2\n",
        "                    QC.rz(theta, q)\n",
        "                    QC.cx(p, q)\n",
        "\n",
        "            for j, r in enumerate(QRegX[i + 1:]):\n",
        "                if QuadraticForm[i][i + 1 + j] != 0:\n",
        "                    QC.cx(p, r)\n",
        "                    theta = QuadraticForm[i][i + 1 + j] * np.pi\n",
        "                    for q in reversed(QRegY):\n",
        "                        QC.cx(r, q)\n",
        "                        theta /= 2\n",
        "                        QC.rz(- theta, q)\n",
        "                        QC.cx(r, q)\n",
        "                    QC.cx(p, r)\n",
        "\n",
        "        for i, q in enumerate(reversed(QRegY[1:])):\n",
        "            QC.h(q)\n",
        "            for j, r in enumerate(QRegY[:len(QRegY) - 1 - i]):\n",
        "                QC.cx(q, r)\n",
        "                QC.rz(pow(2, i + j - digits) * np.pi, r)\n",
        "            for r in QRegY[:len(QRegY) - 2 - i]:\n",
        "                QC.cx(q, r)\n",
        "\n",
        "        QC.rx(beta, QRegY[0])\n",
        "\n",
        "        for i, q in enumerate(QRegY[1:]):\n",
        "            for r in reversed(QRegY[:i]):\n",
        "                QC.cx(q, r)\n",
        "            theta = np.pi / 2\n",
        "            for r in reversed(QRegY[:i+1]):\n",
        "                theta /= 2\n",
        "                QC.rz(- theta, r)\n",
        "                QC.cx(q, r)\n",
        "            QC.h(q)\n",
        "\n",
        "        for i, p in enumerate(reversed(QRegX)):\n",
        "\n",
        "            for j, r in enumerate(reversed(QRegX[len(QRegX) - i:])):\n",
        "                if QuadraticForm[- i - 1][- j - 1] != 0:\n",
        "                    QC.cx(p, r)\n",
        "                    theta = QuadraticForm[- i - 1][- j - 1] * np.pi\n",
        "                    for q in reversed(QRegY):\n",
        "                        theta /= 2\n",
        "                        QC.cx(r, q)\n",
        "                        QC.rz(theta, q)\n",
        "                        QC.cx(r, q)\n",
        "                    QC.cx(p, r)\n",
        "\n",
        "            if np.sum(QuadraticForm[- i - 1]) != 0:\n",
        "                theta = np.sum(QuadraticForm[- i - 1]) * np.pi\n",
        "                for q in reversed(QRegY):\n",
        "                    theta /= 2\n",
        "                    QC.cx(p, q)\n",
        "                    QC.rz(- theta, q)\n",
        "                    QC.cx(p, q)\n",
        "\n",
        "        # S_s (alpha)\n",
        "        QC.ry(np.pi/2, QRegX)\n",
        "        QC.mcp(alpha, QRegX[1:], QRegX[0])\n",
        "        QC.ry(- np.pi/2, QRegX)\n",
        "\n",
        "        QC.measure(QRegX, ClRegX)\n",
        "\n",
        "        simulator = AerSimulator()\n",
        "        QC = transpile(circuits=QC,\n",
        "                       backend=simulator,\n",
        "                       optimization_level=3)\n",
        "\n",
        "        z = np.array([int(i) for i in [s[::-1] for s in simulator.run(QC, shots=1).result().get_counts()][0][::-1]])\n",
        "\n",
        "        step += 1\n",
        "        if np.matmul(z, np.matmul(QuadraticForm, np.transpose(z))) > value:\n",
        "            x, value, Lambda = z, np.matmul(z, np.matmul(QuadraticForm, np.transpose(z))), Lambda / 2\n",
        "\n",
        "        results.append([x, value, Lambda])\n",
        "        print([list(x), value, Lambda, l])\n",
        "\n",
        "print(f\"\\noutput = {list(x)} & {value}\")\n",
        "#print(results)"
      ],
      "id": "6mAA2JueAj8s"
    },
    {
      "cell_type": "markdown",
      "metadata": {
        "id": "-VCYstrbAc25"
      },
      "source": [
        "# Appendix: Grover parameters"
      ],
      "id": "-VCYstrbAc25"
    },
    {
      "cell_type": "code",
      "execution_count": null,
      "metadata": {
        "colab": {
          "base_uri": "https://localhost:8080/",
          "height": 449
        },
        "id": "4FttRkcfLI9z",
        "outputId": "f6a8a3a5-0754-4abf-de2b-78ee36dc2b78"
      },
      "outputs": [
        {
          "data": {
            "image/png": "[encoded data removed]",
            "text/plain": [
              "<Figure size 640x480 with 1 Axes>"
            ]
          },
          "metadata": {},
          "output_type": "display_data"
        }
      ],
      "source": [
        "Lambda = 5e-1\n",
        "N = 12\n",
        "step = pow(2, - N)\n",
        "prob = 0.95\n",
        "\n",
        "deltas = np.arange(step, 1 - step, step, dtype=float)\n",
        "P = np.zeros(len(deltas), dtype=float)\n",
        "\n",
        "simplicity = np.ones(len(deltas), dtype=float)\n",
        "treshold = prob * np.ones(len(deltas), dtype=float)\n",
        "\n",
        "for i, delta in enumerate(deltas):\n",
        "    l = GroverQueryComplexity(delta, Lambda)\n",
        "    simplicity[i] = 1/(l+1)\n",
        "    P[i] = Lambda if l == 0 else GroverProbability(delta, Lambda)\n",
        "\n",
        "plt.xlabel(f\"delta\")\n",
        "plt.plot(deltas,P)\n",
        "plt.plot(deltas,simplicity)\n",
        "plt.plot(deltas,treshold)\n",
        "plt.plot(np.sqrt(1-prob), GroverProbability(np.sqrt(1-prob), Lambda), \"ro\")\n",
        "plt.show()"
      ],
      "id": "4FttRkcfLI9z"
    },
    {
      "cell_type": "code",
      "execution_count": null,
      "metadata": {
        "colab": {
          "base_uri": "https://localhost:8080/",
          "height": 449
        },
        "id": "KLvPDzoNXmQ0",
        "outputId": "d4a9ebed-1940-425f-e8da-6b1689f79c9e"
      },
      "outputs": [
        {
          "data": {
            "image/png": "[encoded data removed]",
            "text/plain": [
              "<Figure size 640x480 with 1 Axes>"
            ]
          },
          "metadata": {},
          "output_type": "display_data"
        }
      ],
      "source": [
        "Lambda = 1e-1\n",
        "N = 12\n",
        "step = pow(2, - N)\n",
        "prob = 0.9\n",
        "\n",
        "deltas = np.arange(step, 1 - step, step, dtype=float)\n",
        "P = np.zeros(len(deltas), dtype=float)\n",
        "\n",
        "simplicity = np.ones(len(deltas), dtype=float)\n",
        "treshold = prob * np.ones(len(deltas), dtype=float)\n",
        "\n",
        "for i, delta in enumerate(deltas):\n",
        "    l = GroverQueryComplexity(delta, Lambda)\n",
        "    simplicity[i] = 1/(l+1)\n",
        "    P[i] = Lambda if l == 0 else GroverProbability(delta, Lambda)\n",
        "\n",
        "plt.xlabel(f\"delta\")\n",
        "plt.plot(deltas,P)\n",
        "plt.plot(deltas,simplicity)\n",
        "plt.plot(deltas,treshold)\n",
        "plt.plot(np.sqrt(1-prob), GroverProbability(np.sqrt(1-prob), Lambda), \"ro\")\n",
        "plt.show()"
      ],
      "id": "KLvPDzoNXmQ0"
    },
    {
      "cell_type": "code",
      "execution_count": null,
      "metadata": {
        "colab": {
          "base_uri": "https://localhost:8080/",
          "height": 449
        },
        "id": "Q6n2QubrJ9zK",
        "outputId": "15da9427-bf9c-4bf3-d272-26592af6ae01"
      },
      "outputs": [
        {
          "data": {
            "image/png": "[encoded data removed]",
            "text/plain": [
              "<Figure size 640x480 with 1 Axes>"
            ]
          },
          "metadata": {},
          "output_type": "display_data"
        }
      ],
      "source": [
        "Lambda = 1e-5\n",
        "N = 12\n",
        "step = pow(2, - N)\n",
        "prob = 0.95\n",
        "\n",
        "deltas = np.arange(step, 1 - step, step, dtype=float)\n",
        "P = np.zeros(len(deltas), dtype=float)\n",
        "\n",
        "simplicity = np.ones(len(deltas), dtype=float)\n",
        "treshold = prob * np.ones(len(deltas), dtype=float)\n",
        "\n",
        "for i, delta in enumerate(deltas):\n",
        "    l = GroverQueryComplexity(delta, Lambda)\n",
        "    simplicity[i] = 1/(l+1)\n",
        "    P[i] = Lambda if l == 0 else GroverProbability(delta, Lambda)\n",
        "\n",
        "plt.xlabel(f\"delta\")\n",
        "plt.plot(deltas,P)\n",
        "plt.plot(deltas,simplicity)\n",
        "plt.plot(deltas,treshold)\n",
        "plt.plot(np.sqrt(1-prob), GroverProbability(np.sqrt(1-prob), Lambda), \"ro\")\n",
        "plt.show()"
      ],
      "id": "Q6n2QubrJ9zK"
    },
    {
      "cell_type": "code",
      "source": [],
      "metadata": {
        "id": "g6iLLuDKdjcw"
      },
      "id": "g6iLLuDKdjcw",
      "execution_count": null,
      "outputs": []
    }
  ],
  "metadata": {
    "colab": {
      "collapsed_sections": [
        "THzaoqHo13RE",
        "FTiJALVtnQIW",
        "IPRVQYBNTx8w",
        "kZZELK6X0Djw",
        "uPdo4AqbiLkw",
        "V-voj0syK7t6",
        "4JOxrrxxqNcT"
      ],
      "provenance": []
    },
    "kernelspec": {
      "display_name": "Python 3 (ipykernel)",
      "language": "python",
      "name": "python3"
    },
    "language_info": {
      "codemirror_mode": {
        "name": "ipython",
        "version": 3
      },
      "file_extension": ".py",
      "mimetype": "text/x-python",
      "name": "python",
      "nbconvert_exporter": "python",
      "pygments_lexer": "ipython3",
      "version": "3.11.3"
    }
  },
  "nbformat": 4,
  "nbformat_minor": 5
}